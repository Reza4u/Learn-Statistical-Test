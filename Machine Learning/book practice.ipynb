{
 "cells": [
  {
   "cell_type": "code",
   "execution_count": 71,
   "id": "8b46a8bb",
   "metadata": {
    "vscode": {
     "languageId": "r"
    }
   },
   "outputs": [
    {
     "data": {
      "text/html": [
       "<table class=\"dataframe\">\n",
       "<caption>A data.frame: 6 × 8</caption>\n",
       "<thead>\n",
       "\t<tr><th></th><th scope=col>Survived</th><th scope=col>Pclass</th><th scope=col>Name</th><th scope=col>Sex</th><th scope=col>Age</th><th scope=col>SiblingsSpousesAboard</th><th scope=col>ParentsChildrenAboard</th><th scope=col>FareInPounds</th></tr>\n",
       "\t<tr><th></th><th scope=col>&lt;int&gt;</th><th scope=col>&lt;int&gt;</th><th scope=col>&lt;chr&gt;</th><th scope=col>&lt;chr&gt;</th><th scope=col>&lt;dbl&gt;</th><th scope=col>&lt;int&gt;</th><th scope=col>&lt;int&gt;</th><th scope=col>&lt;dbl&gt;</th></tr>\n",
       "</thead>\n",
       "<tbody>\n",
       "\t<tr><th scope=row>1</th><td>0</td><td>3</td><td>Mr. Owen Harris Braund     </td><td>male  </td><td>22</td><td>1</td><td>0</td><td> 7.2500</td></tr>\n",
       "\t<tr><th scope=row>2</th><td>1</td><td>1</td><td>Mrs. John Bradley Cumings  </td><td>female</td><td>38</td><td>1</td><td>0</td><td>71.2833</td></tr>\n",
       "\t<tr><th scope=row>3</th><td>1</td><td>3</td><td>Miss. Laina Heikkinen      </td><td>female</td><td>26</td><td>0</td><td>0</td><td> 7.9250</td></tr>\n",
       "\t<tr><th scope=row>4</th><td>1</td><td>1</td><td>Mrs. Jacques Heath Futrelle</td><td>female</td><td>35</td><td>1</td><td>0</td><td>53.1000</td></tr>\n",
       "\t<tr><th scope=row>5</th><td>0</td><td>3</td><td>Mr. William Henry Allen    </td><td>male  </td><td>35</td><td>0</td><td>0</td><td> 8.0500</td></tr>\n",
       "\t<tr><th scope=row>6</th><td>0</td><td>3</td><td>Mr. James Moran            </td><td>male  </td><td>27</td><td>0</td><td>0</td><td> 8.4583</td></tr>\n",
       "</tbody>\n",
       "</table>\n"
      ],
      "text/latex": [
       "A data.frame: 6 × 8\n",
       "\\begin{tabular}{r|llllllll}\n",
       "  & Survived & Pclass & Name & Sex & Age & SiblingsSpousesAboard & ParentsChildrenAboard & FareInPounds\\\\\n",
       "  & <int> & <int> & <chr> & <chr> & <dbl> & <int> & <int> & <dbl>\\\\\n",
       "\\hline\n",
       "\t1 & 0 & 3 & Mr. Owen Harris Braund      & male   & 22 & 1 & 0 &  7.2500\\\\\n",
       "\t2 & 1 & 1 & Mrs. John Bradley Cumings   & female & 38 & 1 & 0 & 71.2833\\\\\n",
       "\t3 & 1 & 3 & Miss. Laina Heikkinen       & female & 26 & 0 & 0 &  7.9250\\\\\n",
       "\t4 & 1 & 1 & Mrs. Jacques Heath Futrelle & female & 35 & 1 & 0 & 53.1000\\\\\n",
       "\t5 & 0 & 3 & Mr. William Henry Allen     & male   & 35 & 0 & 0 &  8.0500\\\\\n",
       "\t6 & 0 & 3 & Mr. James Moran             & male   & 27 & 0 & 0 &  8.4583\\\\\n",
       "\\end{tabular}\n"
      ],
      "text/markdown": [
       "\n",
       "A data.frame: 6 × 8\n",
       "\n",
       "| <!--/--> | Survived &lt;int&gt; | Pclass &lt;int&gt; | Name &lt;chr&gt; | Sex &lt;chr&gt; | Age &lt;dbl&gt; | SiblingsSpousesAboard &lt;int&gt; | ParentsChildrenAboard &lt;int&gt; | FareInPounds &lt;dbl&gt; |\n",
       "|---|---|---|---|---|---|---|---|---|\n",
       "| 1 | 0 | 3 | Mr. Owen Harris Braund      | male   | 22 | 1 | 0 |  7.2500 |\n",
       "| 2 | 1 | 1 | Mrs. John Bradley Cumings   | female | 38 | 1 | 0 | 71.2833 |\n",
       "| 3 | 1 | 3 | Miss. Laina Heikkinen       | female | 26 | 0 | 0 |  7.9250 |\n",
       "| 4 | 1 | 1 | Mrs. Jacques Heath Futrelle | female | 35 | 1 | 0 | 53.1000 |\n",
       "| 5 | 0 | 3 | Mr. William Henry Allen     | male   | 35 | 0 | 0 |  8.0500 |\n",
       "| 6 | 0 | 3 | Mr. James Moran             | male   | 27 | 0 | 0 |  8.4583 |\n",
       "\n"
      ],
      "text/plain": [
       "  Survived Pclass Name                        Sex    Age SiblingsSpousesAboard\n",
       "1 0        3      Mr. Owen Harris Braund      male   22  1                    \n",
       "2 1        1      Mrs. John Bradley Cumings   female 38  1                    \n",
       "3 1        3      Miss. Laina Heikkinen       female 26  0                    \n",
       "4 1        1      Mrs. Jacques Heath Futrelle female 35  1                    \n",
       "5 0        3      Mr. William Henry Allen     male   35  0                    \n",
       "6 0        3      Mr. James Moran             male   27  0                    \n",
       "  ParentsChildrenAboard FareInPounds\n",
       "1 0                      7.2500     \n",
       "2 0                     71.2833     \n",
       "3 0                      7.9250     \n",
       "4 0                     53.1000     \n",
       "5 0                      8.0500     \n",
       "6 0                      8.4583     "
      ]
     },
     "metadata": {},
     "output_type": "display_data"
    }
   ],
   "source": [
    "library(tidyverse) ; library(rio)\n",
    "\n",
    "DataTitanic<- import(\"https://ai.lange-analytics.com/data/Titanic.csv\")\n",
    "head(DataTitanic)"
   ]
  },
  {
   "cell_type": "code",
   "execution_count": 72,
   "id": "127c1868",
   "metadata": {
    "vscode": {
     "languageId": "r"
    }
   },
   "outputs": [],
   "source": [
    "DataAnalysis<- DataTitanic |>\n",
    "select( Survived, Sex, Pclass ) |>\n",
    "mutate( Survived= as.logical(\tSurvived))"
   ]
  },
  {
   "cell_type": "code",
   "execution_count": 73,
   "id": "cc002fe2",
   "metadata": {
    "vscode": {
     "languageId": "r"
    }
   },
   "outputs": [
    {
     "data": {
      "text/html": [
       "<table class=\"dataframe\">\n",
       "<caption>A data.frame: 6 × 3</caption>\n",
       "<thead>\n",
       "\t<tr><th></th><th scope=col>Survived</th><th scope=col>Sex</th><th scope=col>Pclass</th></tr>\n",
       "\t<tr><th></th><th scope=col>&lt;lgl&gt;</th><th scope=col>&lt;chr&gt;</th><th scope=col>&lt;int&gt;</th></tr>\n",
       "</thead>\n",
       "<tbody>\n",
       "\t<tr><th scope=row>1</th><td>TRUE</td><td>female</td><td>1</td></tr>\n",
       "\t<tr><th scope=row>2</th><td>TRUE</td><td>female</td><td>3</td></tr>\n",
       "\t<tr><th scope=row>3</th><td>TRUE</td><td>female</td><td>1</td></tr>\n",
       "\t<tr><th scope=row>4</th><td>TRUE</td><td>female</td><td>3</td></tr>\n",
       "\t<tr><th scope=row>5</th><td>TRUE</td><td>female</td><td>2</td></tr>\n",
       "\t<tr><th scope=row>6</th><td>TRUE</td><td>female</td><td>3</td></tr>\n",
       "</tbody>\n",
       "</table>\n"
      ],
      "text/latex": [
       "A data.frame: 6 × 3\n",
       "\\begin{tabular}{r|lll}\n",
       "  & Survived & Sex & Pclass\\\\\n",
       "  & <lgl> & <chr> & <int>\\\\\n",
       "\\hline\n",
       "\t1 & TRUE & female & 1\\\\\n",
       "\t2 & TRUE & female & 3\\\\\n",
       "\t3 & TRUE & female & 1\\\\\n",
       "\t4 & TRUE & female & 3\\\\\n",
       "\t5 & TRUE & female & 2\\\\\n",
       "\t6 & TRUE & female & 3\\\\\n",
       "\\end{tabular}\n"
      ],
      "text/markdown": [
       "\n",
       "A data.frame: 6 × 3\n",
       "\n",
       "| <!--/--> | Survived &lt;lgl&gt; | Sex &lt;chr&gt; | Pclass &lt;int&gt; |\n",
       "|---|---|---|---|\n",
       "| 1 | TRUE | female | 1 |\n",
       "| 2 | TRUE | female | 3 |\n",
       "| 3 | TRUE | female | 1 |\n",
       "| 4 | TRUE | female | 3 |\n",
       "| 5 | TRUE | female | 2 |\n",
       "| 6 | TRUE | female | 3 |\n",
       "\n"
      ],
      "text/plain": [
       "  Survived Sex    Pclass\n",
       "1 TRUE     female 1     \n",
       "2 TRUE     female 3     \n",
       "3 TRUE     female 1     \n",
       "4 TRUE     female 3     \n",
       "5 TRUE     female 2     \n",
       "6 TRUE     female 3     "
      ]
     },
     "metadata": {},
     "output_type": "display_data"
    },
    {
     "data": {
      "text/html": [
       "<table class=\"dataframe\">\n",
       "<caption>A data.frame: 6 × 3</caption>\n",
       "<thead>\n",
       "\t<tr><th></th><th scope=col>Survived</th><th scope=col>Sex</th><th scope=col>Pclass</th></tr>\n",
       "\t<tr><th></th><th scope=col>&lt;lgl&gt;</th><th scope=col>&lt;chr&gt;</th><th scope=col>&lt;int&gt;</th></tr>\n",
       "</thead>\n",
       "<tbody>\n",
       "\t<tr><th scope=row>1</th><td>FALSE</td><td>male</td><td>3</td></tr>\n",
       "\t<tr><th scope=row>2</th><td>FALSE</td><td>male</td><td>3</td></tr>\n",
       "\t<tr><th scope=row>3</th><td>FALSE</td><td>male</td><td>3</td></tr>\n",
       "\t<tr><th scope=row>4</th><td>FALSE</td><td>male</td><td>1</td></tr>\n",
       "\t<tr><th scope=row>5</th><td>FALSE</td><td>male</td><td>3</td></tr>\n",
       "\t<tr><th scope=row>6</th><td>FALSE</td><td>male</td><td>3</td></tr>\n",
       "</tbody>\n",
       "</table>\n"
      ],
      "text/latex": [
       "A data.frame: 6 × 3\n",
       "\\begin{tabular}{r|lll}\n",
       "  & Survived & Sex & Pclass\\\\\n",
       "  & <lgl> & <chr> & <int>\\\\\n",
       "\\hline\n",
       "\t1 & FALSE & male & 3\\\\\n",
       "\t2 & FALSE & male & 3\\\\\n",
       "\t3 & FALSE & male & 3\\\\\n",
       "\t4 & FALSE & male & 1\\\\\n",
       "\t5 & FALSE & male & 3\\\\\n",
       "\t6 & FALSE & male & 3\\\\\n",
       "\\end{tabular}\n"
      ],
      "text/markdown": [
       "\n",
       "A data.frame: 6 × 3\n",
       "\n",
       "| <!--/--> | Survived &lt;lgl&gt; | Sex &lt;chr&gt; | Pclass &lt;int&gt; |\n",
       "|---|---|---|---|\n",
       "| 1 | FALSE | male | 3 |\n",
       "| 2 | FALSE | male | 3 |\n",
       "| 3 | FALSE | male | 3 |\n",
       "| 4 | FALSE | male | 1 |\n",
       "| 5 | FALSE | male | 3 |\n",
       "| 6 | FALSE | male | 3 |\n",
       "\n"
      ],
      "text/plain": [
       "  Survived Sex  Pclass\n",
       "1 FALSE    male 3     \n",
       "2 FALSE    male 3     \n",
       "3 FALSE    male 3     \n",
       "4 FALSE    male 1     \n",
       "5 FALSE    male 3     \n",
       "6 FALSE    male 3     "
      ]
     },
     "metadata": {},
     "output_type": "display_data"
    }
   ],
   "source": [
    "DataWomen=DataAnalysis |>\n",
    "filter(Sex == \"female\")\n",
    "DataMen=DataAnalysis |>\n",
    "filter(Sex == \"male\")\n",
    "head(DataWomen)\n",
    "head(DataMen)"
   ]
  },
  {
   "cell_type": "code",
   "execution_count": 74,
   "id": "870cafc7",
   "metadata": {
    "vscode": {
     "languageId": "r"
    }
   },
   "outputs": [
    {
     "name": "stdout",
     "output_type": "stream",
     "text": [
      "The survival rate for wommen is: 0.7420382"
     ]
    }
   ],
   "source": [
    "FemSurv=sum(DataWomen$Survived)\n",
    "FemTotal=length(DataWomen$Survived)\n",
    "FemSurvRate= FemSurv/FemTotal\n",
    "cat(\"The survival rate for wommen is:\",FemSurvRate)"
   ]
  },
  {
   "cell_type": "code",
   "execution_count": 75,
   "id": "0547b1df",
   "metadata": {
    "vscode": {
     "languageId": "r"
    }
   },
   "outputs": [
    {
     "name": "stdout",
     "output_type": "stream",
     "text": [
      "The survival rate for Men is: 0.1902269"
     ]
    }
   ],
   "source": [
    "MaleSurv=sum(as.numeric(DataMen$Survived))\n",
    "\n",
    "MaleTotal=length(as.numeric(DataMen$Survived))\n",
    "MaleSurvRate= MaleSurv/MaleTotal\n",
    "cat(\"The survival rate for Men is:\", MaleSurvRate)"
   ]
  },
  {
   "cell_type": "code",
   "execution_count": 76,
   "id": "b0958709",
   "metadata": {
    "vscode": {
     "languageId": "r"
    }
   },
   "outputs": [
    {
     "name": "stdout",
     "output_type": "stream",
     "text": [
      "The survival rate for men is 0.1902269"
     ]
    }
   ],
   "source": [
    "MaleSurvRate= mean(DataMen$Survived)\n",
    "cat(\"The survival rate for men is\",MaleSurvRate)"
   ]
  },
  {
   "cell_type": "code",
   "execution_count": 77,
   "id": "4dca99a3",
   "metadata": {
    "vscode": {
     "languageId": "r"
    }
   },
   "outputs": [
    {
     "name": "stdout",
     "output_type": "stream",
     "text": [
      "The survival rate for women is: 0.7420382 \n",
      " The survival rate for men is: 0.1902269"
     ]
    }
   ],
   "source": [
    "cat(\"The survival rate for women is:\", FemSurvRate, \"\\n\", \n",
    "\"The survival rate for men is:\", MaleSurvRate )"
   ]
  },
  {
   "cell_type": "code",
   "execution_count": 78,
   "id": "759c74ff",
   "metadata": {
    "vscode": {
     "languageId": "r"
    }
   },
   "outputs": [
    {
     "name": "stdout",
     "output_type": "stream",
     "text": [
      "\n",
      "\t2-sample test for equality of proportions with continuity correction\n",
      "\n",
      "data:  c(FemSurv, MaleSurv) out of c(FemTotal, MaleTotal)\n",
      "X-squared = 258.39, df = 1, p-value < 2.2e-16\n",
      "alternative hypothesis: two.sided\n",
      "95 percent confidence interval:\n",
      " 0.4912560 0.6123667\n",
      "sample estimates:\n",
      "   prop 1    prop 2 \n",
      "0.7420382 0.1902269 \n",
      "\n"
     ]
    }
   ],
   "source": [
    "ModelPropFemaleVsMale=prop.test(c(FemSurv, MaleSurv),\n",
    "c(FemTotal, MaleTotal))\n",
    "\n",
    "print(ModelPropFemaleVsMale)\n"
   ]
  },
  {
   "cell_type": "code",
   "execution_count": 79,
   "id": "634e077e",
   "metadata": {
    "vscode": {
     "languageId": "r"
    }
   },
   "outputs": [
    {
     "name": "stdout",
     "output_type": "stream",
     "text": [
      "Survival rate in class 1: 0.6296296 \n",
      "Survival rate in class 2: 0.4728261 \n",
      "Survival rate in class 3: 0.2443532 \n"
     ]
    }
   ],
   "source": [
    "DataClass1= DataAnalysis |>\n",
    "filter( Pclass == 1)\n",
    "DataClass2= DataAnalysis |>\n",
    "filter( Pclass == 2)\n",
    "DataClass3= DataAnalysis |>\n",
    "filter( Pclass == 3)\n",
    "Class1SurvRate= mean(DataClass1$Survived )\n",
    "Class2SurvRate=  mean(DataClass2$Survived )\n",
    "Class3SurvRate=  mean(DataClass3$Survived )\n",
    "cat(\"Survival rate in class 1:\", Class1SurvRate, \"\\n\")\n",
    "cat(\"Survival rate in class 2:\", Class2SurvRate, \"\\n\")\n",
    "cat(\"Survival rate in class 3:\", Class3SurvRate, \"\\n\")"
   ]
  },
  {
   "cell_type": "markdown",
   "id": "3d207cb3",
   "metadata": {},
   "source": [
    "## Chepter 4- KNN"
   ]
  },
  {
   "cell_type": "code",
   "execution_count": 80,
   "id": "a36fb49c",
   "metadata": {
    "vscode": {
     "languageId": "r"
    }
   },
   "outputs": [],
   "source": [
    "packages= c( \"rio\", \"janitor\", \"tidymodels\", \"kableExtra\",\n",
    " \"learnr\",   \"shiny\",   \"kknn\"  )\n",
    "\n",
    " for( x in packages){\n",
    "    if(!requireNamespace(x)) {\n",
    "      install.packages(x,  quietly = TRUE)\n",
    "    }\n",
    " library(x, character.only = TRUE)\n",
    " }"
   ]
  },
  {
   "cell_type": "code",
   "execution_count": 81,
   "id": "ba886243",
   "metadata": {
    "vscode": {
     "languageId": "r"
    }
   },
   "outputs": [
    {
     "name": "stderr",
     "output_type": "stream",
     "text": [
      "Warning message:\n",
      "\"Missing `trust` will be set to FALSE by default for RDS in 2.0.0.\"\n"
     ]
    }
   ],
   "source": [
    "DataWine=import(\"https://ai.lange-analytics.com/data/WineData.rds\") |>\n",
    "clean_names(\"upper_camel\") |>\n",
    "select(WineColor, Sulfur=TotalSulfurDioxide, Acidity)"
   ]
  },
  {
   "cell_type": "code",
   "execution_count": 82,
   "id": "049e7bfb",
   "metadata": {
    "vscode": {
     "languageId": "r"
    }
   },
   "outputs": [],
   "source": [
    "set.seed(876)\n",
    "Split7030 = initial_split( DataWine, prop= .7, strata= WineColor)\n",
    "\n",
    "DataTrain=training(Split7030)\n",
    "DataTest=testing(Split7030)\n"
   ]
  },
  {
   "cell_type": "code",
   "execution_count": 83,
   "id": "dcce300e",
   "metadata": {
    "vscode": {
     "languageId": "r"
    }
   },
   "outputs": [
    {
     "name": "stderr",
     "output_type": "stream",
     "text": [
      "Warning message:\n",
      "\"Missing `trust` will be set to FALSE by default for RDS in 2.0.0.\"\n"
     ]
    },
    {
     "data": {
      "text/html": [
       "<table class=\"dataframe\">\n",
       "<caption>A data.frame: 6 × 3</caption>\n",
       "<thead>\n",
       "\t<tr><th></th><th scope=col>WineColor</th><th scope=col>Sulfur</th><th scope=col>Acidity</th></tr>\n",
       "\t<tr><th></th><th scope=col>&lt;fct&gt;</th><th scope=col>&lt;dbl&gt;</th><th scope=col>&lt;dbl&gt;</th></tr>\n",
       "</thead>\n",
       "<tbody>\n",
       "\t<tr><th scope=row>1</th><td>red  </td><td> 37</td><td>10.8</td></tr>\n",
       "\t<tr><th scope=row>2</th><td>white</td><td>213</td><td> 6.4</td></tr>\n",
       "\t<tr><th scope=row>3</th><td>white</td><td>139</td><td> 9.4</td></tr>\n",
       "\t<tr><th scope=row>4</th><td>white</td><td> 90</td><td> 8.2</td></tr>\n",
       "\t<tr><th scope=row>5</th><td>white</td><td>183</td><td> 6.4</td></tr>\n",
       "\t<tr><th scope=row>6</th><td>red  </td><td> 38</td><td> 6.7</td></tr>\n",
       "</tbody>\n",
       "</table>\n"
      ],
      "text/latex": [
       "A data.frame: 6 × 3\n",
       "\\begin{tabular}{r|lll}\n",
       "  & WineColor & Sulfur & Acidity\\\\\n",
       "  & <fct> & <dbl> & <dbl>\\\\\n",
       "\\hline\n",
       "\t1 & red   &  37 & 10.8\\\\\n",
       "\t2 & white & 213 &  6.4\\\\\n",
       "\t3 & white & 139 &  9.4\\\\\n",
       "\t4 & white &  90 &  8.2\\\\\n",
       "\t5 & white & 183 &  6.4\\\\\n",
       "\t6 & red   &  38 &  6.7\\\\\n",
       "\\end{tabular}\n"
      ],
      "text/markdown": [
       "\n",
       "A data.frame: 6 × 3\n",
       "\n",
       "| <!--/--> | WineColor &lt;fct&gt; | Sulfur &lt;dbl&gt; | Acidity &lt;dbl&gt; |\n",
       "|---|---|---|---|\n",
       "| 1 | red   |  37 | 10.8 |\n",
       "| 2 | white | 213 |  6.4 |\n",
       "| 3 | white | 139 |  9.4 |\n",
       "| 4 | white |  90 |  8.2 |\n",
       "| 5 | white | 183 |  6.4 |\n",
       "| 6 | red   |  38 |  6.7 |\n",
       "\n"
      ],
      "text/plain": [
       "  WineColor Sulfur Acidity\n",
       "1 red        37    10.8   \n",
       "2 white     213     6.4   \n",
       "3 white     139     9.4   \n",
       "4 white      90     8.2   \n",
       "5 white     183     6.4   \n",
       "6 red        38     6.7   "
      ]
     },
     "metadata": {},
     "output_type": "display_data"
    }
   ],
   "source": [
    "DataWine=import(\"https://ai.lange-analytics.com/data/WineData.rds\") |>\n",
    "clean_names(\"upper_camel\") |>\n",
    "select(WineColor, Sulfur=TotalSulfurDioxide, Acidity) |>\n",
    "mutate(WineColor=as.factor(WineColor))\n",
    "head(DataWine)"
   ]
  },
  {
   "cell_type": "code",
   "execution_count": 84,
   "id": "1070b5b8",
   "metadata": {
    "vscode": {
     "languageId": "r"
    }
   },
   "outputs": [
    {
     "data": {
      "text/html": [
       "<table class=\"dataframe\">\n",
       "<caption>A data.frame: 6 × 3</caption>\n",
       "<thead>\n",
       "\t<tr><th></th><th scope=col>WineColor</th><th scope=col>Sulfur</th><th scope=col>Acidity</th></tr>\n",
       "\t<tr><th></th><th scope=col>&lt;fct&gt;</th><th scope=col>&lt;dbl&gt;</th><th scope=col>&lt;dbl&gt;</th></tr>\n",
       "</thead>\n",
       "<tbody>\n",
       "\t<tr><th scope=row>1</th><td>red</td><td> 37</td><td>10.8</td></tr>\n",
       "\t<tr><th scope=row>2</th><td>red</td><td> 38</td><td> 6.7</td></tr>\n",
       "\t<tr><th scope=row>3</th><td>red</td><td> 12</td><td> 7.5</td></tr>\n",
       "\t<tr><th scope=row>4</th><td>red</td><td> 25</td><td> 7.1</td></tr>\n",
       "\t<tr><th scope=row>5</th><td>red</td><td>114</td><td> 8.0</td></tr>\n",
       "\t<tr><th scope=row>6</th><td>red</td><td> 66</td><td> 7.6</td></tr>\n",
       "</tbody>\n",
       "</table>\n"
      ],
      "text/latex": [
       "A data.frame: 6 × 3\n",
       "\\begin{tabular}{r|lll}\n",
       "  & WineColor & Sulfur & Acidity\\\\\n",
       "  & <fct> & <dbl> & <dbl>\\\\\n",
       "\\hline\n",
       "\t1 & red &  37 & 10.8\\\\\n",
       "\t2 & red &  38 &  6.7\\\\\n",
       "\t3 & red &  12 &  7.5\\\\\n",
       "\t4 & red &  25 &  7.1\\\\\n",
       "\t5 & red & 114 &  8.0\\\\\n",
       "\t6 & red &  66 &  7.6\\\\\n",
       "\\end{tabular}\n"
      ],
      "text/markdown": [
       "\n",
       "A data.frame: 6 × 3\n",
       "\n",
       "| <!--/--> | WineColor &lt;fct&gt; | Sulfur &lt;dbl&gt; | Acidity &lt;dbl&gt; |\n",
       "|---|---|---|---|\n",
       "| 1 | red |  37 | 10.8 |\n",
       "| 2 | red |  38 |  6.7 |\n",
       "| 3 | red |  12 |  7.5 |\n",
       "| 4 | red |  25 |  7.1 |\n",
       "| 5 | red | 114 |  8.0 |\n",
       "| 6 | red |  66 |  7.6 |\n",
       "\n"
      ],
      "text/plain": [
       "  WineColor Sulfur Acidity\n",
       "1 red        37    10.8   \n",
       "2 red        38     6.7   \n",
       "3 red        12     7.5   \n",
       "4 red        25     7.1   \n",
       "5 red       114     8.0   \n",
       "6 red        66     7.6   "
      ]
     },
     "metadata": {},
     "output_type": "display_data"
    }
   ],
   "source": [
    "set.seed(876)\n",
    "Split7030=initial_split(DataWine, prop=0.7, strata=WineColor)\n",
    "DataTrain=training(Split7030)\n",
    "DataTest=testing(Split7030)\n",
    "head(DataTrain)"
   ]
  },
  {
   "cell_type": "code",
   "execution_count": 85,
   "id": "e786fff8",
   "metadata": {
    "vscode": {
     "languageId": "r"
    }
   },
   "outputs": [
    {
     "name": "stderr",
     "output_type": "stream",
     "text": [
      "\n",
      "\n",
      "\u001b[36m──\u001b[39m \u001b[1mRecipe\u001b[22m \u001b[36m──────────────────────────────────────────────────────────────────────\u001b[39m\n",
      "\n",
      "\n",
      "\n",
      "── Inputs \n",
      "\n",
      "Number of variables by role\n",
      "\n",
      "outcome:   1\n",
      "predictor: 2\n",
      "\n",
      "\n",
      "\n",
      "── Operations \n",
      "\n",
      "\u001b[36m•\u001b[39m Centering and scaling for: \u001b[34mall_predictors()\u001b[39m\n",
      "\n",
      "\u001b[36m•\u001b[39m Removing rows with NA values in: \u001b[34m<none>\u001b[39m\n",
      "\n"
     ]
    }
   ],
   "source": [
    "RecipeWine = recipe( WineColor~ Acidity+ Sulfur, data= DataTrain) %>%\n",
    "    step_normalize(all_predictors()) |>\n",
    "    step_naomit ()\n",
    "\n",
    "    RecipeWine"
   ]
  },
  {
   "cell_type": "code",
   "execution_count": 86,
   "id": "c4b531bb",
   "metadata": {
    "vscode": {
     "languageId": "r"
    }
   },
   "outputs": [
    {
     "data": {
      "text/plain": [
       "K-Nearest Neighbor Model Specification (classification)\n",
       "\n",
       "Main Arguments:\n",
       "  neighbors = 4\n",
       "  weight_func = rectangular\n",
       "\n",
       "Computational engine: kknn \n"
      ]
     },
     "metadata": {},
     "output_type": "display_data"
    }
   ],
   "source": [
    "ModelDesignKNN=nearest_neighbor(neighbors=4,\n",
    "weight_func=\"rectangular\") |>\n",
    "set_engine(\"kknn\") |>\n",
    "set_mode(\"classification\")\n",
    "\n",
    "\n",
    "ModelDesignKNN"
   ]
  },
  {
   "cell_type": "code",
   "execution_count": 87,
   "id": "8abda3c4",
   "metadata": {
    "vscode": {
     "languageId": "r"
    }
   },
   "outputs": [],
   "source": [
    "WFModelWine=workflow() |>\n",
    "add_recipe(RecipeWine) |>\n",
    "add_model(ModelDesignKNN) |>\n",
    "fit(DataTrain)"
   ]
  },
  {
   "cell_type": "code",
   "execution_count": 88,
   "id": "c8e5ce82",
   "metadata": {
    "vscode": {
     "languageId": "r"
    }
   },
   "outputs": [
    {
     "data": {
      "text/html": [
       "<table class=\"dataframe\">\n",
       "<caption>A tibble: 6 × 6</caption>\n",
       "<thead>\n",
       "\t<tr><th scope=col>.pred_class</th><th scope=col>.pred_red</th><th scope=col>.pred_white</th><th scope=col>WineColor</th><th scope=col>Sulfur</th><th scope=col>Acidity</th></tr>\n",
       "\t<tr><th scope=col>&lt;fct&gt;</th><th scope=col>&lt;dbl&gt;</th><th scope=col>&lt;dbl&gt;</th><th scope=col>&lt;fct&gt;</th><th scope=col>&lt;dbl&gt;</th><th scope=col>&lt;dbl&gt;</th></tr>\n",
       "</thead>\n",
       "<tbody>\n",
       "\t<tr><td>white</td><td>0.25</td><td>0.75</td><td>white</td><td> 90</td><td> 8.2</td></tr>\n",
       "\t<tr><td>red  </td><td>1.00</td><td>0.00</td><td>red  </td><td> 19</td><td>11.8</td></tr>\n",
       "\t<tr><td>white</td><td>0.00</td><td>1.00</td><td>white</td><td>220</td><td> 6.7</td></tr>\n",
       "\t<tr><td>white</td><td>0.25</td><td>0.75</td><td>red  </td><td>131</td><td> 7.8</td></tr>\n",
       "\t<tr><td>white</td><td>0.00</td><td>1.00</td><td>white</td><td>161</td><td> 7.0</td></tr>\n",
       "\t<tr><td>red  </td><td>1.00</td><td>0.00</td><td>red  </td><td> 41</td><td> 9.9</td></tr>\n",
       "</tbody>\n",
       "</table>\n"
      ],
      "text/latex": [
       "A tibble: 6 × 6\n",
       "\\begin{tabular}{llllll}\n",
       " .pred\\_class & .pred\\_red & .pred\\_white & WineColor & Sulfur & Acidity\\\\\n",
       " <fct> & <dbl> & <dbl> & <fct> & <dbl> & <dbl>\\\\\n",
       "\\hline\n",
       "\t white & 0.25 & 0.75 & white &  90 &  8.2\\\\\n",
       "\t red   & 1.00 & 0.00 & red   &  19 & 11.8\\\\\n",
       "\t white & 0.00 & 1.00 & white & 220 &  6.7\\\\\n",
       "\t white & 0.25 & 0.75 & red   & 131 &  7.8\\\\\n",
       "\t white & 0.00 & 1.00 & white & 161 &  7.0\\\\\n",
       "\t red   & 1.00 & 0.00 & red   &  41 &  9.9\\\\\n",
       "\\end{tabular}\n"
      ],
      "text/markdown": [
       "\n",
       "A tibble: 6 × 6\n",
       "\n",
       "| .pred_class &lt;fct&gt; | .pred_red &lt;dbl&gt; | .pred_white &lt;dbl&gt; | WineColor &lt;fct&gt; | Sulfur &lt;dbl&gt; | Acidity &lt;dbl&gt; |\n",
       "|---|---|---|---|---|---|\n",
       "| white | 0.25 | 0.75 | white |  90 |  8.2 |\n",
       "| red   | 1.00 | 0.00 | red   |  19 | 11.8 |\n",
       "| white | 0.00 | 1.00 | white | 220 |  6.7 |\n",
       "| white | 0.25 | 0.75 | red   | 131 |  7.8 |\n",
       "| white | 0.00 | 1.00 | white | 161 |  7.0 |\n",
       "| red   | 1.00 | 0.00 | red   |  41 |  9.9 |\n",
       "\n"
      ],
      "text/plain": [
       "  .pred_class .pred_red .pred_white WineColor Sulfur Acidity\n",
       "1 white       0.25      0.75        white      90     8.2   \n",
       "2 red         1.00      0.00        red        19    11.8   \n",
       "3 white       0.00      1.00        white     220     6.7   \n",
       "4 white       0.25      0.75        red       131     7.8   \n",
       "5 white       0.00      1.00        white     161     7.0   \n",
       "6 red         1.00      0.00        red        41     9.9   "
      ]
     },
     "metadata": {},
     "output_type": "display_data"
    }
   ],
   "source": [
    "DataTestWithPred=augment(WFModelWine, DataTest)\n",
    "head(DataTestWithPred)"
   ]
  },
  {
   "cell_type": "code",
   "execution_count": 89,
   "id": "d41750be",
   "metadata": {
    "vscode": {
     "languageId": "r"
    }
   },
   "outputs": [
    {
     "name": "stdout",
     "output_type": "stream",
     "text": [
      "          Truth\n",
      "Prediction red white\n",
      "     red   436    46\n",
      "     white  44   434\n"
     ]
    }
   ],
   "source": [
    "ConfMatrixWine=conf_mat(DataTestWithPred, truth=WineColor,\n",
    "estimate=.pred_class)\n",
    "print(ConfMatrixWine)"
   ]
  },
  {
   "cell_type": "code",
   "execution_count": 90,
   "id": "f2bb1fc9",
   "metadata": {
    "vscode": {
     "languageId": "r"
    }
   },
   "outputs": [
    {
     "name": "stderr",
     "output_type": "stream",
     "text": [
      "Warning message:\n",
      "\"Missing `trust` will be set to FALSE by default for RDS in 2.0.0.\"\n"
     ]
    },
    {
     "data": {
      "text/html": [
       "<table class=\"dataframe\">\n",
       "<caption>A data.frame: 6 × 12</caption>\n",
       "<thead>\n",
       "\t<tr><th></th><th scope=col>WineColor</th><th scope=col>Acidity</th><th scope=col>VolatileAcidity</th><th scope=col>CitricAcid</th><th scope=col>ResidualSugar</th><th scope=col>Chlorides</th><th scope=col>FreeSulfurDioxide</th><th scope=col>Sulfur</th><th scope=col>Density</th><th scope=col>PH</th><th scope=col>Sulphates</th><th scope=col>Alcohol</th></tr>\n",
       "\t<tr><th></th><th scope=col>&lt;fct&gt;</th><th scope=col>&lt;dbl&gt;</th><th scope=col>&lt;dbl&gt;</th><th scope=col>&lt;dbl&gt;</th><th scope=col>&lt;dbl&gt;</th><th scope=col>&lt;dbl&gt;</th><th scope=col>&lt;dbl&gt;</th><th scope=col>&lt;dbl&gt;</th><th scope=col>&lt;dbl&gt;</th><th scope=col>&lt;dbl&gt;</th><th scope=col>&lt;dbl&gt;</th><th scope=col>&lt;dbl&gt;</th></tr>\n",
       "</thead>\n",
       "<tbody>\n",
       "\t<tr><th scope=row>1</th><td>red</td><td>10.8</td><td>0.320</td><td>0.44</td><td>1.6</td><td>0.063</td><td>16</td><td> 37</td><td>0.99850</td><td>3.22</td><td>0.78</td><td>10.00</td></tr>\n",
       "\t<tr><th scope=row>2</th><td>red</td><td> 6.7</td><td>0.855</td><td>0.02</td><td>1.9</td><td>0.064</td><td>29</td><td> 38</td><td>0.99472</td><td>3.30</td><td>0.56</td><td>10.75</td></tr>\n",
       "\t<tr><th scope=row>3</th><td>red</td><td> 7.5</td><td>0.380</td><td>0.57</td><td>2.3</td><td>0.106</td><td> 5</td><td> 12</td><td>0.99605</td><td>3.36</td><td>0.55</td><td>11.40</td></tr>\n",
       "\t<tr><th scope=row>4</th><td>red</td><td> 7.1</td><td>0.270</td><td>0.60</td><td>2.1</td><td>0.074</td><td>17</td><td> 25</td><td>0.99814</td><td>3.38</td><td>0.72</td><td>10.60</td></tr>\n",
       "\t<tr><th scope=row>5</th><td>red</td><td> 8.0</td><td>0.580</td><td>0.28</td><td>3.2</td><td>0.066</td><td>21</td><td>114</td><td>0.99730</td><td>3.22</td><td>0.54</td><td> 9.40</td></tr>\n",
       "\t<tr><th scope=row>6</th><td>red</td><td> 7.6</td><td>0.400</td><td>0.29</td><td>1.9</td><td>0.078</td><td>29</td><td> 66</td><td>0.99710</td><td>3.45</td><td>0.59</td><td> 9.50</td></tr>\n",
       "</tbody>\n",
       "</table>\n"
      ],
      "text/latex": [
       "A data.frame: 6 × 12\n",
       "\\begin{tabular}{r|llllllllllll}\n",
       "  & WineColor & Acidity & VolatileAcidity & CitricAcid & ResidualSugar & Chlorides & FreeSulfurDioxide & Sulfur & Density & PH & Sulphates & Alcohol\\\\\n",
       "  & <fct> & <dbl> & <dbl> & <dbl> & <dbl> & <dbl> & <dbl> & <dbl> & <dbl> & <dbl> & <dbl> & <dbl>\\\\\n",
       "\\hline\n",
       "\t1 & red & 10.8 & 0.320 & 0.44 & 1.6 & 0.063 & 16 &  37 & 0.99850 & 3.22 & 0.78 & 10.00\\\\\n",
       "\t2 & red &  6.7 & 0.855 & 0.02 & 1.9 & 0.064 & 29 &  38 & 0.99472 & 3.30 & 0.56 & 10.75\\\\\n",
       "\t3 & red &  7.5 & 0.380 & 0.57 & 2.3 & 0.106 &  5 &  12 & 0.99605 & 3.36 & 0.55 & 11.40\\\\\n",
       "\t4 & red &  7.1 & 0.270 & 0.60 & 2.1 & 0.074 & 17 &  25 & 0.99814 & 3.38 & 0.72 & 10.60\\\\\n",
       "\t5 & red &  8.0 & 0.580 & 0.28 & 3.2 & 0.066 & 21 & 114 & 0.99730 & 3.22 & 0.54 &  9.40\\\\\n",
       "\t6 & red &  7.6 & 0.400 & 0.29 & 1.9 & 0.078 & 29 &  66 & 0.99710 & 3.45 & 0.59 &  9.50\\\\\n",
       "\\end{tabular}\n"
      ],
      "text/markdown": [
       "\n",
       "A data.frame: 6 × 12\n",
       "\n",
       "| <!--/--> | WineColor &lt;fct&gt; | Acidity &lt;dbl&gt; | VolatileAcidity &lt;dbl&gt; | CitricAcid &lt;dbl&gt; | ResidualSugar &lt;dbl&gt; | Chlorides &lt;dbl&gt; | FreeSulfurDioxide &lt;dbl&gt; | Sulfur &lt;dbl&gt; | Density &lt;dbl&gt; | PH &lt;dbl&gt; | Sulphates &lt;dbl&gt; | Alcohol &lt;dbl&gt; |\n",
       "|---|---|---|---|---|---|---|---|---|---|---|---|---|\n",
       "| 1 | red | 10.8 | 0.320 | 0.44 | 1.6 | 0.063 | 16 |  37 | 0.99850 | 3.22 | 0.78 | 10.00 |\n",
       "| 2 | red |  6.7 | 0.855 | 0.02 | 1.9 | 0.064 | 29 |  38 | 0.99472 | 3.30 | 0.56 | 10.75 |\n",
       "| 3 | red |  7.5 | 0.380 | 0.57 | 2.3 | 0.106 |  5 |  12 | 0.99605 | 3.36 | 0.55 | 11.40 |\n",
       "| 4 | red |  7.1 | 0.270 | 0.60 | 2.1 | 0.074 | 17 |  25 | 0.99814 | 3.38 | 0.72 | 10.60 |\n",
       "| 5 | red |  8.0 | 0.580 | 0.28 | 3.2 | 0.066 | 21 | 114 | 0.99730 | 3.22 | 0.54 |  9.40 |\n",
       "| 6 | red |  7.6 | 0.400 | 0.29 | 1.9 | 0.078 | 29 |  66 | 0.99710 | 3.45 | 0.59 |  9.50 |\n",
       "\n"
      ],
      "text/plain": [
       "  WineColor Acidity VolatileAcidity CitricAcid ResidualSugar Chlorides\n",
       "1 red       10.8    0.320           0.44       1.6           0.063    \n",
       "2 red        6.7    0.855           0.02       1.9           0.064    \n",
       "3 red        7.5    0.380           0.57       2.3           0.106    \n",
       "4 red        7.1    0.270           0.60       2.1           0.074    \n",
       "5 red        8.0    0.580           0.28       3.2           0.066    \n",
       "6 red        7.6    0.400           0.29       1.9           0.078    \n",
       "  FreeSulfurDioxide Sulfur Density PH   Sulphates Alcohol\n",
       "1 16                 37    0.99850 3.22 0.78      10.00  \n",
       "2 29                 38    0.99472 3.30 0.56      10.75  \n",
       "3  5                 12    0.99605 3.36 0.55      11.40  \n",
       "4 17                 25    0.99814 3.38 0.72      10.60  \n",
       "5 21                114    0.99730 3.22 0.54       9.40  \n",
       "6 29                 66    0.99710 3.45 0.59       9.50  "
      ]
     },
     "metadata": {},
     "output_type": "display_data"
    }
   ],
   "source": [
    "\n",
    "DataWine=import(\"https://ai.lange-analytics.com/data/WineData.rds\") |>\n",
    "clean_names(\"upper_camel\") |>\n",
    "select(-Quality) |>\n",
    "rename(Sulfur=TotalSulfurDioxide) |>\n",
    "mutate(WineColor=as.factor(WineColor))\n",
    "\n",
    "set.seed(876)\n",
    "Split7030=initial_split(DataWine, prop=0.7, strata=WineColor)\n",
    "DataTrain=training(Split7030)\n",
    "DataTest=testing(Split7030)\n",
    "head(DataTrain)"
   ]
  },
  {
   "cell_type": "code",
   "execution_count": 91,
   "id": "dd299116",
   "metadata": {
    "vscode": {
     "languageId": "r"
    }
   },
   "outputs": [
    {
     "name": "stderr",
     "output_type": "stream",
     "text": [
      "\n",
      "\n",
      "\u001b[36m──\u001b[39m \u001b[1mRecipe\u001b[22m \u001b[36m──────────────────────────────────────────────────────────────────────\u001b[39m\n",
      "\n",
      "\n",
      "\n",
      "── Inputs \n",
      "\n",
      "Number of variables by role\n",
      "\n",
      "outcome:    1\n",
      "predictor: 11\n",
      "\n",
      "\n",
      "\n",
      "── Operations \n",
      "\n",
      "\u001b[36m•\u001b[39m Removing rows with NA values in: \u001b[34m<none>\u001b[39m\n",
      "\n",
      "\u001b[36m•\u001b[39m Centering and scaling for: \u001b[34mall_predictors()\u001b[39m\n",
      "\n"
     ]
    }
   ],
   "source": [
    "RecipeWine = recipe( WineColor~., data= DataTrain) |>\n",
    "    step_naomit() |>\n",
    "    step_normalize(all_predictors())\n",
    "    \n",
    "  RecipeWine"
   ]
  },
  {
   "cell_type": "code",
   "execution_count": 92,
   "id": "dbc15280",
   "metadata": {
    "vscode": {
     "languageId": "r"
    }
   },
   "outputs": [
    {
     "data": {
      "text/plain": [
       "K-Nearest Neighbor Model Specification (classification)\n",
       "\n",
       "Main Arguments:\n",
       "  neighbors = 4\n",
       "  weight_func = rectangular\n",
       "\n",
       "Computational engine: kknn \n"
      ]
     },
     "metadata": {},
     "output_type": "display_data"
    }
   ],
   "source": [
    "ModelDesignKNN= nearest_neighbor(neighbors = 4, weight_func = \"rectangular\") |>\n",
    "      set_engine(\"kknn\") |>\n",
    "      set_mode(\"classification\")\n",
    "\n",
    "      ModelDesignKNN"
   ]
  },
  {
   "cell_type": "code",
   "execution_count": 93,
   "id": "bd5a6a51",
   "metadata": {
    "vscode": {
     "languageId": "r"
    }
   },
   "outputs": [
    {
     "name": "stdout",
     "output_type": "stream",
     "text": [
      "══ Workflow [trained] ══════════════════════════════════════════════════════════\n",
      "\u001b[3mPreprocessor:\u001b[23m Recipe\n",
      "\u001b[3mModel:\u001b[23m nearest_neighbor()\n",
      "\n",
      "── Preprocessor ────────────────────────────────────────────────────────────────\n",
      "2 Recipe Steps\n",
      "\n",
      "• step_naomit()\n",
      "• step_normalize()\n",
      "\n",
      "── Model ───────────────────────────────────────────────────────────────────────\n",
      "\n",
      "Call:\n",
      "kknn::train.kknn(formula = ..y ~ ., data = data, ks = min_rows(4,     data, 5), kernel = ~\"rectangular\")\n",
      "\n",
      "Type of response variable: nominal\n",
      "Minimal misclassification: 0.01519214\n",
      "Best kernel: rectangular\n",
      "Best k: 4\n"
     ]
    }
   ],
   "source": [
    "WFModelWine=workflow() |>\n",
    "add_recipe(RecipeWine) |>\n",
    "add_model(ModelDesignKNN) |>\n",
    "fit(DataTrain)\n",
    "print(WFModelWine)"
   ]
  },
  {
   "cell_type": "code",
   "execution_count": 94,
   "id": "3fc66c70",
   "metadata": {
    "vscode": {
     "languageId": "r"
    }
   },
   "outputs": [
    {
     "data": {
      "text/plain": [
       "          Truth\n",
       "Prediction red white\n",
       "     red   474     2\n",
       "     white   6   478"
      ]
     },
     "metadata": {},
     "output_type": "display_data"
    }
   ],
   "source": [
    "DataTestWithPred=augment(WFModelWine, DataTest)\n",
    "conf_mat(DataTestWithPred, truth=WineColor, estimate=.pred_class)"
   ]
  },
  {
   "cell_type": "code",
   "execution_count": 95,
   "id": "8e7dd47d",
   "metadata": {
    "vscode": {
     "languageId": "r"
    }
   },
   "outputs": [
    {
     "data": {
      "text/html": [
       "<table class=\"dataframe\">\n",
       "<caption>A tibble: 3 × 3</caption>\n",
       "<thead>\n",
       "\t<tr><th scope=col>.metric</th><th scope=col>.estimator</th><th scope=col>.estimate</th></tr>\n",
       "\t<tr><th scope=col>&lt;chr&gt;</th><th scope=col>&lt;chr&gt;</th><th scope=col>&lt;dbl&gt;</th></tr>\n",
       "</thead>\n",
       "<tbody>\n",
       "\t<tr><td>accuracy   </td><td>binary</td><td>0.9916667</td></tr>\n",
       "\t<tr><td>sensitivity</td><td>binary</td><td>0.9875000</td></tr>\n",
       "\t<tr><td>specificity</td><td>binary</td><td>0.9958333</td></tr>\n",
       "</tbody>\n",
       "</table>\n"
      ],
      "text/latex": [
       "A tibble: 3 × 3\n",
       "\\begin{tabular}{lll}\n",
       " .metric & .estimator & .estimate\\\\\n",
       " <chr> & <chr> & <dbl>\\\\\n",
       "\\hline\n",
       "\t accuracy    & binary & 0.9916667\\\\\n",
       "\t sensitivity & binary & 0.9875000\\\\\n",
       "\t specificity & binary & 0.9958333\\\\\n",
       "\\end{tabular}\n"
      ],
      "text/markdown": [
       "\n",
       "A tibble: 3 × 3\n",
       "\n",
       "| .metric &lt;chr&gt; | .estimator &lt;chr&gt; | .estimate &lt;dbl&gt; |\n",
       "|---|---|---|\n",
       "| accuracy    | binary | 0.9916667 |\n",
       "| sensitivity | binary | 0.9875000 |\n",
       "| specificity | binary | 0.9958333 |\n",
       "\n"
      ],
      "text/plain": [
       "  .metric     .estimator .estimate\n",
       "1 accuracy    binary     0.9916667\n",
       "2 sensitivity binary     0.9875000\n",
       "3 specificity binary     0.9958333"
      ]
     },
     "metadata": {},
     "output_type": "display_data"
    }
   ],
   "source": [
    "MetricsWine=metric_set(accuracy, sensitivity, specificity)\n",
    "MetricsWine(DataTestWithPred, truth=WineColor, estimate=.pred_class)"
   ]
  },
  {
   "cell_type": "code",
   "execution_count": 96,
   "id": "ad0329d9",
   "metadata": {
    "vscode": {
     "languageId": "r"
    }
   },
   "outputs": [
    {
     "name": "stderr",
     "output_type": "stream",
     "text": [
      "Warning message:\n",
      "\"Missing `trust` will be set to FALSE by default for RDS in 2.0.0.\"\n"
     ]
    },
    {
     "data": {
      "text/html": [
       "<table class=\"dataframe\">\n",
       "<caption>A data.frame: 6 × 785</caption>\n",
       "<thead>\n",
       "\t<tr><th></th><th scope=col>Label</th><th scope=col>Pix1</th><th scope=col>Pix2</th><th scope=col>Pix3</th><th scope=col>Pix4</th><th scope=col>Pix5</th><th scope=col>Pix6</th><th scope=col>Pix7</th><th scope=col>Pix8</th><th scope=col>Pix9</th><th scope=col>⋯</th><th scope=col>Pix775</th><th scope=col>Pix776</th><th scope=col>Pix777</th><th scope=col>Pix778</th><th scope=col>Pix779</th><th scope=col>Pix780</th><th scope=col>Pix781</th><th scope=col>Pix782</th><th scope=col>Pix783</th><th scope=col>Pix784</th></tr>\n",
       "\t<tr><th></th><th scope=col>&lt;fct&gt;</th><th scope=col>&lt;int&gt;</th><th scope=col>&lt;int&gt;</th><th scope=col>&lt;int&gt;</th><th scope=col>&lt;int&gt;</th><th scope=col>&lt;int&gt;</th><th scope=col>&lt;int&gt;</th><th scope=col>&lt;int&gt;</th><th scope=col>&lt;int&gt;</th><th scope=col>&lt;int&gt;</th><th scope=col>⋯</th><th scope=col>&lt;int&gt;</th><th scope=col>&lt;int&gt;</th><th scope=col>&lt;int&gt;</th><th scope=col>&lt;int&gt;</th><th scope=col>&lt;int&gt;</th><th scope=col>&lt;int&gt;</th><th scope=col>&lt;int&gt;</th><th scope=col>&lt;int&gt;</th><th scope=col>&lt;int&gt;</th><th scope=col>&lt;int&gt;</th></tr>\n",
       "</thead>\n",
       "<tbody>\n",
       "\t<tr><th scope=row>1</th><td>1</td><td>0</td><td>0</td><td>0</td><td>0</td><td>0</td><td>0</td><td>0</td><td>0</td><td>0</td><td>⋯</td><td>0</td><td>0</td><td>0</td><td>0</td><td>0</td><td>0</td><td>0</td><td>0</td><td>0</td><td>0</td></tr>\n",
       "\t<tr><th scope=row>2</th><td>7</td><td>0</td><td>0</td><td>0</td><td>0</td><td>0</td><td>0</td><td>0</td><td>0</td><td>0</td><td>⋯</td><td>0</td><td>0</td><td>0</td><td>0</td><td>0</td><td>0</td><td>0</td><td>0</td><td>0</td><td>0</td></tr>\n",
       "\t<tr><th scope=row>3</th><td>1</td><td>0</td><td>0</td><td>0</td><td>0</td><td>0</td><td>0</td><td>0</td><td>0</td><td>0</td><td>⋯</td><td>0</td><td>0</td><td>0</td><td>0</td><td>0</td><td>0</td><td>0</td><td>0</td><td>0</td><td>0</td></tr>\n",
       "\t<tr><th scope=row>4</th><td>1</td><td>0</td><td>0</td><td>0</td><td>0</td><td>0</td><td>0</td><td>0</td><td>0</td><td>0</td><td>⋯</td><td>0</td><td>0</td><td>0</td><td>0</td><td>0</td><td>0</td><td>0</td><td>0</td><td>0</td><td>0</td></tr>\n",
       "\t<tr><th scope=row>5</th><td>1</td><td>0</td><td>0</td><td>0</td><td>0</td><td>0</td><td>0</td><td>0</td><td>0</td><td>0</td><td>⋯</td><td>0</td><td>0</td><td>0</td><td>0</td><td>0</td><td>0</td><td>0</td><td>0</td><td>0</td><td>0</td></tr>\n",
       "\t<tr><th scope=row>6</th><td>7</td><td>0</td><td>0</td><td>0</td><td>0</td><td>0</td><td>0</td><td>0</td><td>0</td><td>0</td><td>⋯</td><td>0</td><td>0</td><td>0</td><td>0</td><td>0</td><td>0</td><td>0</td><td>0</td><td>0</td><td>0</td></tr>\n",
       "</tbody>\n",
       "</table>\n"
      ],
      "text/latex": [
       "A data.frame: 6 × 785\n",
       "\\begin{tabular}{r|lllllllllllllllllllll}\n",
       "  & Label & Pix1 & Pix2 & Pix3 & Pix4 & Pix5 & Pix6 & Pix7 & Pix8 & Pix9 & ⋯ & Pix775 & Pix776 & Pix777 & Pix778 & Pix779 & Pix780 & Pix781 & Pix782 & Pix783 & Pix784\\\\\n",
       "  & <fct> & <int> & <int> & <int> & <int> & <int> & <int> & <int> & <int> & <int> & ⋯ & <int> & <int> & <int> & <int> & <int> & <int> & <int> & <int> & <int> & <int>\\\\\n",
       "\\hline\n",
       "\t1 & 1 & 0 & 0 & 0 & 0 & 0 & 0 & 0 & 0 & 0 & ⋯ & 0 & 0 & 0 & 0 & 0 & 0 & 0 & 0 & 0 & 0\\\\\n",
       "\t2 & 7 & 0 & 0 & 0 & 0 & 0 & 0 & 0 & 0 & 0 & ⋯ & 0 & 0 & 0 & 0 & 0 & 0 & 0 & 0 & 0 & 0\\\\\n",
       "\t3 & 1 & 0 & 0 & 0 & 0 & 0 & 0 & 0 & 0 & 0 & ⋯ & 0 & 0 & 0 & 0 & 0 & 0 & 0 & 0 & 0 & 0\\\\\n",
       "\t4 & 1 & 0 & 0 & 0 & 0 & 0 & 0 & 0 & 0 & 0 & ⋯ & 0 & 0 & 0 & 0 & 0 & 0 & 0 & 0 & 0 & 0\\\\\n",
       "\t5 & 1 & 0 & 0 & 0 & 0 & 0 & 0 & 0 & 0 & 0 & ⋯ & 0 & 0 & 0 & 0 & 0 & 0 & 0 & 0 & 0 & 0\\\\\n",
       "\t6 & 7 & 0 & 0 & 0 & 0 & 0 & 0 & 0 & 0 & 0 & ⋯ & 0 & 0 & 0 & 0 & 0 & 0 & 0 & 0 & 0 & 0\\\\\n",
       "\\end{tabular}\n"
      ],
      "text/markdown": [
       "\n",
       "A data.frame: 6 × 785\n",
       "\n",
       "| <!--/--> | Label &lt;fct&gt; | Pix1 &lt;int&gt; | Pix2 &lt;int&gt; | Pix3 &lt;int&gt; | Pix4 &lt;int&gt; | Pix5 &lt;int&gt; | Pix6 &lt;int&gt; | Pix7 &lt;int&gt; | Pix8 &lt;int&gt; | Pix9 &lt;int&gt; | ⋯ ⋯ | Pix775 &lt;int&gt; | Pix776 &lt;int&gt; | Pix777 &lt;int&gt; | Pix778 &lt;int&gt; | Pix779 &lt;int&gt; | Pix780 &lt;int&gt; | Pix781 &lt;int&gt; | Pix782 &lt;int&gt; | Pix783 &lt;int&gt; | Pix784 &lt;int&gt; |\n",
       "|---|---|---|---|---|---|---|---|---|---|---|---|---|---|---|---|---|---|---|---|---|---|\n",
       "| 1 | 1 | 0 | 0 | 0 | 0 | 0 | 0 | 0 | 0 | 0 | ⋯ | 0 | 0 | 0 | 0 | 0 | 0 | 0 | 0 | 0 | 0 |\n",
       "| 2 | 7 | 0 | 0 | 0 | 0 | 0 | 0 | 0 | 0 | 0 | ⋯ | 0 | 0 | 0 | 0 | 0 | 0 | 0 | 0 | 0 | 0 |\n",
       "| 3 | 1 | 0 | 0 | 0 | 0 | 0 | 0 | 0 | 0 | 0 | ⋯ | 0 | 0 | 0 | 0 | 0 | 0 | 0 | 0 | 0 | 0 |\n",
       "| 4 | 1 | 0 | 0 | 0 | 0 | 0 | 0 | 0 | 0 | 0 | ⋯ | 0 | 0 | 0 | 0 | 0 | 0 | 0 | 0 | 0 | 0 |\n",
       "| 5 | 1 | 0 | 0 | 0 | 0 | 0 | 0 | 0 | 0 | 0 | ⋯ | 0 | 0 | 0 | 0 | 0 | 0 | 0 | 0 | 0 | 0 |\n",
       "| 6 | 7 | 0 | 0 | 0 | 0 | 0 | 0 | 0 | 0 | 0 | ⋯ | 0 | 0 | 0 | 0 | 0 | 0 | 0 | 0 | 0 | 0 |\n",
       "\n"
      ],
      "text/plain": [
       "  Label Pix1 Pix2 Pix3 Pix4 Pix5 Pix6 Pix7 Pix8 Pix9 ⋯ Pix775 Pix776 Pix777\n",
       "1 1     0    0    0    0    0    0    0    0    0    ⋯ 0      0      0     \n",
       "2 7     0    0    0    0    0    0    0    0    0    ⋯ 0      0      0     \n",
       "3 1     0    0    0    0    0    0    0    0    0    ⋯ 0      0      0     \n",
       "4 1     0    0    0    0    0    0    0    0    0    ⋯ 0      0      0     \n",
       "5 1     0    0    0    0    0    0    0    0    0    ⋯ 0      0      0     \n",
       "6 7     0    0    0    0    0    0    0    0    0    ⋯ 0      0      0     \n",
       "  Pix778 Pix779 Pix780 Pix781 Pix782 Pix783 Pix784\n",
       "1 0      0      0      0      0      0      0     \n",
       "2 0      0      0      0      0      0      0     \n",
       "3 0      0      0      0      0      0      0     \n",
       "4 0      0      0      0      0      0      0     \n",
       "5 0      0      0      0      0      0      0     \n",
       "6 0      0      0      0      0      0      0     "
      ]
     },
     "metadata": {},
     "output_type": "display_data"
    }
   ],
   "source": [
    "DataMnist=import(\"https://ai.lange-analytics.com/data/MN500.rds\") |>\n",
    "mutate(Label=as.factor(Label))\n",
    "set.seed(123)\n",
    "Split7030=initial_split(DataMnist, 0.70, strata=Label)\n",
    "DataTrain=training(Split7030)\n",
    "DataTest=testing(Split7030)\n",
    "head(DataTrain)"
   ]
  },
  {
   "cell_type": "code",
   "execution_count": 97,
   "id": "25f04c65",
   "metadata": {
    "vscode": {
     "languageId": "r"
    }
   },
   "outputs": [
    {
     "name": "stderr",
     "output_type": "stream",
     "text": [
      "\n",
      "\n",
      "\u001b[36m──\u001b[39m \u001b[1mRecipe\u001b[22m \u001b[36m──────────────────────────────────────────────────────────────────────\u001b[39m\n",
      "\n",
      "\n",
      "\n",
      "── Inputs \n",
      "\n",
      "Number of variables by role\n",
      "\n",
      "outcome:     1\n",
      "predictor: 784\n",
      "\n",
      "\n",
      "\n",
      "── Operations \n",
      "\n",
      "\u001b[36m•\u001b[39m Removing rows with NA values in: \u001b[34m<none>\u001b[39m\n",
      "\n",
      "\u001b[36m•\u001b[39m Centering and scaling for: \u001b[34m<none>\u001b[39m\n",
      "\n"
     ]
    }
   ],
   "source": [
    "RecipeMnist=recipe(Label~., data=DataTrain) |>\n",
    " step_naomit() |> \n",
    " step_normalize()\n",
    " RecipeMnist"
   ]
  },
  {
   "cell_type": "code",
   "execution_count": 98,
   "id": "fe4dd05a",
   "metadata": {
    "vscode": {
     "languageId": "r"
    }
   },
   "outputs": [
    {
     "data": {
      "text/plain": [
       "K-Nearest Neighbor Model Specification (classification)\n",
       "\n",
       "Main Arguments:\n",
       "  neighbors = 5\n",
       "  weight_func = rectangular\n",
       "\n",
       "Computational engine: kknn \n"
      ]
     },
     "metadata": {},
     "output_type": "display_data"
    }
   ],
   "source": [
    "ModelDesignKNN=nearest_neighbor(neighbors=5, weight_func=\"rectangular\") |>\n",
    "    set_engine(\"kknn\")|>\n",
    "    set_mode(\"classification\")\n",
    "    ModelDesignKNN"
   ]
  },
  {
   "cell_type": "code",
   "execution_count": 99,
   "id": "2ca98e59",
   "metadata": {
    "vscode": {
     "languageId": "r"
    }
   },
   "outputs": [
    {
     "name": "stdout",
     "output_type": "stream",
     "text": [
      "══ Workflow [trained] ══════════════════════════════════════════════════════════\n",
      "\u001b[3mPreprocessor:\u001b[23m Recipe\n",
      "\u001b[3mModel:\u001b[23m nearest_neighbor()\n",
      "\n",
      "── Preprocessor ────────────────────────────────────────────────────────────────\n",
      "2 Recipe Steps\n",
      "\n",
      "• step_naomit()\n",
      "• step_normalize()\n",
      "\n",
      "── Model ───────────────────────────────────────────────────────────────────────\n",
      "\n",
      "Call:\n",
      "kknn::train.kknn(formula = ..y ~ ., data = data, ks = min_rows(5,     data, 5), kernel = ~\"rectangular\")\n",
      "\n",
      "Type of response variable: nominal\n",
      "Minimal misclassification: 0.2557471\n",
      "Best kernel: rectangular\n",
      "Best k: 5\n"
     ]
    }
   ],
   "source": [
    "WFModelMnist=workflow() |>\n",
    "add_recipe(RecipeMnist) |>\n",
    "add_model(ModelDesignKNN) |>\n",
    "fit(DataTrain)\n",
    "print(WFModelMnist)"
   ]
  },
  {
   "cell_type": "code",
   "execution_count": 100,
   "id": "a5412724",
   "metadata": {
    "vscode": {
     "languageId": "r"
    }
   },
   "outputs": [
    {
     "data": {
      "text/html": [
       "<table class=\"dataframe\">\n",
       "<caption>A tibble: 6 × 796</caption>\n",
       "<thead>\n",
       "\t<tr><th scope=col>Label</th><th scope=col>.pred_class</th><th scope=col>.pred_0</th><th scope=col>.pred_1</th><th scope=col>.pred_2</th><th scope=col>.pred_3</th><th scope=col>.pred_4</th><th scope=col>.pred_5</th><th scope=col>.pred_6</th><th scope=col>.pred_7</th><th scope=col>⋯</th><th scope=col>Pix775</th><th scope=col>Pix776</th><th scope=col>Pix777</th><th scope=col>Pix778</th><th scope=col>Pix779</th><th scope=col>Pix780</th><th scope=col>Pix781</th><th scope=col>Pix782</th><th scope=col>Pix783</th><th scope=col>Pix784</th></tr>\n",
       "\t<tr><th scope=col>&lt;fct&gt;</th><th scope=col>&lt;fct&gt;</th><th scope=col>&lt;dbl&gt;</th><th scope=col>&lt;dbl&gt;</th><th scope=col>&lt;dbl&gt;</th><th scope=col>&lt;dbl&gt;</th><th scope=col>&lt;dbl&gt;</th><th scope=col>&lt;dbl&gt;</th><th scope=col>&lt;dbl&gt;</th><th scope=col>&lt;dbl&gt;</th><th scope=col>⋯</th><th scope=col>&lt;int&gt;</th><th scope=col>&lt;int&gt;</th><th scope=col>&lt;int&gt;</th><th scope=col>&lt;int&gt;</th><th scope=col>&lt;int&gt;</th><th scope=col>&lt;int&gt;</th><th scope=col>&lt;int&gt;</th><th scope=col>&lt;int&gt;</th><th scope=col>&lt;int&gt;</th><th scope=col>&lt;int&gt;</th></tr>\n",
       "</thead>\n",
       "<tbody>\n",
       "\t<tr><td>2</td><td>2</td><td>0</td><td>0</td><td>0.8</td><td>0.2</td><td>0.0</td><td>0.0</td><td>0</td><td>0.0</td><td>⋯</td><td>0</td><td>0</td><td>0</td><td>0</td><td>0</td><td>0</td><td>0</td><td>0</td><td>0</td><td>0</td></tr>\n",
       "\t<tr><td>1</td><td>1</td><td>0</td><td>1</td><td>0.0</td><td>0.0</td><td>0.0</td><td>0.0</td><td>0</td><td>0.0</td><td>⋯</td><td>0</td><td>0</td><td>0</td><td>0</td><td>0</td><td>0</td><td>0</td><td>0</td><td>0</td><td>0</td></tr>\n",
       "\t<tr><td>4</td><td>4</td><td>0</td><td>0</td><td>0.0</td><td>0.0</td><td>0.8</td><td>0.0</td><td>0</td><td>0.0</td><td>⋯</td><td>0</td><td>0</td><td>0</td><td>0</td><td>0</td><td>0</td><td>0</td><td>0</td><td>0</td><td>0</td></tr>\n",
       "\t<tr><td>4</td><td>4</td><td>0</td><td>0</td><td>0.0</td><td>0.0</td><td>0.6</td><td>0.0</td><td>0</td><td>0.2</td><td>⋯</td><td>0</td><td>0</td><td>0</td><td>0</td><td>0</td><td>0</td><td>0</td><td>0</td><td>0</td><td>0</td></tr>\n",
       "\t<tr><td>5</td><td>5</td><td>0</td><td>0</td><td>0.0</td><td>0.0</td><td>0.4</td><td>0.6</td><td>0</td><td>0.0</td><td>⋯</td><td>0</td><td>0</td><td>0</td><td>0</td><td>0</td><td>0</td><td>0</td><td>0</td><td>0</td><td>0</td></tr>\n",
       "\t<tr><td>0</td><td>0</td><td>1</td><td>0</td><td>0.0</td><td>0.0</td><td>0.0</td><td>0.0</td><td>0</td><td>0.0</td><td>⋯</td><td>0</td><td>0</td><td>0</td><td>0</td><td>0</td><td>0</td><td>0</td><td>0</td><td>0</td><td>0</td></tr>\n",
       "</tbody>\n",
       "</table>\n"
      ],
      "text/latex": [
       "A tibble: 6 × 796\n",
       "\\begin{tabular}{lllllllllllllllllllll}\n",
       " Label & .pred\\_class & .pred\\_0 & .pred\\_1 & .pred\\_2 & .pred\\_3 & .pred\\_4 & .pred\\_5 & .pred\\_6 & .pred\\_7 & ⋯ & Pix775 & Pix776 & Pix777 & Pix778 & Pix779 & Pix780 & Pix781 & Pix782 & Pix783 & Pix784\\\\\n",
       " <fct> & <fct> & <dbl> & <dbl> & <dbl> & <dbl> & <dbl> & <dbl> & <dbl> & <dbl> & ⋯ & <int> & <int> & <int> & <int> & <int> & <int> & <int> & <int> & <int> & <int>\\\\\n",
       "\\hline\n",
       "\t 2 & 2 & 0 & 0 & 0.8 & 0.2 & 0.0 & 0.0 & 0 & 0.0 & ⋯ & 0 & 0 & 0 & 0 & 0 & 0 & 0 & 0 & 0 & 0\\\\\n",
       "\t 1 & 1 & 0 & 1 & 0.0 & 0.0 & 0.0 & 0.0 & 0 & 0.0 & ⋯ & 0 & 0 & 0 & 0 & 0 & 0 & 0 & 0 & 0 & 0\\\\\n",
       "\t 4 & 4 & 0 & 0 & 0.0 & 0.0 & 0.8 & 0.0 & 0 & 0.0 & ⋯ & 0 & 0 & 0 & 0 & 0 & 0 & 0 & 0 & 0 & 0\\\\\n",
       "\t 4 & 4 & 0 & 0 & 0.0 & 0.0 & 0.6 & 0.0 & 0 & 0.2 & ⋯ & 0 & 0 & 0 & 0 & 0 & 0 & 0 & 0 & 0 & 0\\\\\n",
       "\t 5 & 5 & 0 & 0 & 0.0 & 0.0 & 0.4 & 0.6 & 0 & 0.0 & ⋯ & 0 & 0 & 0 & 0 & 0 & 0 & 0 & 0 & 0 & 0\\\\\n",
       "\t 0 & 0 & 1 & 0 & 0.0 & 0.0 & 0.0 & 0.0 & 0 & 0.0 & ⋯ & 0 & 0 & 0 & 0 & 0 & 0 & 0 & 0 & 0 & 0\\\\\n",
       "\\end{tabular}\n"
      ],
      "text/markdown": [
       "\n",
       "A tibble: 6 × 796\n",
       "\n",
       "| Label &lt;fct&gt; | .pred_class &lt;fct&gt; | .pred_0 &lt;dbl&gt; | .pred_1 &lt;dbl&gt; | .pred_2 &lt;dbl&gt; | .pred_3 &lt;dbl&gt; | .pred_4 &lt;dbl&gt; | .pred_5 &lt;dbl&gt; | .pred_6 &lt;dbl&gt; | .pred_7 &lt;dbl&gt; | ⋯ ⋯ | Pix775 &lt;int&gt; | Pix776 &lt;int&gt; | Pix777 &lt;int&gt; | Pix778 &lt;int&gt; | Pix779 &lt;int&gt; | Pix780 &lt;int&gt; | Pix781 &lt;int&gt; | Pix782 &lt;int&gt; | Pix783 &lt;int&gt; | Pix784 &lt;int&gt; |\n",
       "|---|---|---|---|---|---|---|---|---|---|---|---|---|---|---|---|---|---|---|---|---|\n",
       "| 2 | 2 | 0 | 0 | 0.8 | 0.2 | 0.0 | 0.0 | 0 | 0.0 | ⋯ | 0 | 0 | 0 | 0 | 0 | 0 | 0 | 0 | 0 | 0 |\n",
       "| 1 | 1 | 0 | 1 | 0.0 | 0.0 | 0.0 | 0.0 | 0 | 0.0 | ⋯ | 0 | 0 | 0 | 0 | 0 | 0 | 0 | 0 | 0 | 0 |\n",
       "| 4 | 4 | 0 | 0 | 0.0 | 0.0 | 0.8 | 0.0 | 0 | 0.0 | ⋯ | 0 | 0 | 0 | 0 | 0 | 0 | 0 | 0 | 0 | 0 |\n",
       "| 4 | 4 | 0 | 0 | 0.0 | 0.0 | 0.6 | 0.0 | 0 | 0.2 | ⋯ | 0 | 0 | 0 | 0 | 0 | 0 | 0 | 0 | 0 | 0 |\n",
       "| 5 | 5 | 0 | 0 | 0.0 | 0.0 | 0.4 | 0.6 | 0 | 0.0 | ⋯ | 0 | 0 | 0 | 0 | 0 | 0 | 0 | 0 | 0 | 0 |\n",
       "| 0 | 0 | 1 | 0 | 0.0 | 0.0 | 0.0 | 0.0 | 0 | 0.0 | ⋯ | 0 | 0 | 0 | 0 | 0 | 0 | 0 | 0 | 0 | 0 |\n",
       "\n"
      ],
      "text/plain": [
       "  Label .pred_class .pred_0 .pred_1 .pred_2 .pred_3 .pred_4 .pred_5 .pred_6\n",
       "1 2     2           0       0       0.8     0.2     0.0     0.0     0      \n",
       "2 1     1           0       1       0.0     0.0     0.0     0.0     0      \n",
       "3 4     4           0       0       0.0     0.0     0.8     0.0     0      \n",
       "4 4     4           0       0       0.0     0.0     0.6     0.0     0      \n",
       "5 5     5           0       0       0.0     0.0     0.4     0.6     0      \n",
       "6 0     0           1       0       0.0     0.0     0.0     0.0     0      \n",
       "  .pred_7 ⋯ Pix775 Pix776 Pix777 Pix778 Pix779 Pix780 Pix781 Pix782 Pix783\n",
       "1 0.0     ⋯ 0      0      0      0      0      0      0      0      0     \n",
       "2 0.0     ⋯ 0      0      0      0      0      0      0      0      0     \n",
       "3 0.0     ⋯ 0      0      0      0      0      0      0      0      0     \n",
       "4 0.2     ⋯ 0      0      0      0      0      0      0      0      0     \n",
       "5 0.0     ⋯ 0      0      0      0      0      0      0      0      0     \n",
       "6 0.0     ⋯ 0      0      0      0      0      0      0      0      0     \n",
       "  Pix784\n",
       "1 0     \n",
       "2 0     \n",
       "3 0     \n",
       "4 0     \n",
       "5 0     \n",
       "6 0     "
      ]
     },
     "metadata": {},
     "output_type": "display_data"
    }
   ],
   "source": [
    "DataTestWithPred=augment(WFModelMnist, DataTest)\n",
    "head(DataTestWithPred) |> \n",
    "  select(Label, .pred_class, everything())"
   ]
  },
  {
   "cell_type": "code",
   "execution_count": 101,
   "id": "24d05b0d",
   "metadata": {
    "vscode": {
     "languageId": "r"
    }
   },
   "outputs": [
    {
     "data": {
      "text/plain": [
       "          Truth\n",
       "Prediction  0  1  2  3  4  5  6  7  8  9\n",
       "         0  9  0  1  0  0  0  1  0  0  0\n",
       "         1  0 18  3  1  2  2  1  1  0  0\n",
       "         2  0  0 10  0  0  0  0  0  0  0\n",
       "         3  1  0  1 11  0  0  0  0  0  0\n",
       "         4  1  0  0  1 16  0  0  0  0  1\n",
       "         5  0  0  0  1  0 12  2  0  0  0\n",
       "         6  0  0  0  0  0  0 11  0  0  0\n",
       "         7  0  0  1  0  0  0  0  7  0  2\n",
       "         8  0  0  0  0  0  0  0  0 11  0\n",
       "         9  0  0  0  0  1  1  0  7  2 13"
      ]
     },
     "metadata": {},
     "output_type": "display_data"
    }
   ],
   "source": [
    "conf_mat(DataTestWithPred, truth=Label, estimate = .pred_class)"
   ]
  },
  {
   "cell_type": "code",
   "execution_count": 102,
   "id": "5ae51044",
   "metadata": {
    "vscode": {
     "languageId": "r"
    }
   },
   "outputs": [
    {
     "data": {
      "text/html": [
       "<table class=\"dataframe\">\n",
       "<caption>A tibble: 3 × 3</caption>\n",
       "<thead>\n",
       "\t<tr><th scope=col>.metric</th><th scope=col>.estimator</th><th scope=col>.estimate</th></tr>\n",
       "\t<tr><th scope=col>&lt;chr&gt;</th><th scope=col>&lt;chr&gt;</th><th scope=col>&lt;dbl&gt;</th></tr>\n",
       "</thead>\n",
       "<tbody>\n",
       "\t<tr><td>accuracy   </td><td>multiclass</td><td>0.7763158</td></tr>\n",
       "\t<tr><td>sensitivity</td><td>macro     </td><td>0.7729655</td></tr>\n",
       "\t<tr><td>specificity</td><td>macro     </td><td>0.9749462</td></tr>\n",
       "</tbody>\n",
       "</table>\n"
      ],
      "text/latex": [
       "A tibble: 3 × 3\n",
       "\\begin{tabular}{lll}\n",
       " .metric & .estimator & .estimate\\\\\n",
       " <chr> & <chr> & <dbl>\\\\\n",
       "\\hline\n",
       "\t accuracy    & multiclass & 0.7763158\\\\\n",
       "\t sensitivity & macro      & 0.7729655\\\\\n",
       "\t specificity & macro      & 0.9749462\\\\\n",
       "\\end{tabular}\n"
      ],
      "text/markdown": [
       "\n",
       "A tibble: 3 × 3\n",
       "\n",
       "| .metric &lt;chr&gt; | .estimator &lt;chr&gt; | .estimate &lt;dbl&gt; |\n",
       "|---|---|---|\n",
       "| accuracy    | multiclass | 0.7763158 |\n",
       "| sensitivity | macro      | 0.7729655 |\n",
       "| specificity | macro      | 0.9749462 |\n",
       "\n"
      ],
      "text/plain": [
       "  .metric     .estimator .estimate\n",
       "1 accuracy    multiclass 0.7763158\n",
       "2 sensitivity macro      0.7729655\n",
       "3 specificity macro      0.9749462"
      ]
     },
     "metadata": {},
     "output_type": "display_data"
    }
   ],
   "source": [
    "MetricsSetMnist=metric_set(accuracy, sensitivity, specificity)\n",
    "MetricsSetMnist(DataTestWithPred, truth=Label, estimate=.pred_class)"
   ]
  },
  {
   "cell_type": "code",
   "execution_count": 103,
   "id": "54343e9b",
   "metadata": {
    "vscode": {
     "languageId": "r"
    }
   },
   "outputs": [
    {
     "name": "stderr",
     "output_type": "stream",
     "text": [
      "Warning message:\n",
      "\"Missing `trust` will be set to FALSE by default for RDS in 2.0.0.\"\n"
     ]
    },
    {
     "name": "stdout",
     "output_type": "stream",
     "text": [
      "The MSE for VecBeta[1]=4 and VecBeta[2]=61 is: 29.8"
     ]
    }
   ],
   "source": [
    "DataMockup=\n",
    "import(\"https://ai.lange-analytics.com/data/DataStudyTimeMockup.rds\")\n",
    "VecBeta=c(4, 61)\n",
    "DataTable=DataMockup |>\n",
    "mutate(PredGrade=VecBeta[1]*StudyTime+VecBeta[2]) |>\n",
    "mutate(Error=PredGrade-Grade) |>\n",
    "mutate(ErrorSq=Error^2)\n",
    "MSE=mean(DataTable$ErrorSq)\n",
    "cat(\"The MSE for VecBeta[1]=4 and VecBeta[2]=61 is:\", MSE )"
   ]
  },
  {
   "cell_type": "code",
   "execution_count": 104,
   "id": "04fff082",
   "metadata": {
    "vscode": {
     "languageId": "r"
    }
   },
   "outputs": [],
   "source": [
    "SumOfX=sum(DataMockup$StudyTime)\n",
    "SumOfY=sum(DataMockup$Grade)"
   ]
  },
  {
   "cell_type": "code",
   "execution_count": 105,
   "id": "8a65476e",
   "metadata": {
    "vscode": {
     "languageId": "r"
    }
   },
   "outputs": [],
   "source": [
    "DataTable=DataMockup |>\n",
    "mutate(GradeXStudyTime=Grade*StudyTime) |>\n",
    "mutate(StudyTimeSquared=StudyTime^2)"
   ]
  },
  {
   "cell_type": "code",
   "execution_count": 106,
   "id": "15a3bf0f",
   "metadata": {
    "vscode": {
     "languageId": "r"
    }
   },
   "outputs": [
    {
     "name": "stdout",
     "output_type": "stream",
     "text": [
      "Based on the training dataset the optimal value for Beta1 = 3.962687"
     ]
    }
   ],
   "source": [
    "N=5\n",
    "SumOfY=sum(DataTable$Grade)\n",
    "SumOfX=sum(DataTable$StudyTime)\n",
    "SumOfXY=sum(DataTable$GradeXStudyTime)\n",
    "SumOfXSq=sum(DataTable$StudyTimeSquared)\n",
    "Beta1opt=(N*SumOfXY-SumOfX*SumOfY)/(N*SumOfXSq-SumOfX^2)\n",
    "cat(\"Based on the training dataset the optimal value for Beta1 =\",\n",
    "Beta1opt)"
   ]
  },
  {
   "cell_type": "code",
   "execution_count": 107,
   "id": "9cfae161",
   "metadata": {
    "vscode": {
     "languageId": "r"
    }
   },
   "outputs": [
    {
     "name": "stdout",
     "output_type": "stream",
     "text": [
      "Based on the training dataset the optimal value for Beta2 = 64.1791"
     ]
    }
   ],
   "source": [
    "Beta2opt= (SumOfY-Beta1opt*SumOfX)/N\n",
    "cat(\"Based on the training dataset the optimal value for Beta2 =\",\n",
    "Beta2opt)"
   ]
  },
  {
   "cell_type": "code",
   "execution_count": 108,
   "id": "de153a96",
   "metadata": {
    "vscode": {
     "languageId": "r"
    }
   },
   "outputs": [
    {
     "data": {
      "text/html": [
       "<table class=\"dataframe\">\n",
       "<caption>A tibble: 2 × 5</caption>\n",
       "<thead>\n",
       "\t<tr><th scope=col>term</th><th scope=col>estimate</th><th scope=col>std.error</th><th scope=col>statistic</th><th scope=col>p.value</th></tr>\n",
       "\t<tr><th scope=col>&lt;chr&gt;</th><th scope=col>&lt;dbl&gt;</th><th scope=col>&lt;dbl&gt;</th><th scope=col>&lt;dbl&gt;</th><th scope=col>&lt;dbl&gt;</th></tr>\n",
       "</thead>\n",
       "<tbody>\n",
       "\t<tr><td>(Intercept)</td><td>64.179104</td><td>6.059962</td><td>10.590678</td><td>0.001798593</td></tr>\n",
       "\t<tr><td>StudyTime  </td><td> 3.962687</td><td>1.137132</td><td> 3.484809</td><td>0.039916217</td></tr>\n",
       "</tbody>\n",
       "</table>\n"
      ],
      "text/latex": [
       "A tibble: 2 × 5\n",
       "\\begin{tabular}{lllll}\n",
       " term & estimate & std.error & statistic & p.value\\\\\n",
       " <chr> & <dbl> & <dbl> & <dbl> & <dbl>\\\\\n",
       "\\hline\n",
       "\t (Intercept) & 64.179104 & 6.059962 & 10.590678 & 0.001798593\\\\\n",
       "\t StudyTime   &  3.962687 & 1.137132 &  3.484809 & 0.039916217\\\\\n",
       "\\end{tabular}\n"
      ],
      "text/markdown": [
       "\n",
       "A tibble: 2 × 5\n",
       "\n",
       "| term &lt;chr&gt; | estimate &lt;dbl&gt; | std.error &lt;dbl&gt; | statistic &lt;dbl&gt; | p.value &lt;dbl&gt; |\n",
       "|---|---|---|---|---|\n",
       "| (Intercept) | 64.179104 | 6.059962 | 10.590678 | 0.001798593 |\n",
       "| StudyTime   |  3.962687 | 1.137132 |  3.484809 | 0.039916217 |\n",
       "\n"
      ],
      "text/plain": [
       "  term        estimate  std.error statistic p.value    \n",
       "1 (Intercept) 64.179104 6.059962  10.590678 0.001798593\n",
       "2 StudyTime    3.962687 1.137132   3.484809 0.039916217"
      ]
     },
     "metadata": {},
     "output_type": "display_data"
    }
   ],
   "source": [
    "library(tidymodels)\n",
    "RecipeMockup=recipe(Grade~StudyTime, data=DataMockup)\n",
    "ModelDesignLinRegr=linear_reg() |>\n",
    "set_engine(\"lm\") |>\n",
    "set_mode(\"regression\")\n",
    "WFModelMockup=workflow() |>\n",
    "add_recipe(RecipeMockup) |>\n",
    "add_model(ModelDesignLinRegr) |>\n",
    "fit(DataMockup)\n",
    "tidy(WFModelMockup)"
   ]
  },
  {
   "cell_type": "code",
   "execution_count": 109,
   "id": "78f4d9d0",
   "metadata": {
    "vscode": {
     "languageId": "r"
    }
   },
   "outputs": [
    {
     "name": "stderr",
     "output_type": "stream",
     "text": [
      "Warning message:\n",
      "\"Missing `trust` will be set to FALSE by default for RDS in 2.0.0.\"\n",
      "Warning message:\n",
      "\"Missing `trust` will be set to FALSE by default for RDS in 2.0.0.\"\n"
     ]
    },
    {
     "name": "stdout",
     "output_type": "stream",
     "text": [
      "GridBetaPairs has 40401 rows.  Beta1 Beta2      MSE\n",
      "1  3.96  64.2 20.79264\n"
     ]
    }
   ],
   "source": [
    "FctMSE=import(\"https://ai.lange-analytics.com/source/FctMSE.rds\")\n",
    "DataMockup=\n",
    "import(\"https://ai.lange-analytics.com/data/DataStudyTimeMockup.rds\")\n",
    "VecBeta1Values=seq(3, 5, 0.01) #creates 201 beta1 values\n",
    "VecBeta2Values=seq(50, 70, 0.1)#creates 201 beta2 values\n",
    "GridBetaPairs=expand.grid(Beta1=VecBeta1Values, Beta2=VecBeta2Values)\n",
    "cat(\"GridBetaPairs has\", nrow(GridBetaPairs), \"rows.\")\n",
    "VecMSE=apply(GridBetaPairs, FUN=FctMSE,data=DataMockup,MARGIN=1)\n",
    "GridBetaPairs=mutate(GridBetaPairs, MSE=VecMSE)\n",
    "BestModel=filter(GridBetaPairs, MSE==min(MSE))\n",
    "print(BestModel)"
   ]
  },
  {
   "cell_type": "code",
   "execution_count": 110,
   "id": "76c996c8",
   "metadata": {
    "vscode": {
     "languageId": "r"
    }
   },
   "outputs": [
    {
     "name": "stdout",
     "output_type": "stream",
     "text": [
      "Optimal parameters values fo beta1 and beta2: 3.962824 64.17815\n",
      " Minuimum MSE: 20.79254"
     ]
    }
   ],
   "source": [
    "VecBetaFirstTrial=c(4, 61)\n",
    "BestModel=optim(VecBetaFirstTrial, FctMSE, data=DataMockup)\n",
    "cat(\"Optimal parameters values fo beta1 and beta2:\", BestModel$par)\n",
    "cat(\"\\n\",\"Minuimum MSE:\", BestModel$value)"
   ]
  },
  {
   "cell_type": "code",
   "execution_count": 114,
   "id": "b983952e",
   "metadata": {
    "vscode": {
     "languageId": "r"
    }
   },
   "outputs": [
    {
     "data": {
      "text/html": [
       "<table class=\"dataframe\">\n",
       "<caption>A data.frame: 6 × 4</caption>\n",
       "<thead>\n",
       "\t<tr><th></th><th scope=col>Price</th><th scope=col>Sqft</th><th scope=col>Grade</th><th scope=col>Waterfront</th></tr>\n",
       "\t<tr><th></th><th scope=col>&lt;dbl&gt;</th><th scope=col>&lt;int&gt;</th><th scope=col>&lt;int&gt;</th><th scope=col>&lt;chr&gt;</th></tr>\n",
       "</thead>\n",
       "<tbody>\n",
       "\t<tr><th scope=row>1</th><td>221900</td><td>1180</td><td>7</td><td>no</td></tr>\n",
       "\t<tr><th scope=row>2</th><td>180000</td><td> 770</td><td>6</td><td>no</td></tr>\n",
       "\t<tr><th scope=row>3</th><td>189000</td><td>1200</td><td>7</td><td>no</td></tr>\n",
       "\t<tr><th scope=row>4</th><td>230000</td><td>1250</td><td>7</td><td>no</td></tr>\n",
       "\t<tr><th scope=row>5</th><td>252700</td><td>1070</td><td>7</td><td>no</td></tr>\n",
       "\t<tr><th scope=row>6</th><td>240000</td><td>1220</td><td>7</td><td>no</td></tr>\n",
       "</tbody>\n",
       "</table>\n"
      ],
      "text/latex": [
       "A data.frame: 6 × 4\n",
       "\\begin{tabular}{r|llll}\n",
       "  & Price & Sqft & Grade & Waterfront\\\\\n",
       "  & <dbl> & <int> & <int> & <chr>\\\\\n",
       "\\hline\n",
       "\t1 & 221900 & 1180 & 7 & no\\\\\n",
       "\t2 & 180000 &  770 & 6 & no\\\\\n",
       "\t3 & 189000 & 1200 & 7 & no\\\\\n",
       "\t4 & 230000 & 1250 & 7 & no\\\\\n",
       "\t5 & 252700 & 1070 & 7 & no\\\\\n",
       "\t6 & 240000 & 1220 & 7 & no\\\\\n",
       "\\end{tabular}\n"
      ],
      "text/markdown": [
       "\n",
       "A data.frame: 6 × 4\n",
       "\n",
       "| <!--/--> | Price &lt;dbl&gt; | Sqft &lt;int&gt; | Grade &lt;int&gt; | Waterfront &lt;chr&gt; |\n",
       "|---|---|---|---|---|\n",
       "| 1 | 221900 | 1180 | 7 | no |\n",
       "| 2 | 180000 |  770 | 6 | no |\n",
       "| 3 | 189000 | 1200 | 7 | no |\n",
       "| 4 | 230000 | 1250 | 7 | no |\n",
       "| 5 | 252700 | 1070 | 7 | no |\n",
       "| 6 | 240000 | 1220 | 7 | no |\n",
       "\n"
      ],
      "text/plain": [
       "  Price  Sqft Grade Waterfront\n",
       "1 221900 1180 7     no        \n",
       "2 180000  770 6     no        \n",
       "3 189000 1200 7     no        \n",
       "4 230000 1250 7     no        \n",
       "5 252700 1070 7     no        \n",
       "6 240000 1220 7     no        "
      ]
     },
     "metadata": {},
     "output_type": "display_data"
    }
   ],
   "source": [
    "DataHousing= import(\"https://ai.lange-analytics.com/data/HousingData.csv\") |>\n",
    "  clean_names(\"upper_camel\") |>\n",
    "  select(Price, Sqft=SqftLiving, Grade, Waterfront)\n",
    "\n",
    "set.seed(777)\n",
    "Split7030=initial_split(DataHousing, prop=0.7, strata=Price, breaks=5)\n",
    "DataTrain=training(Split7030)\n",
    "DataTest=testing(Split7030)\n",
    "head(DataTrain)"
   ]
  },
  {
   "cell_type": "code",
   "execution_count": 122,
   "id": "21232419",
   "metadata": {
    "vscode": {
     "languageId": "r"
    }
   },
   "outputs": [
    {
     "name": "stderr",
     "output_type": "stream",
     "text": [
      "\n",
      "\n",
      "\u001b[36m──\u001b[39m \u001b[1mRecipe\u001b[22m \u001b[36m──────────────────────────────────────────────────────────────────────\u001b[39m\n",
      "\n",
      "\n",
      "\n",
      "── Inputs \n",
      "\n",
      "Number of variables by role\n",
      "\n",
      "outcome:   1\n",
      "predictor: 3\n",
      "\n",
      "\n",
      "\n",
      "── Operations \n",
      "\n",
      "\u001b[36m•\u001b[39m Dummy variables from: \u001b[34mWaterfront\u001b[39m\n",
      "\n"
     ]
    }
   ],
   "source": [
    "library(tidymodels)\n",
    "RecipeHouses=recipe(Price~., data=DataTrain) |>\n",
    "step_dummy(Waterfront) # |> \n",
    "#step_dummy(Grade)\n",
    "\n",
    "\n",
    "RecipeHouses"
   ]
  },
  {
   "cell_type": "code",
   "execution_count": 123,
   "id": "c891fe15",
   "metadata": {
    "vscode": {
     "languageId": "r"
    }
   },
   "outputs": [
    {
     "name": "stdout",
     "output_type": "stream",
     "text": [
      "Linear Regression Model Specification (regression)\n",
      "\n",
      "Computational engine: lm \n",
      "\n"
     ]
    }
   ],
   "source": [
    "ModelDesignHouses=linear_reg() |>\n",
    "set_engine(\"lm\") |>\n",
    "set_mode(\"regression\")\n",
    "print(ModelDesignHouses)"
   ]
  },
  {
   "cell_type": "code",
   "execution_count": 124,
   "id": "5166a015",
   "metadata": {
    "vscode": {
     "languageId": "r"
    }
   },
   "outputs": [
    {
     "name": "stdout",
     "output_type": "stream",
     "text": [
      "══ Workflow [trained] ══════════════════════════════════════════════════════════\n",
      "\u001b[3mPreprocessor:\u001b[23m Recipe\n",
      "\u001b[3mModel:\u001b[23m linear_reg()\n",
      "\n",
      "── Preprocessor ────────────────────────────────────────────────────────────────\n",
      "1 Recipe Step\n",
      "\n",
      "• step_dummy()\n",
      "\n",
      "── Model ───────────────────────────────────────────────────────────────────────\n",
      "\n",
      "Call:\n",
      "stats::lm(formula = ..y ~ ., data = data)\n",
      "\n",
      "Coefficients:\n",
      "   (Intercept)            Sqft           Grade  Waterfront_yes  \n",
      "     -570056.2           179.6         95214.1        868338.1  \n",
      "\n"
     ]
    }
   ],
   "source": [
    "WFModelHouses=workflow() |>\n",
    "add_recipe(RecipeHouses) |>\n",
    "add_model(ModelDesignHouses) |>\n",
    "fit(DataTrain)\n",
    "print(WFModelHouses)"
   ]
  },
  {
   "cell_type": "code",
   "execution_count": 125,
   "id": "6b008c10",
   "metadata": {
    "vscode": {
     "languageId": "r"
    }
   },
   "outputs": [
    {
     "name": "stdout",
     "output_type": "stream",
     "text": [
      "\u001b[90m# A tibble: 4 × 5\u001b[39m\n",
      "  term           estimate std.error statistic   p.value\n",
      "  \u001b[3m\u001b[90m<chr>\u001b[39m\u001b[23m             \u001b[3m\u001b[90m<dbl>\u001b[39m\u001b[23m     \u001b[3m\u001b[90m<dbl>\u001b[39m\u001b[23m     \u001b[3m\u001b[90m<dbl>\u001b[39m\u001b[23m     \u001b[3m\u001b[90m<dbl>\u001b[39m\u001b[23m\n",
      "\u001b[90m1\u001b[39m (Intercept)    -\u001b[31m\u001b[4m5\u001b[24m\u001b[4m7\u001b[24m\u001b[4m0\u001b[24m\u001b[39m\u001b[31m056\u001b[39m\u001b[31m.\u001b[39m  \u001b[4m1\u001b[24m\u001b[4m5\u001b[24m133.       -\u001b[31m37\u001b[39m\u001b[31m.\u001b[39m\u001b[31m7\u001b[39m 6.63\u001b[90me\u001b[39m\u001b[31m-297\u001b[39m\n",
      "\u001b[90m2\u001b[39m Sqft               180.      3.25      55.2 0   \u001b[90m \u001b[39m    \n",
      "\u001b[90m3\u001b[39m Grade            \u001b[4m9\u001b[24m\u001b[4m5\u001b[24m214.   \u001b[4m2\u001b[24m548.        37.4 1.65\u001b[90me\u001b[39m\u001b[31m-292\u001b[39m\n",
      "\u001b[90m4\u001b[39m Waterfront_yes  \u001b[4m8\u001b[24m\u001b[4m6\u001b[24m\u001b[4m8\u001b[24m338.  \u001b[4m2\u001b[24m\u001b[4m2\u001b[24m200.        39.1 7.12\u001b[90me\u001b[39m\u001b[31m-319\u001b[39m\n"
     ]
    }
   ],
   "source": [
    "ResultsTidy=tidy(WFModelHouses)\n",
    "print(ResultsTidy)"
   ]
  },
  {
   "cell_type": "code",
   "execution_count": 127,
   "id": "172136a3",
   "metadata": {
    "vscode": {
     "languageId": "r"
    }
   },
   "outputs": [
    {
     "data": {
      "text/html": [
       "<table class=\"dataframe\">\n",
       "<caption>A tibble: 6 × 6</caption>\n",
       "<thead>\n",
       "\t<tr><th scope=col>.pred</th><th scope=col>.resid</th><th scope=col>Price</th><th scope=col>Sqft</th><th scope=col>Grade</th><th scope=col>Waterfront</th></tr>\n",
       "\t<tr><th scope=col>&lt;dbl&gt;</th><th scope=col>&lt;dbl&gt;</th><th scope=col>&lt;dbl&gt;</th><th scope=col>&lt;int&gt;</th><th scope=col>&lt;int&gt;</th><th scope=col>&lt;chr&gt;</th></tr>\n",
       "</thead>\n",
       "<tbody>\n",
       "\t<tr><td>1450646.9</td><td>-220646.866</td><td>1230000</td><td>5420</td><td>11</td><td>no</td></tr>\n",
       "\t<tr><td> 404430.0</td><td>-146929.999</td><td> 257500</td><td>1715</td><td> 7</td><td>no</td></tr>\n",
       "\t<tr><td> 286802.2</td><td>   5047.814</td><td> 291850</td><td>1060</td><td> 7</td><td>no</td></tr>\n",
       "\t<tr><td> 416103.0</td><td>-186602.988</td><td> 229500</td><td>1780</td><td> 7</td><td>no</td></tr>\n",
       "\t<tr><td> 421490.5</td><td> 108509.479</td><td> 530000</td><td>1810</td><td> 7</td><td>no</td></tr>\n",
       "\t<tr><td> 816645.0</td><td>-166645.036</td><td> 650000</td><td>2950</td><td> 9</td><td>no</td></tr>\n",
       "</tbody>\n",
       "</table>\n"
      ],
      "text/latex": [
       "A tibble: 6 × 6\n",
       "\\begin{tabular}{llllll}\n",
       " .pred & .resid & Price & Sqft & Grade & Waterfront\\\\\n",
       " <dbl> & <dbl> & <dbl> & <int> & <int> & <chr>\\\\\n",
       "\\hline\n",
       "\t 1450646.9 & -220646.866 & 1230000 & 5420 & 11 & no\\\\\n",
       "\t  404430.0 & -146929.999 &  257500 & 1715 &  7 & no\\\\\n",
       "\t  286802.2 &    5047.814 &  291850 & 1060 &  7 & no\\\\\n",
       "\t  416103.0 & -186602.988 &  229500 & 1780 &  7 & no\\\\\n",
       "\t  421490.5 &  108509.479 &  530000 & 1810 &  7 & no\\\\\n",
       "\t  816645.0 & -166645.036 &  650000 & 2950 &  9 & no\\\\\n",
       "\\end{tabular}\n"
      ],
      "text/markdown": [
       "\n",
       "A tibble: 6 × 6\n",
       "\n",
       "| .pred &lt;dbl&gt; | .resid &lt;dbl&gt; | Price &lt;dbl&gt; | Sqft &lt;int&gt; | Grade &lt;int&gt; | Waterfront &lt;chr&gt; |\n",
       "|---|---|---|---|---|---|\n",
       "| 1450646.9 | -220646.866 | 1230000 | 5420 | 11 | no |\n",
       "|  404430.0 | -146929.999 |  257500 | 1715 |  7 | no |\n",
       "|  286802.2 |    5047.814 |  291850 | 1060 |  7 | no |\n",
       "|  416103.0 | -186602.988 |  229500 | 1780 |  7 | no |\n",
       "|  421490.5 |  108509.479 |  530000 | 1810 |  7 | no |\n",
       "|  816645.0 | -166645.036 |  650000 | 2950 |  9 | no |\n",
       "\n"
      ],
      "text/plain": [
       "  .pred     .resid      Price   Sqft Grade Waterfront\n",
       "1 1450646.9 -220646.866 1230000 5420 11    no        \n",
       "2  404430.0 -146929.999  257500 1715  7    no        \n",
       "3  286802.2    5047.814  291850 1060  7    no        \n",
       "4  416103.0 -186602.988  229500 1780  7    no        \n",
       "5  421490.5  108509.479  530000 1810  7    no        \n",
       "6  816645.0 -166645.036  650000 2950  9    no        "
      ]
     },
     "metadata": {},
     "output_type": "display_data"
    }
   ],
   "source": [
    "DataTestWithPred=augment(WFModelHouses, DataTest)\n",
    "head(DataTestWithPred)"
   ]
  },
  {
   "cell_type": "code",
   "execution_count": 128,
   "id": "9b63127e",
   "metadata": {
    "vscode": {
     "languageId": "r"
    }
   },
   "outputs": [
    {
     "data": {
      "text/html": [
       "<table class=\"dataframe\">\n",
       "<caption>A tibble: 3 × 3</caption>\n",
       "<thead>\n",
       "\t<tr><th scope=col>.metric</th><th scope=col>.estimator</th><th scope=col>.estimate</th></tr>\n",
       "\t<tr><th scope=col>&lt;chr&gt;</th><th scope=col>&lt;chr&gt;</th><th scope=col>&lt;dbl&gt;</th></tr>\n",
       "</thead>\n",
       "<tbody>\n",
       "\t<tr><td>rmse</td><td>standard</td><td>2.446563e+05</td></tr>\n",
       "\t<tr><td>rsq </td><td>standard</td><td>5.488493e-01</td></tr>\n",
       "\t<tr><td>mae </td><td>standard</td><td>1.633577e+05</td></tr>\n",
       "</tbody>\n",
       "</table>\n"
      ],
      "text/latex": [
       "A tibble: 3 × 3\n",
       "\\begin{tabular}{lll}\n",
       " .metric & .estimator & .estimate\\\\\n",
       " <chr> & <chr> & <dbl>\\\\\n",
       "\\hline\n",
       "\t rmse & standard & 2.446563e+05\\\\\n",
       "\t rsq  & standard & 5.488493e-01\\\\\n",
       "\t mae  & standard & 1.633577e+05\\\\\n",
       "\\end{tabular}\n"
      ],
      "text/markdown": [
       "\n",
       "A tibble: 3 × 3\n",
       "\n",
       "| .metric &lt;chr&gt; | .estimator &lt;chr&gt; | .estimate &lt;dbl&gt; |\n",
       "|---|---|---|\n",
       "| rmse | standard | 2.446563e+05 |\n",
       "| rsq  | standard | 5.488493e-01 |\n",
       "| mae  | standard | 1.633577e+05 |\n",
       "\n"
      ],
      "text/plain": [
       "  .metric .estimator .estimate   \n",
       "1 rmse    standard   2.446563e+05\n",
       "2 rsq     standard   5.488493e-01\n",
       "3 mae     standard   1.633577e+05"
      ]
     },
     "metadata": {},
     "output_type": "display_data"
    }
   ],
   "source": [
    "metrics(DataTestWithPred,truth=Price, estimate=.pred)\n"
   ]
  },
  {
   "cell_type": "code",
   "execution_count": 129,
   "id": "13030a71",
   "metadata": {
    "vscode": {
     "languageId": "r"
    }
   },
   "outputs": [],
   "source": [
    "DataHousing= import(\"https://ai.lange-analytics.com/data/HousingData.csv\") |>\n",
    "clean_names(\"upper_camel\") |>\n",
    "select(Price, Sqft=SqftLiving)\n",
    "set.seed(777)\n",
    "Split001=DataHousing |>\n",
    "initial_split(prop=0.001, strata=Price, breaks=5)\n",
    "DataTrain=training(Split001)\n",
    "DataTest=testing(Split001)"
   ]
  },
  {
   "cell_type": "code",
   "execution_count": 130,
   "id": "32403f13",
   "metadata": {
    "vscode": {
     "languageId": "r"
    }
   },
   "outputs": [],
   "source": [
    "ModelDesignLinRegr=linear_reg() |>\n",
    "  set_engine(\"lm\") |>\n",
    "  set_mode(\"regression\")\n",
    "\n",
    "RecipeHouses=recipe(Price~., data=DataTrain) |>\n",
    "  step_mutate(Sqft2=Sqft^2, Sqft3=Sqft^3,\n",
    "    Sqft4=Sqft^4,Sqft5=Sqft^5)"
   ]
  },
  {
   "cell_type": "code",
   "execution_count": 135,
   "id": "4a3ce5f0",
   "metadata": {
    "vscode": {
     "languageId": "r"
    }
   },
   "outputs": [],
   "source": [
    "WFModelHouses=workflow() |>\n",
    "add_recipe(RecipeHousesPoly10) |>\n",
    "add_model(ModelDesignLinRegr) |>\n",
    "fit(DataTrain)"
   ]
  },
  {
   "cell_type": "code",
   "execution_count": 136,
   "id": "818b9b57",
   "metadata": {
    "vscode": {
     "languageId": "r"
    }
   },
   "outputs": [
    {
     "name": "stderr",
     "output_type": "stream",
     "text": [
      "Warning message in predict.lm(object = object$fit, newdata = new_data, type = \"response\", :\n",
      "\"prediction from rank-deficient fit; consider predict(., rankdeficient=\"NA\")\"\n"
     ]
    },
    {
     "data": {
      "text/html": [
       "<table class=\"dataframe\">\n",
       "<caption>A tibble: 3 × 3</caption>\n",
       "<thead>\n",
       "\t<tr><th scope=col>.metric</th><th scope=col>.estimator</th><th scope=col>.estimate</th></tr>\n",
       "\t<tr><th scope=col>&lt;chr&gt;</th><th scope=col>&lt;chr&gt;</th><th scope=col>&lt;dbl&gt;</th></tr>\n",
       "</thead>\n",
       "<tbody>\n",
       "\t<tr><td>rmse</td><td>standard</td><td>1.234627e+05</td></tr>\n",
       "\t<tr><td>rsq </td><td>standard</td><td>7.669549e-01</td></tr>\n",
       "\t<tr><td>mae </td><td>standard</td><td>8.758509e+04</td></tr>\n",
       "</tbody>\n",
       "</table>\n"
      ],
      "text/latex": [
       "A tibble: 3 × 3\n",
       "\\begin{tabular}{lll}\n",
       " .metric & .estimator & .estimate\\\\\n",
       " <chr> & <chr> & <dbl>\\\\\n",
       "\\hline\n",
       "\t rmse & standard & 1.234627e+05\\\\\n",
       "\t rsq  & standard & 7.669549e-01\\\\\n",
       "\t mae  & standard & 8.758509e+04\\\\\n",
       "\\end{tabular}\n"
      ],
      "text/markdown": [
       "\n",
       "A tibble: 3 × 3\n",
       "\n",
       "| .metric &lt;chr&gt; | .estimator &lt;chr&gt; | .estimate &lt;dbl&gt; |\n",
       "|---|---|---|\n",
       "| rmse | standard | 1.234627e+05 |\n",
       "| rsq  | standard | 7.669549e-01 |\n",
       "| mae  | standard | 8.758509e+04 |\n",
       "\n"
      ],
      "text/plain": [
       "  .metric .estimator .estimate   \n",
       "1 rmse    standard   1.234627e+05\n",
       "2 rsq     standard   7.669549e-01\n",
       "3 mae     standard   8.758509e+04"
      ]
     },
     "metadata": {},
     "output_type": "display_data"
    }
   ],
   "source": [
    "DataTrainWithPred=augment(WFModelHouses, DataTrain)\n",
    "metrics(DataTrainWithPred, truth=Price, estimate=.pred)"
   ]
  },
  {
   "cell_type": "code",
   "execution_count": 137,
   "id": "fbe2c783",
   "metadata": {
    "vscode": {
     "languageId": "r"
    }
   },
   "outputs": [
    {
     "name": "stderr",
     "output_type": "stream",
     "text": [
      "Warning message in predict.lm(object = object$fit, newdata = new_data, type = \"response\", :\n",
      "\"prediction from rank-deficient fit; consider predict(., rankdeficient=\"NA\")\"\n"
     ]
    },
    {
     "data": {
      "text/html": [
       "<table class=\"dataframe\">\n",
       "<caption>A tibble: 3 × 3</caption>\n",
       "<thead>\n",
       "\t<tr><th scope=col>.metric</th><th scope=col>.estimator</th><th scope=col>.estimate</th></tr>\n",
       "\t<tr><th scope=col>&lt;chr&gt;</th><th scope=col>&lt;chr&gt;</th><th scope=col>&lt;dbl&gt;</th></tr>\n",
       "</thead>\n",
       "<tbody>\n",
       "\t<tr><td>rmse</td><td>standard</td><td>1.437378e+11</td></tr>\n",
       "\t<tr><td>rsq </td><td>standard</td><td>3.551657e-03</td></tr>\n",
       "\t<tr><td>mae </td><td>standard</td><td>1.255949e+09</td></tr>\n",
       "</tbody>\n",
       "</table>\n"
      ],
      "text/latex": [
       "A tibble: 3 × 3\n",
       "\\begin{tabular}{lll}\n",
       " .metric & .estimator & .estimate\\\\\n",
       " <chr> & <chr> & <dbl>\\\\\n",
       "\\hline\n",
       "\t rmse & standard & 1.437378e+11\\\\\n",
       "\t rsq  & standard & 3.551657e-03\\\\\n",
       "\t mae  & standard & 1.255949e+09\\\\\n",
       "\\end{tabular}\n"
      ],
      "text/markdown": [
       "\n",
       "A tibble: 3 × 3\n",
       "\n",
       "| .metric &lt;chr&gt; | .estimator &lt;chr&gt; | .estimate &lt;dbl&gt; |\n",
       "|---|---|---|\n",
       "| rmse | standard | 1.437378e+11 |\n",
       "| rsq  | standard | 3.551657e-03 |\n",
       "| mae  | standard | 1.255949e+09 |\n",
       "\n"
      ],
      "text/plain": [
       "  .metric .estimator .estimate   \n",
       "1 rmse    standard   1.437378e+11\n",
       "2 rsq     standard   3.551657e-03\n",
       "3 mae     standard   1.255949e+09"
      ]
     },
     "metadata": {},
     "output_type": "display_data"
    }
   ],
   "source": [
    "DataTestWithPred=augment(WFModelHouses, DataTest)\n",
    "metrics(DataTestWithPred, truth=Price, estimate=.pred)"
   ]
  },
  {
   "cell_type": "code",
   "execution_count": 134,
   "id": "708b0c49",
   "metadata": {
    "vscode": {
     "languageId": "r"
    }
   },
   "outputs": [],
   "source": [
    "RecipeHousesPoly10=recipe(Price~., data=DataTrain) |>\n",
    "step_poly(Sqft, degree=10,\n",
    "options=list(raw=TRUE))"
   ]
  },
  {
   "cell_type": "code",
   "execution_count": 138,
   "id": "8337be21",
   "metadata": {
    "vscode": {
     "languageId": "r"
    }
   },
   "outputs": [],
   "source": [
    "DataHousing=\n",
    "import(\"https://ai.lange-analytics.com/data/HousingData.csv\") |>\n",
    "clean_names(\"upper_camel\") |>\n",
    "select(Price, Sqft=SqftLiving)\n",
    "set.seed(987)\n",
    "Split80=DataHousing |>\n",
    "initial_split(prop=0.8, strata=Price, breaks=5)\n",
    "DataTrain=training(Split80)\n",
    "DataTest=testing(Split80)"
   ]
  },
  {
   "cell_type": "code",
   "execution_count": 143,
   "id": "fdf2c1b5",
   "metadata": {
    "vscode": {
     "languageId": "r"
    }
   },
   "outputs": [
    {
     "data": {
      "text/plain": [
       "══ Workflow ════════════════════════════════════════════════════════════════════\n",
       "\u001b[3mPreprocessor:\u001b[23m Recipe\n",
       "\u001b[3mModel:\u001b[23m linear_reg()\n",
       "\n",
       "── Preprocessor ────────────────────────────────────────────────────────────────\n",
       "1 Recipe Step\n",
       "\n",
       "• step_poly()\n",
       "\n",
       "── Model ───────────────────────────────────────────────────────────────────────\n",
       "Linear Regression Model Specification (regression)\n",
       "\n",
       "Computational engine: lm \n"
      ]
     },
     "metadata": {},
     "output_type": "display_data"
    }
   ],
   "source": [
    "RecipeHousesPolynomOLS=recipe(Price~., data=DataTrain) |>\n",
    "    step_poly(Sqft, degree=tune(),\n",
    "    options=list(raw=TRUE))\n",
    "\n",
    "ModelDesignLinRegr=linear_reg() |>\n",
    "  set_engine(\"lm\") |>\n",
    "  set_mode(\"regression\")\n",
    "\n",
    "TuneWFModelHouses=workflow() |>\n",
    "    add_model(ModelDesignLinRegr) |>\n",
    "    add_recipe(RecipeHousesPolynomOLS)\n",
    "\n",
    "(TuneWFModelHouses)"
   ]
  },
  {
   "cell_type": "code",
   "execution_count": 141,
   "id": "7254c26d",
   "metadata": {
    "vscode": {
     "languageId": "r"
    }
   },
   "outputs": [
    {
     "name": "stderr",
     "output_type": "stream",
     "text": [
      "Polynomial Degree (quantitative)\n",
      "\n",
      "Range: [1, 3]\n",
      "\n"
     ]
    }
   ],
   "source": [
    "degree()"
   ]
  },
  {
   "cell_type": "code",
   "execution_count": 144,
   "id": "9647bd93",
   "metadata": {
    "vscode": {
     "languageId": "r"
    }
   },
   "outputs": [
    {
     "name": "stdout",
     "output_type": "stream",
     "text": [
      "   degree\n",
      "1       1\n",
      "2       2\n",
      "3       3\n",
      "4       4\n",
      "5       5\n",
      "6       6\n",
      "7       7\n",
      "8       8\n",
      "9       9\n",
      "10     10\n"
     ]
    }
   ],
   "source": [
    "ParGridHouses=data.frame(degree=c(1:10))\n",
    "print(ParGridHouses)"
   ]
  },
  {
   "cell_type": "code",
   "execution_count": 145,
   "id": "b505dbbb",
   "metadata": {
    "vscode": {
     "languageId": "r"
    }
   },
   "outputs": [],
   "source": [
    "set.seed(987)\n",
    "FoldsHouses=vfold_cv(DataTrain, v=4, strata=Price)"
   ]
  },
  {
   "cell_type": "code",
   "execution_count": 146,
   "id": "a1bd4a72",
   "metadata": {
    "vscode": {
     "languageId": "r"
    }
   },
   "outputs": [],
   "source": [
    "TuneResultsHouses = tune_grid(\n",
    "  TuneWFModelHouses,\n",
    "  resamples = FoldsHouses,\n",
    "  grid = ParGridHouses,\n",
    "  metrics = metric_set(rmse, rsq, mae)\n",
    ")"
   ]
  },
  {
   "cell_type": "code",
   "execution_count": 149,
   "id": "40375581",
   "metadata": {
    "vscode": {
     "languageId": "r"
    }
   },
   "outputs": [
    {
     "data": {
      "text/html": [
       "<table class=\"dataframe\">\n",
       "<caption>A tibble: 5 × 7</caption>\n",
       "<thead>\n",
       "\t<tr><th scope=col>degree</th><th scope=col>.metric</th><th scope=col>.estimator</th><th scope=col>mean</th><th scope=col>n</th><th scope=col>std_err</th><th scope=col>.config</th></tr>\n",
       "\t<tr><th scope=col>&lt;int&gt;</th><th scope=col>&lt;chr&gt;</th><th scope=col>&lt;chr&gt;</th><th scope=col>&lt;dbl&gt;</th><th scope=col>&lt;int&gt;</th><th scope=col>&lt;dbl&gt;</th><th scope=col>&lt;chr&gt;</th></tr>\n",
       "</thead>\n",
       "<tbody>\n",
       "\t<tr><td>6</td><td>rmse</td><td>standard</td><td>251993.2</td><td>4</td><td>6178.924</td><td>Preprocessor06_Model1</td></tr>\n",
       "\t<tr><td>8</td><td>rmse</td><td>standard</td><td>252979.4</td><td>4</td><td>5970.989</td><td>Preprocessor08_Model1</td></tr>\n",
       "\t<tr><td>2</td><td>rmse</td><td>standard</td><td>255965.4</td><td>4</td><td>7242.560</td><td>Preprocessor02_Model1</td></tr>\n",
       "\t<tr><td>3</td><td>rmse</td><td>standard</td><td>257680.0</td><td>4</td><td>7875.282</td><td>Preprocessor03_Model1</td></tr>\n",
       "\t<tr><td>4</td><td>rmse</td><td>standard</td><td>260994.4</td><td>4</td><td>9910.966</td><td>Preprocessor04_Model1</td></tr>\n",
       "</tbody>\n",
       "</table>\n"
      ],
      "text/latex": [
       "A tibble: 5 × 7\n",
       "\\begin{tabular}{lllllll}\n",
       " degree & .metric & .estimator & mean & n & std\\_err & .config\\\\\n",
       " <int> & <chr> & <chr> & <dbl> & <int> & <dbl> & <chr>\\\\\n",
       "\\hline\n",
       "\t 6 & rmse & standard & 251993.2 & 4 & 6178.924 & Preprocessor06\\_Model1\\\\\n",
       "\t 8 & rmse & standard & 252979.4 & 4 & 5970.989 & Preprocessor08\\_Model1\\\\\n",
       "\t 2 & rmse & standard & 255965.4 & 4 & 7242.560 & Preprocessor02\\_Model1\\\\\n",
       "\t 3 & rmse & standard & 257680.0 & 4 & 7875.282 & Preprocessor03\\_Model1\\\\\n",
       "\t 4 & rmse & standard & 260994.4 & 4 & 9910.966 & Preprocessor04\\_Model1\\\\\n",
       "\\end{tabular}\n"
      ],
      "text/markdown": [
       "\n",
       "A tibble: 5 × 7\n",
       "\n",
       "| degree &lt;int&gt; | .metric &lt;chr&gt; | .estimator &lt;chr&gt; | mean &lt;dbl&gt; | n &lt;int&gt; | std_err &lt;dbl&gt; | .config &lt;chr&gt; |\n",
       "|---|---|---|---|---|---|---|\n",
       "| 6 | rmse | standard | 251993.2 | 4 | 6178.924 | Preprocessor06_Model1 |\n",
       "| 8 | rmse | standard | 252979.4 | 4 | 5970.989 | Preprocessor08_Model1 |\n",
       "| 2 | rmse | standard | 255965.4 | 4 | 7242.560 | Preprocessor02_Model1 |\n",
       "| 3 | rmse | standard | 257680.0 | 4 | 7875.282 | Preprocessor03_Model1 |\n",
       "| 4 | rmse | standard | 260994.4 | 4 | 9910.966 | Preprocessor04_Model1 |\n",
       "\n"
      ],
      "text/plain": [
       "  degree .metric .estimator mean     n std_err  .config              \n",
       "1 6      rmse    standard   251993.2 4 6178.924 Preprocessor06_Model1\n",
       "2 8      rmse    standard   252979.4 4 5970.989 Preprocessor08_Model1\n",
       "3 2      rmse    standard   255965.4 4 7242.560 Preprocessor02_Model1\n",
       "4 3      rmse    standard   257680.0 4 7875.282 Preprocessor03_Model1\n",
       "5 4      rmse    standard   260994.4 4 9910.966 Preprocessor04_Model1"
      ]
     },
     "metadata": {},
     "output_type": "display_data"
    }
   ],
   "source": [
    "show_best(TuneResultsHouses, metric=\"rmse\")"
   ]
  },
  {
   "cell_type": "code",
   "execution_count": 150,
   "id": "d66dce07",
   "metadata": {
    "vscode": {
     "languageId": "r"
    }
   },
   "outputs": [
    {
     "data": {
      "text/html": [
       "<table class=\"dataframe\">\n",
       "<caption>A tibble: 5 × 7</caption>\n",
       "<thead>\n",
       "\t<tr><th scope=col>degree</th><th scope=col>.metric</th><th scope=col>.estimator</th><th scope=col>mean</th><th scope=col>n</th><th scope=col>std_err</th><th scope=col>.config</th></tr>\n",
       "\t<tr><th scope=col>&lt;int&gt;</th><th scope=col>&lt;chr&gt;</th><th scope=col>&lt;chr&gt;</th><th scope=col>&lt;dbl&gt;</th><th scope=col>&lt;int&gt;</th><th scope=col>&lt;dbl&gt;</th><th scope=col>&lt;chr&gt;</th></tr>\n",
       "</thead>\n",
       "<tbody>\n",
       "\t<tr><td>6</td><td>rsq</td><td>standard</td><td>0.5221488</td><td>4</td><td>0.03044902</td><td>Preprocessor06_Model1</td></tr>\n",
       "\t<tr><td>8</td><td>rsq</td><td>standard</td><td>0.5206216</td><td>4</td><td>0.01100445</td><td>Preprocessor08_Model1</td></tr>\n",
       "\t<tr><td>2</td><td>rsq</td><td>standard</td><td>0.5133846</td><td>4</td><td>0.02767141</td><td>Preprocessor02_Model1</td></tr>\n",
       "\t<tr><td>3</td><td>rsq</td><td>standard</td><td>0.5075231</td><td>4</td><td>0.02262356</td><td>Preprocessor03_Model1</td></tr>\n",
       "\t<tr><td>4</td><td>rsq</td><td>standard</td><td>0.4981964</td><td>4</td><td>0.02952974</td><td>Preprocessor04_Model1</td></tr>\n",
       "</tbody>\n",
       "</table>\n"
      ],
      "text/latex": [
       "A tibble: 5 × 7\n",
       "\\begin{tabular}{lllllll}\n",
       " degree & .metric & .estimator & mean & n & std\\_err & .config\\\\\n",
       " <int> & <chr> & <chr> & <dbl> & <int> & <dbl> & <chr>\\\\\n",
       "\\hline\n",
       "\t 6 & rsq & standard & 0.5221488 & 4 & 0.03044902 & Preprocessor06\\_Model1\\\\\n",
       "\t 8 & rsq & standard & 0.5206216 & 4 & 0.01100445 & Preprocessor08\\_Model1\\\\\n",
       "\t 2 & rsq & standard & 0.5133846 & 4 & 0.02767141 & Preprocessor02\\_Model1\\\\\n",
       "\t 3 & rsq & standard & 0.5075231 & 4 & 0.02262356 & Preprocessor03\\_Model1\\\\\n",
       "\t 4 & rsq & standard & 0.4981964 & 4 & 0.02952974 & Preprocessor04\\_Model1\\\\\n",
       "\\end{tabular}\n"
      ],
      "text/markdown": [
       "\n",
       "A tibble: 5 × 7\n",
       "\n",
       "| degree &lt;int&gt; | .metric &lt;chr&gt; | .estimator &lt;chr&gt; | mean &lt;dbl&gt; | n &lt;int&gt; | std_err &lt;dbl&gt; | .config &lt;chr&gt; |\n",
       "|---|---|---|---|---|---|---|\n",
       "| 6 | rsq | standard | 0.5221488 | 4 | 0.03044902 | Preprocessor06_Model1 |\n",
       "| 8 | rsq | standard | 0.5206216 | 4 | 0.01100445 | Preprocessor08_Model1 |\n",
       "| 2 | rsq | standard | 0.5133846 | 4 | 0.02767141 | Preprocessor02_Model1 |\n",
       "| 3 | rsq | standard | 0.5075231 | 4 | 0.02262356 | Preprocessor03_Model1 |\n",
       "| 4 | rsq | standard | 0.4981964 | 4 | 0.02952974 | Preprocessor04_Model1 |\n",
       "\n"
      ],
      "text/plain": [
       "  degree .metric .estimator mean      n std_err    .config              \n",
       "1 6      rsq     standard   0.5221488 4 0.03044902 Preprocessor06_Model1\n",
       "2 8      rsq     standard   0.5206216 4 0.01100445 Preprocessor08_Model1\n",
       "3 2      rsq     standard   0.5133846 4 0.02767141 Preprocessor02_Model1\n",
       "4 3      rsq     standard   0.5075231 4 0.02262356 Preprocessor03_Model1\n",
       "5 4      rsq     standard   0.4981964 4 0.02952974 Preprocessor04_Model1"
      ]
     },
     "metadata": {},
     "output_type": "display_data"
    }
   ],
   "source": [
    "show_best(TuneResultsHouses, metric=\"rsq\")"
   ]
  },
  {
   "cell_type": "code",
   "execution_count": 151,
   "id": "87641abc",
   "metadata": {
    "vscode": {
     "languageId": "r"
    }
   },
   "outputs": [
    {
     "data": {
      "text/html": [
       "<table class=\"dataframe\">\n",
       "<caption>A tibble: 5 × 7</caption>\n",
       "<thead>\n",
       "\t<tr><th scope=col>degree</th><th scope=col>.metric</th><th scope=col>.estimator</th><th scope=col>mean</th><th scope=col>n</th><th scope=col>std_err</th><th scope=col>.config</th></tr>\n",
       "\t<tr><th scope=col>&lt;int&gt;</th><th scope=col>&lt;chr&gt;</th><th scope=col>&lt;chr&gt;</th><th scope=col>&lt;dbl&gt;</th><th scope=col>&lt;int&gt;</th><th scope=col>&lt;dbl&gt;</th><th scope=col>&lt;chr&gt;</th></tr>\n",
       "</thead>\n",
       "<tbody>\n",
       "\t<tr><td>6</td><td>mae</td><td>standard</td><td>165798.0</td><td>4</td><td>1923.949</td><td>Preprocessor06_Model1</td></tr>\n",
       "\t<tr><td>8</td><td>mae</td><td>standard</td><td>165868.2</td><td>4</td><td>1763.840</td><td>Preprocessor08_Model1</td></tr>\n",
       "\t<tr><td>4</td><td>mae</td><td>standard</td><td>166324.8</td><td>4</td><td>2137.203</td><td>Preprocessor04_Model1</td></tr>\n",
       "\t<tr><td>3</td><td>mae</td><td>standard</td><td>166434.4</td><td>4</td><td>1863.376</td><td>Preprocessor03_Model1</td></tr>\n",
       "\t<tr><td>2</td><td>mae</td><td>standard</td><td>166545.7</td><td>4</td><td>1840.370</td><td>Preprocessor02_Model1</td></tr>\n",
       "</tbody>\n",
       "</table>\n"
      ],
      "text/latex": [
       "A tibble: 5 × 7\n",
       "\\begin{tabular}{lllllll}\n",
       " degree & .metric & .estimator & mean & n & std\\_err & .config\\\\\n",
       " <int> & <chr> & <chr> & <dbl> & <int> & <dbl> & <chr>\\\\\n",
       "\\hline\n",
       "\t 6 & mae & standard & 165798.0 & 4 & 1923.949 & Preprocessor06\\_Model1\\\\\n",
       "\t 8 & mae & standard & 165868.2 & 4 & 1763.840 & Preprocessor08\\_Model1\\\\\n",
       "\t 4 & mae & standard & 166324.8 & 4 & 2137.203 & Preprocessor04\\_Model1\\\\\n",
       "\t 3 & mae & standard & 166434.4 & 4 & 1863.376 & Preprocessor03\\_Model1\\\\\n",
       "\t 2 & mae & standard & 166545.7 & 4 & 1840.370 & Preprocessor02\\_Model1\\\\\n",
       "\\end{tabular}\n"
      ],
      "text/markdown": [
       "\n",
       "A tibble: 5 × 7\n",
       "\n",
       "| degree &lt;int&gt; | .metric &lt;chr&gt; | .estimator &lt;chr&gt; | mean &lt;dbl&gt; | n &lt;int&gt; | std_err &lt;dbl&gt; | .config &lt;chr&gt; |\n",
       "|---|---|---|---|---|---|---|\n",
       "| 6 | mae | standard | 165798.0 | 4 | 1923.949 | Preprocessor06_Model1 |\n",
       "| 8 | mae | standard | 165868.2 | 4 | 1763.840 | Preprocessor08_Model1 |\n",
       "| 4 | mae | standard | 166324.8 | 4 | 2137.203 | Preprocessor04_Model1 |\n",
       "| 3 | mae | standard | 166434.4 | 4 | 1863.376 | Preprocessor03_Model1 |\n",
       "| 2 | mae | standard | 166545.7 | 4 | 1840.370 | Preprocessor02_Model1 |\n",
       "\n"
      ],
      "text/plain": [
       "  degree .metric .estimator mean     n std_err  .config              \n",
       "1 6      mae     standard   165798.0 4 1923.949 Preprocessor06_Model1\n",
       "2 8      mae     standard   165868.2 4 1763.840 Preprocessor08_Model1\n",
       "3 4      mae     standard   166324.8 4 2137.203 Preprocessor04_Model1\n",
       "4 3      mae     standard   166434.4 4 1863.376 Preprocessor03_Model1\n",
       "5 2      mae     standard   166545.7 4 1840.370 Preprocessor02_Model1"
      ]
     },
     "metadata": {},
     "output_type": "display_data"
    }
   ],
   "source": [
    "show_best(TuneResultsHouses, metric=\"mae\")"
   ]
  },
  {
   "cell_type": "code",
   "execution_count": 158,
   "id": "d492a481",
   "metadata": {
    "vscode": {
     "languageId": "r"
    }
   },
   "outputs": [
    {
     "name": "stdout",
     "output_type": "stream",
     "text": [
      "\u001b[90m# A tibble: 1 × 2\u001b[39m\n",
      "  degree .config              \n",
      "   \u001b[3m\u001b[90m<int>\u001b[39m\u001b[23m \u001b[3m\u001b[90m<chr>\u001b[39m\u001b[23m                \n",
      "\u001b[90m1\u001b[39m      6 Preprocessor06_Model1\n"
     ]
    }
   ],
   "source": [
    "BestHyperPar=select_best(TuneResultsHouses, metric =\"rmse\")\n",
    "print(BestHyperPar)"
   ]
  },
  {
   "cell_type": "code",
   "execution_count": 159,
   "id": "f178be58",
   "metadata": {
    "vscode": {
     "languageId": "r"
    }
   },
   "outputs": [
    {
     "name": "stdout",
     "output_type": "stream",
     "text": [
      "══ Workflow [trained] ══════════════════════════════════════════════════════════\n",
      "\u001b[3mPreprocessor:\u001b[23m Recipe\n",
      "\u001b[3mModel:\u001b[23m linear_reg()\n",
      "\n",
      "── Preprocessor ────────────────────────────────────────────────────────────────\n",
      "1 Recipe Step\n",
      "\n",
      "• step_poly()\n",
      "\n",
      "── Model ───────────────────────────────────────────────────────────────────────\n",
      "\n",
      "Call:\n",
      "stats::lm(formula = ..y ~ ., data = data)\n",
      "\n",
      "Coefficients:\n",
      "(Intercept)  Sqft_poly_1  Sqft_poly_2  Sqft_poly_3  Sqft_poly_4  Sqft_poly_5  \n",
      " -1.297e+04    6.569e+02   -4.902e-01    2.051e-04   -3.758e-08    3.184e-12  \n",
      "Sqft_poly_6  \n",
      " -9.933e-17  \n",
      "\n"
     ]
    }
   ],
   "source": [
    "BestWFModelHouses=TuneWFModelHouses |>\n",
    "finalize_workflow(BestHyperPar) |>\n",
    "fit(DataTrain)\n",
    "print(BestWFModelHouses)"
   ]
  },
  {
   "cell_type": "code",
   "execution_count": 162,
   "id": "a8d6ab29",
   "metadata": {
    "vscode": {
     "languageId": "r"
    }
   },
   "outputs": [
    {
     "data": {
      "text/html": [
       "<table class=\"dataframe\">\n",
       "<caption>A tibble: 3 × 3</caption>\n",
       "<thead>\n",
       "\t<tr><th scope=col>.metric</th><th scope=col>.estimator</th><th scope=col>.estimate</th></tr>\n",
       "\t<tr><th scope=col>&lt;chr&gt;</th><th scope=col>&lt;chr&gt;</th><th scope=col>&lt;dbl&gt;</th></tr>\n",
       "</thead>\n",
       "<tbody>\n",
       "\t<tr><td>rmse</td><td>standard</td><td>2.407062e+05</td></tr>\n",
       "\t<tr><td>rsq </td><td>standard</td><td>5.856548e-01</td></tr>\n",
       "\t<tr><td>mae </td><td>standard</td><td>1.649870e+05</td></tr>\n",
       "</tbody>\n",
       "</table>\n"
      ],
      "text/latex": [
       "A tibble: 3 × 3\n",
       "\\begin{tabular}{lll}\n",
       " .metric & .estimator & .estimate\\\\\n",
       " <chr> & <chr> & <dbl>\\\\\n",
       "\\hline\n",
       "\t rmse & standard & 2.407062e+05\\\\\n",
       "\t rsq  & standard & 5.856548e-01\\\\\n",
       "\t mae  & standard & 1.649870e+05\\\\\n",
       "\\end{tabular}\n"
      ],
      "text/markdown": [
       "\n",
       "A tibble: 3 × 3\n",
       "\n",
       "| .metric &lt;chr&gt; | .estimator &lt;chr&gt; | .estimate &lt;dbl&gt; |\n",
       "|---|---|---|\n",
       "| rmse | standard | 2.407062e+05 |\n",
       "| rsq  | standard | 5.856548e-01 |\n",
       "| mae  | standard | 1.649870e+05 |\n",
       "\n"
      ],
      "text/plain": [
       "  .metric .estimator .estimate   \n",
       "1 rmse    standard   2.407062e+05\n",
       "2 rsq     standard   5.856548e-01\n",
       "3 mae     standard   1.649870e+05"
      ]
     },
     "metadata": {},
     "output_type": "display_data"
    }
   ],
   "source": [
    "DataTestWithPredBestModel=augment(BestWFModelHouses, DataTest)\n",
    "metrics(DataTestWithPredBestModel, truth=Price, estimate=.pred)"
   ]
  },
  {
   "cell_type": "markdown",
   "id": "3b3424a9",
   "metadata": {},
   "source": [
    "## Machine learning Genarall tamplate"
   ]
  },
  {
   "cell_type": "code",
   "execution_count": null,
   "id": "10765c5c",
   "metadata": {
    "vscode": {
     "languageId": "r"
    }
   },
   "outputs": [],
   "source": [
    "#Step 1 - Generate Training and Testing Data\n",
    "\n",
    "set.seed(987)\n",
    "Split80=MyData |>\n",
    "initial_split(prop=0.8, strata=<OUTCOME VARIABLE>, breaks=5) #Breaks Use only for continous variable\n",
    "DataTrain=training(Split80)\n",
    "DataTest=testing(Split80)"
   ]
  },
  {
   "cell_type": "code",
   "execution_count": null,
   "id": "6c12d61b",
   "metadata": {
    "vscode": {
     "languageId": "r"
    }
   },
   "outputs": [],
   "source": [
    "# Step 2 - Create a Recipe\n",
    "\n",
    "Recipe=recipe(<OUTCOME VARIABLE>~<PREDICTOR VARIABLE(S)>, data=DataTrain) |>\n",
    "  step_<NAME OF STEP>(<ARGUMENT(S) OF STEP>) # Exmple: step_naomit( all_predictors() )\n",
    "  \n"
   ]
  },
  {
   "cell_type": "code",
   "execution_count": null,
   "id": "e472267e",
   "metadata": {
    "vscode": {
     "languageId": "r"
    }
   },
   "outputs": [],
   "source": [
    "# Step 3 - Create a Model Design\n",
    "ModelDesign=<NAME OF ML-COMMAND>(<ARGUMENT(S) OF COMMAND>) |>  \n",
    " #Example: <NAME OF ML-COMMAND>= nearest_neighbor \n",
    " # Example: <ARGUMENT(S) OF COMMAND>= neighbors = 4, weight_func = \"rectangular\"\n",
    "set_engine(\"<PACKAGE NAME>\") |> # Example: <PACKAGE NAME>= \"kknn\"\n",
    "set_mode(\"<MODE>\")  # <MODE> either regression or classification \n"
   ]
  },
  {
   "cell_type": "code",
   "execution_count": null,
   "id": "2770dd82",
   "metadata": {
    "vscode": {
     "languageId": "r"
    }
   },
   "outputs": [],
   "source": [
    "Step 4 - Add the Recipe and the Model Design to a Workflow\n",
    "\n",
    "TuneWFModel=workflow() |>\n",
    "    add_recipe(Recipe) |>\n",
    "    add_model(ModelDesign)\n",
    "\n",
    "    "
   ]
  },
  {
   "cell_type": "code",
   "execution_count": null,
   "id": "752d2f87",
   "metadata": {
    "vscode": {
     "languageId": "r"
    }
   },
   "outputs": [],
   "source": [
    "# Step 5 - Create a Hyper-Parameter Grid\n",
    "\n",
    "ParGrid=data.frame(<HYPER-PAR1>=c(<LIST OF VALUES>),\n",
    "      <HYPER-PAR2>=c(<LIST OF VALUES>), <ETC>)\n",
    " #Example: ParGrid=data.frame(neighbors=c(1,3,6))\n",
    " "
   ]
  },
  {
   "cell_type": "code",
   "execution_count": null,
   "id": "554d1079",
   "metadata": {
    "vscode": {
     "languageId": "r"
    }
   },
   "outputs": [],
   "source": [
    "#Step 6 - Create Resamples for Cross-Validation\n",
    "FoldsForTuning=vfold_cv(DataTrain, v=10, strata=<OUTCOME VARIABLE>)"
   ]
  },
  {
   "cell_type": "code",
   "execution_count": null,
   "id": "dfd2e02e",
   "metadata": {
    "vscode": {
     "languageId": "r"
    }
   },
   "outputs": [],
   "source": [
    "# Step 7 - Tune the Workflow and Train All Models \n",
    "TuneResults=tune_grid(TuneWFModel, resamples=FoldsForTuning,\n",
    "    grid=ParGrid, \n",
    "    metrics=metric_set(<LIST OF METRICS>)), #Ex: <LIST OF METRICS>= rmse, rsq, mae\n",
    "    control_grid(verbose=TRUE))"
   ]
  },
  {
   "cell_type": "code",
   "execution_count": null,
   "id": "a1471d51",
   "metadata": {
    "vscode": {
     "languageId": "r"
    }
   },
   "outputs": [],
   "source": [
    "# Step 8 - Extract the Best Hyper-Parameter(s)\n",
    "\n",
    "BestHyperPar=select_best(TuneResults, \"<METRIC>\") # Ex: <METRIC>= rmse\n",
    "\n"
   ]
  },
  {
   "cell_type": "code",
   "execution_count": null,
   "id": "74b2e258",
   "metadata": {
    "vscode": {
     "languageId": "r"
    }
   },
   "outputs": [],
   "source": [
    "# Step 9 - Finalize and Train the Best Workflow Model \n",
    "\n",
    "BestWFModel=TuneWFModel |>\n",
    "    finalize_workflow(BestHyperPar) |>\n",
    "    fit(DataTrain)\n"
   ]
  },
  {
   "cell_type": "code",
   "execution_count": null,
   "id": "c75bb206",
   "metadata": {
    "vscode": {
     "languageId": "r"
    }
   },
   "outputs": [],
   "source": [
    "# Step 10 - Assess Prediction Quality Based on the Testing Data\n",
    "\n",
    "DataTestWithPredBestModel=augment(BestWFModel, DataTest)\n",
    "metrics(DataTestWithPredBestModel, truth=<OUTCOME VARIABLE>, estimate=.pred)"
   ]
  },
  {
   "cell_type": "code",
   "execution_count": 171,
   "id": "cda2d250",
   "metadata": {
    "vscode": {
     "languageId": "r"
    }
   },
   "outputs": [
    {
     "name": "stderr",
     "output_type": "stream",
     "text": [
      "Warning message:\n",
      "\"Missing `trust` will be set to FALSE by default for RDS in 2.0.0.\"\n"
     ]
    },
    {
     "data": {
      "text/html": [
       "<table class=\"dataframe\">\n",
       "<caption>A data.frame: 6 × 13</caption>\n",
       "<thead>\n",
       "\t<tr><th></th><th scope=col>WineColor</th><th scope=col>Acidity</th><th scope=col>VolatileAcidity</th><th scope=col>CitricAcid</th><th scope=col>ResidualSugar</th><th scope=col>Chlorides</th><th scope=col>FreeSulfurDioxide</th><th scope=col>Sulfur</th><th scope=col>Density</th><th scope=col>PH</th><th scope=col>Sulphates</th><th scope=col>Alcohol</th><th scope=col>Quality</th></tr>\n",
       "\t<tr><th></th><th scope=col>&lt;fct&gt;</th><th scope=col>&lt;dbl&gt;</th><th scope=col>&lt;dbl&gt;</th><th scope=col>&lt;dbl&gt;</th><th scope=col>&lt;dbl&gt;</th><th scope=col>&lt;dbl&gt;</th><th scope=col>&lt;dbl&gt;</th><th scope=col>&lt;dbl&gt;</th><th scope=col>&lt;dbl&gt;</th><th scope=col>&lt;dbl&gt;</th><th scope=col>&lt;dbl&gt;</th><th scope=col>&lt;dbl&gt;</th><th scope=col>&lt;dbl&gt;</th></tr>\n",
       "</thead>\n",
       "<tbody>\n",
       "\t<tr><th scope=row>1</th><td>red  </td><td>10.8</td><td>0.320</td><td>0.44</td><td>1.6</td><td>0.063</td><td>16</td><td> 37</td><td>0.99850</td><td>3.22</td><td>0.78</td><td>10.00</td><td>6</td></tr>\n",
       "\t<tr><th scope=row>2</th><td>white</td><td> 6.4</td><td>0.310</td><td>0.39</td><td>7.5</td><td>0.040</td><td>57</td><td>213</td><td>0.99475</td><td>3.32</td><td>0.43</td><td>10.00</td><td>5</td></tr>\n",
       "\t<tr><th scope=row>3</th><td>white</td><td> 9.4</td><td>0.280</td><td>0.30</td><td>1.6</td><td>0.045</td><td>36</td><td>139</td><td>0.99534</td><td>3.11</td><td>0.49</td><td> 9.30</td><td>5</td></tr>\n",
       "\t<tr><th scope=row>4</th><td>white</td><td> 8.2</td><td>0.220</td><td>0.36</td><td>6.8</td><td>0.034</td><td>12</td><td> 90</td><td>0.99440</td><td>3.01</td><td>0.38</td><td>10.50</td><td>8</td></tr>\n",
       "\t<tr><th scope=row>5</th><td>white</td><td> 6.4</td><td>0.290</td><td>0.44</td><td>3.6</td><td>0.197</td><td>75</td><td>183</td><td>0.99420</td><td>3.01</td><td>0.38</td><td> 9.10</td><td>5</td></tr>\n",
       "\t<tr><th scope=row>6</th><td>red  </td><td> 6.7</td><td>0.855</td><td>0.02</td><td>1.9</td><td>0.064</td><td>29</td><td> 38</td><td>0.99472</td><td>3.30</td><td>0.56</td><td>10.75</td><td>6</td></tr>\n",
       "</tbody>\n",
       "</table>\n"
      ],
      "text/latex": [
       "A data.frame: 6 × 13\n",
       "\\begin{tabular}{r|lllllllllllll}\n",
       "  & WineColor & Acidity & VolatileAcidity & CitricAcid & ResidualSugar & Chlorides & FreeSulfurDioxide & Sulfur & Density & PH & Sulphates & Alcohol & Quality\\\\\n",
       "  & <fct> & <dbl> & <dbl> & <dbl> & <dbl> & <dbl> & <dbl> & <dbl> & <dbl> & <dbl> & <dbl> & <dbl> & <dbl>\\\\\n",
       "\\hline\n",
       "\t1 & red   & 10.8 & 0.320 & 0.44 & 1.6 & 0.063 & 16 &  37 & 0.99850 & 3.22 & 0.78 & 10.00 & 6\\\\\n",
       "\t2 & white &  6.4 & 0.310 & 0.39 & 7.5 & 0.040 & 57 & 213 & 0.99475 & 3.32 & 0.43 & 10.00 & 5\\\\\n",
       "\t3 & white &  9.4 & 0.280 & 0.30 & 1.6 & 0.045 & 36 & 139 & 0.99534 & 3.11 & 0.49 &  9.30 & 5\\\\\n",
       "\t4 & white &  8.2 & 0.220 & 0.36 & 6.8 & 0.034 & 12 &  90 & 0.99440 & 3.01 & 0.38 & 10.50 & 8\\\\\n",
       "\t5 & white &  6.4 & 0.290 & 0.44 & 3.6 & 0.197 & 75 & 183 & 0.99420 & 3.01 & 0.38 &  9.10 & 5\\\\\n",
       "\t6 & red   &  6.7 & 0.855 & 0.02 & 1.9 & 0.064 & 29 &  38 & 0.99472 & 3.30 & 0.56 & 10.75 & 6\\\\\n",
       "\\end{tabular}\n"
      ],
      "text/markdown": [
       "\n",
       "A data.frame: 6 × 13\n",
       "\n",
       "| <!--/--> | WineColor &lt;fct&gt; | Acidity &lt;dbl&gt; | VolatileAcidity &lt;dbl&gt; | CitricAcid &lt;dbl&gt; | ResidualSugar &lt;dbl&gt; | Chlorides &lt;dbl&gt; | FreeSulfurDioxide &lt;dbl&gt; | Sulfur &lt;dbl&gt; | Density &lt;dbl&gt; | PH &lt;dbl&gt; | Sulphates &lt;dbl&gt; | Alcohol &lt;dbl&gt; | Quality &lt;dbl&gt; |\n",
       "|---|---|---|---|---|---|---|---|---|---|---|---|---|---|\n",
       "| 1 | red   | 10.8 | 0.320 | 0.44 | 1.6 | 0.063 | 16 |  37 | 0.99850 | 3.22 | 0.78 | 10.00 | 6 |\n",
       "| 2 | white |  6.4 | 0.310 | 0.39 | 7.5 | 0.040 | 57 | 213 | 0.99475 | 3.32 | 0.43 | 10.00 | 5 |\n",
       "| 3 | white |  9.4 | 0.280 | 0.30 | 1.6 | 0.045 | 36 | 139 | 0.99534 | 3.11 | 0.49 |  9.30 | 5 |\n",
       "| 4 | white |  8.2 | 0.220 | 0.36 | 6.8 | 0.034 | 12 |  90 | 0.99440 | 3.01 | 0.38 | 10.50 | 8 |\n",
       "| 5 | white |  6.4 | 0.290 | 0.44 | 3.6 | 0.197 | 75 | 183 | 0.99420 | 3.01 | 0.38 |  9.10 | 5 |\n",
       "| 6 | red   |  6.7 | 0.855 | 0.02 | 1.9 | 0.064 | 29 |  38 | 0.99472 | 3.30 | 0.56 | 10.75 | 6 |\n",
       "\n"
      ],
      "text/plain": [
       "  WineColor Acidity VolatileAcidity CitricAcid ResidualSugar Chlorides\n",
       "1 red       10.8    0.320           0.44       1.6           0.063    \n",
       "2 white      6.4    0.310           0.39       7.5           0.040    \n",
       "3 white      9.4    0.280           0.30       1.6           0.045    \n",
       "4 white      8.2    0.220           0.36       6.8           0.034    \n",
       "5 white      6.4    0.290           0.44       3.6           0.197    \n",
       "6 red        6.7    0.855           0.02       1.9           0.064    \n",
       "  FreeSulfurDioxide Sulfur Density PH   Sulphates Alcohol Quality\n",
       "1 16                 37    0.99850 3.22 0.78      10.00   6      \n",
       "2 57                213    0.99475 3.32 0.43      10.00   5      \n",
       "3 36                139    0.99534 3.11 0.49       9.30   5      \n",
       "4 12                 90    0.99440 3.01 0.38      10.50   8      \n",
       "5 75                183    0.99420 3.01 0.38       9.10   5      \n",
       "6 29                 38    0.99472 3.30 0.56      10.75   6      "
      ]
     },
     "metadata": {},
     "output_type": "display_data"
    }
   ],
   "source": [
    "DataWine=import(\"https://ai.lange-analytics.com/data/WineData.rds\") |>\n",
    "clean_names(\"upper_camel\") |>\n",
    "rename(Sulfur=TotalSulfurDioxide) |>\n",
    "mutate(WineColor=as.factor(WineColor))\n",
    "\n",
    "head(DataWine)"
   ]
  },
  {
   "cell_type": "code",
   "execution_count": 173,
   "id": "ae75aae9",
   "metadata": {
    "vscode": {
     "languageId": "r"
    }
   },
   "outputs": [
    {
     "data": {
      "text/html": [
       "<table class=\"dataframe\">\n",
       "<caption>A data.frame: 6 × 13</caption>\n",
       "<thead>\n",
       "\t<tr><th></th><th scope=col>WineColor</th><th scope=col>Acidity</th><th scope=col>VolatileAcidity</th><th scope=col>CitricAcid</th><th scope=col>ResidualSugar</th><th scope=col>Chlorides</th><th scope=col>FreeSulfurDioxide</th><th scope=col>Sulfur</th><th scope=col>Density</th><th scope=col>PH</th><th scope=col>Sulphates</th><th scope=col>Alcohol</th><th scope=col>Quality</th></tr>\n",
       "\t<tr><th></th><th scope=col>&lt;fct&gt;</th><th scope=col>&lt;dbl&gt;</th><th scope=col>&lt;dbl&gt;</th><th scope=col>&lt;dbl&gt;</th><th scope=col>&lt;dbl&gt;</th><th scope=col>&lt;dbl&gt;</th><th scope=col>&lt;dbl&gt;</th><th scope=col>&lt;dbl&gt;</th><th scope=col>&lt;dbl&gt;</th><th scope=col>&lt;dbl&gt;</th><th scope=col>&lt;dbl&gt;</th><th scope=col>&lt;dbl&gt;</th><th scope=col>&lt;dbl&gt;</th></tr>\n",
       "</thead>\n",
       "<tbody>\n",
       "\t<tr><th scope=row>1</th><td>red</td><td>10.8</td><td>0.320</td><td>0.44</td><td>1.6</td><td>0.063</td><td>16</td><td> 37</td><td>0.99850</td><td>3.22</td><td>0.78</td><td>10.00</td><td>6</td></tr>\n",
       "\t<tr><th scope=row>2</th><td>red</td><td> 6.7</td><td>0.855</td><td>0.02</td><td>1.9</td><td>0.064</td><td>29</td><td> 38</td><td>0.99472</td><td>3.30</td><td>0.56</td><td>10.75</td><td>6</td></tr>\n",
       "\t<tr><th scope=row>3</th><td>red</td><td> 7.5</td><td>0.380</td><td>0.57</td><td>2.3</td><td>0.106</td><td> 5</td><td> 12</td><td>0.99605</td><td>3.36</td><td>0.55</td><td>11.40</td><td>6</td></tr>\n",
       "\t<tr><th scope=row>4</th><td>red</td><td> 7.1</td><td>0.270</td><td>0.60</td><td>2.1</td><td>0.074</td><td>17</td><td> 25</td><td>0.99814</td><td>3.38</td><td>0.72</td><td>10.60</td><td>6</td></tr>\n",
       "\t<tr><th scope=row>5</th><td>red</td><td> 8.0</td><td>0.580</td><td>0.28</td><td>3.2</td><td>0.066</td><td>21</td><td>114</td><td>0.99730</td><td>3.22</td><td>0.54</td><td> 9.40</td><td>6</td></tr>\n",
       "\t<tr><th scope=row>6</th><td>red</td><td> 7.6</td><td>0.400</td><td>0.29</td><td>1.9</td><td>0.078</td><td>29</td><td> 66</td><td>0.99710</td><td>3.45</td><td>0.59</td><td> 9.50</td><td>6</td></tr>\n",
       "</tbody>\n",
       "</table>\n"
      ],
      "text/latex": [
       "A data.frame: 6 × 13\n",
       "\\begin{tabular}{r|lllllllllllll}\n",
       "  & WineColor & Acidity & VolatileAcidity & CitricAcid & ResidualSugar & Chlorides & FreeSulfurDioxide & Sulfur & Density & PH & Sulphates & Alcohol & Quality\\\\\n",
       "  & <fct> & <dbl> & <dbl> & <dbl> & <dbl> & <dbl> & <dbl> & <dbl> & <dbl> & <dbl> & <dbl> & <dbl> & <dbl>\\\\\n",
       "\\hline\n",
       "\t1 & red & 10.8 & 0.320 & 0.44 & 1.6 & 0.063 & 16 &  37 & 0.99850 & 3.22 & 0.78 & 10.00 & 6\\\\\n",
       "\t2 & red &  6.7 & 0.855 & 0.02 & 1.9 & 0.064 & 29 &  38 & 0.99472 & 3.30 & 0.56 & 10.75 & 6\\\\\n",
       "\t3 & red &  7.5 & 0.380 & 0.57 & 2.3 & 0.106 &  5 &  12 & 0.99605 & 3.36 & 0.55 & 11.40 & 6\\\\\n",
       "\t4 & red &  7.1 & 0.270 & 0.60 & 2.1 & 0.074 & 17 &  25 & 0.99814 & 3.38 & 0.72 & 10.60 & 6\\\\\n",
       "\t5 & red &  8.0 & 0.580 & 0.28 & 3.2 & 0.066 & 21 & 114 & 0.99730 & 3.22 & 0.54 &  9.40 & 6\\\\\n",
       "\t6 & red &  7.6 & 0.400 & 0.29 & 1.9 & 0.078 & 29 &  66 & 0.99710 & 3.45 & 0.59 &  9.50 & 6\\\\\n",
       "\\end{tabular}\n"
      ],
      "text/markdown": [
       "\n",
       "A data.frame: 6 × 13\n",
       "\n",
       "| <!--/--> | WineColor &lt;fct&gt; | Acidity &lt;dbl&gt; | VolatileAcidity &lt;dbl&gt; | CitricAcid &lt;dbl&gt; | ResidualSugar &lt;dbl&gt; | Chlorides &lt;dbl&gt; | FreeSulfurDioxide &lt;dbl&gt; | Sulfur &lt;dbl&gt; | Density &lt;dbl&gt; | PH &lt;dbl&gt; | Sulphates &lt;dbl&gt; | Alcohol &lt;dbl&gt; | Quality &lt;dbl&gt; |\n",
       "|---|---|---|---|---|---|---|---|---|---|---|---|---|---|\n",
       "| 1 | red | 10.8 | 0.320 | 0.44 | 1.6 | 0.063 | 16 |  37 | 0.99850 | 3.22 | 0.78 | 10.00 | 6 |\n",
       "| 2 | red |  6.7 | 0.855 | 0.02 | 1.9 | 0.064 | 29 |  38 | 0.99472 | 3.30 | 0.56 | 10.75 | 6 |\n",
       "| 3 | red |  7.5 | 0.380 | 0.57 | 2.3 | 0.106 |  5 |  12 | 0.99605 | 3.36 | 0.55 | 11.40 | 6 |\n",
       "| 4 | red |  7.1 | 0.270 | 0.60 | 2.1 | 0.074 | 17 |  25 | 0.99814 | 3.38 | 0.72 | 10.60 | 6 |\n",
       "| 5 | red |  8.0 | 0.580 | 0.28 | 3.2 | 0.066 | 21 | 114 | 0.99730 | 3.22 | 0.54 |  9.40 | 6 |\n",
       "| 6 | red |  7.6 | 0.400 | 0.29 | 1.9 | 0.078 | 29 |  66 | 0.99710 | 3.45 | 0.59 |  9.50 | 6 |\n",
       "\n"
      ],
      "text/plain": [
       "  WineColor Acidity VolatileAcidity CitricAcid ResidualSugar Chlorides\n",
       "1 red       10.8    0.320           0.44       1.6           0.063    \n",
       "2 red        6.7    0.855           0.02       1.9           0.064    \n",
       "3 red        7.5    0.380           0.57       2.3           0.106    \n",
       "4 red        7.1    0.270           0.60       2.1           0.074    \n",
       "5 red        8.0    0.580           0.28       3.2           0.066    \n",
       "6 red        7.6    0.400           0.29       1.9           0.078    \n",
       "  FreeSulfurDioxide Sulfur Density PH   Sulphates Alcohol Quality\n",
       "1 16                 37    0.99850 3.22 0.78      10.00   6      \n",
       "2 29                 38    0.99472 3.30 0.56      10.75   6      \n",
       "3  5                 12    0.99605 3.36 0.55      11.40   6      \n",
       "4 17                 25    0.99814 3.38 0.72      10.60   6      \n",
       "5 21                114    0.99730 3.22 0.54       9.40   6      \n",
       "6 29                 66    0.99710 3.45 0.59       9.50   6      "
      ]
     },
     "metadata": {},
     "output_type": "display_data"
    }
   ],
   "source": [
    "set.seed(876)\n",
    "Split7030=initial_split(DataWine, prop=0.7, strata=WineColor)\n",
    "DataTrain=training(Split7030)\n",
    "DataTest=testing(Split7030)\n",
    "head(DataTrain)"
   ]
  },
  {
   "cell_type": "code",
   "execution_count": 176,
   "id": "965d9a2d",
   "metadata": {
    "vscode": {
     "languageId": "r"
    }
   },
   "outputs": [],
   "source": [
    "Recipe= recipe( WineColor~., data=DataTrain ) |>\n",
    "    step_naomit() |>\n",
    "    step_rm( Quality ) |>\n",
    "    step_normalize(all_predictors() )"
   ]
  },
  {
   "cell_type": "code",
   "execution_count": 178,
   "id": "12269162",
   "metadata": {
    "vscode": {
     "languageId": "r"
    }
   },
   "outputs": [
    {
     "name": "stdout",
     "output_type": "stream",
     "text": [
      "K-Nearest Neighbor Model Specification (classification)\n",
      "\n",
      "Main Arguments:\n",
      "  neighbors = tune()\n",
      "  weight_func = rectangular\n",
      "\n",
      "Computational engine: kknn \n",
      "\n"
     ]
    }
   ],
   "source": [
    "ModelDesign=nearest_neighbor(neighbors= tune(), weight_func = \"rectangular\" ) |>\n",
    "    set_engine(\"kknn\") |>\n",
    "    set_mode(\"classification\")\n",
    "print(ModelDesign)"
   ]
  },
  {
   "cell_type": "code",
   "execution_count": 182,
   "id": "cb43d93b",
   "metadata": {
    "vscode": {
     "languageId": "r"
    }
   },
   "outputs": [
    {
     "name": "stdout",
     "output_type": "stream",
     "text": [
      "══ Workflow ════════════════════════════════════════════════════════════════════\n",
      "\u001b[3mPreprocessor:\u001b[23m Recipe\n",
      "\u001b[3mModel:\u001b[23m nearest_neighbor()\n",
      "\n",
      "── Preprocessor ────────────────────────────────────────────────────────────────\n",
      "3 Recipe Steps\n",
      "\n",
      "• step_naomit()\n",
      "• step_rm()\n",
      "• step_normalize()\n",
      "\n",
      "── Model ───────────────────────────────────────────────────────────────────────\n",
      "K-Nearest Neighbor Model Specification (classification)\n",
      "\n",
      "Main Arguments:\n",
      "  neighbors = tune()\n",
      "  weight_func = rectangular\n",
      "\n",
      "Computational engine: kknn \n",
      "\n"
     ]
    }
   ],
   "source": [
    "TuneWFModel=workflow() |>\n",
    "    add_recipe(Recipe) |>\n",
    "    add_model(ModelDesign)\n",
    "print(TuneWFModel)"
   ]
  },
  {
   "cell_type": "code",
   "execution_count": 183,
   "id": "b06e352e",
   "metadata": {
    "vscode": {
     "languageId": "r"
    }
   },
   "outputs": [
    {
     "name": "stdout",
     "output_type": "stream",
     "text": [
      "   neighbors\n",
      "1          1\n",
      "2          2\n",
      "3          3\n",
      "4          4\n",
      "5          5\n",
      "6          6\n",
      "7          7\n",
      "8          8\n",
      "9          9\n",
      "10        10\n",
      "11        11\n",
      "12        12\n",
      "13        13\n",
      "14        14\n",
      "15        15\n"
     ]
    }
   ],
   "source": [
    "ParGrid=data.frame(neighbors=c(1:15))\n",
    "print(ParGrid)"
   ]
  },
  {
   "cell_type": "code",
   "execution_count": 185,
   "id": "e9040a5b",
   "metadata": {
    "vscode": {
     "languageId": "r"
    }
   },
   "outputs": [
    {
     "name": "stdout",
     "output_type": "stream",
     "text": [
      "#  5-fold cross-validation using stratification \n",
      "\u001b[90m# A tibble: 5 × 2\u001b[39m\n",
      "  splits             id   \n",
      "  \u001b[3m\u001b[90m<list>\u001b[39m\u001b[23m             \u001b[3m\u001b[90m<chr>\u001b[39m\u001b[23m\n",
      "\u001b[90m1\u001b[39m \u001b[90m<split [1790/448]>\u001b[39m Fold1\n",
      "\u001b[90m2\u001b[39m \u001b[90m<split [1790/448]>\u001b[39m Fold2\n",
      "\u001b[90m3\u001b[39m \u001b[90m<split [1790/448]>\u001b[39m Fold3\n",
      "\u001b[90m4\u001b[39m \u001b[90m<split [1790/448]>\u001b[39m Fold4\n",
      "\u001b[90m5\u001b[39m \u001b[90m<split [1792/446]>\u001b[39m Fold5\n"
     ]
    }
   ],
   "source": [
    "set.seed(123)\n",
    "FoldsForTuning=vfold_cv(DataTrain, v=5, strata=WineColor)\n",
    "print(FoldsForTuning)"
   ]
  },
  {
   "cell_type": "code",
   "execution_count": 187,
   "id": "f3d9faf2",
   "metadata": {
    "vscode": {
     "languageId": "r"
    }
   },
   "outputs": [
    {
     "data": {
      "image/png": "[encoded data removed]",
      "text/plain": [
       "plot without title"
      ]
     },
     "metadata": {
      "image/png": {
       "height": 420,
       "width": 420
      }
     },
     "output_type": "display_data"
    }
   ],
   "source": [
    "TuneResults=tune_grid(TuneWFModel, resamples=FoldsForTuning,\n",
    "grid=ParGrid, metrics=metric_set(accuracy,sensitivity, specificity))\n",
    "autoplot(TuneResults)"
   ]
  },
  {
   "cell_type": "code",
   "execution_count": 193,
   "id": "87cc5295",
   "metadata": {
    "vscode": {
     "languageId": "r"
    }
   },
   "outputs": [
    {
     "name": "stdout",
     "output_type": "stream",
     "text": [
      "\u001b[90m# A tibble: 1 × 2\u001b[39m\n",
      "  neighbors .config              \n",
      "      \u001b[3m\u001b[90m<int>\u001b[39m\u001b[23m \u001b[3m\u001b[90m<chr>\u001b[39m\u001b[23m                \n",
      "\u001b[90m1\u001b[39m         1 Preprocessor1_Model01\n"
     ]
    }
   ],
   "source": [
    "BestHyperPar=select_best(TuneResults, metric =\"accuracy\")\n",
    "print(BestHyperPar)"
   ]
  },
  {
   "cell_type": "code",
   "execution_count": 194,
   "id": "e0667df1",
   "metadata": {
    "vscode": {
     "languageId": "r"
    }
   },
   "outputs": [
    {
     "name": "stdout",
     "output_type": "stream",
     "text": [
      "══ Workflow [trained] ══════════════════════════════════════════════════════════\n",
      "\u001b[3mPreprocessor:\u001b[23m Recipe\n",
      "\u001b[3mModel:\u001b[23m nearest_neighbor()\n",
      "\n",
      "── Preprocessor ────────────────────────────────────────────────────────────────\n",
      "3 Recipe Steps\n",
      "\n",
      "• step_naomit()\n",
      "• step_rm()\n",
      "• step_normalize()\n",
      "\n",
      "── Model ───────────────────────────────────────────────────────────────────────\n",
      "\n",
      "Call:\n",
      "kknn::train.kknn(formula = ..y ~ ., data = data, ks = min_rows(1L,     data, 5), kernel = ~\"rectangular\")\n",
      "\n",
      "Type of response variable: nominal\n",
      "Minimal misclassification: 0.009383378\n",
      "Best kernel: rectangular\n",
      "Best k: 1\n"
     ]
    }
   ],
   "source": [
    "WFModelBest=TuneWFModel |>\n",
    "finalize_workflow(BestHyperPar) |>\n",
    "fit(DataTrain)\n",
    "print(WFModelBest)"
   ]
  },
  {
   "cell_type": "code",
   "execution_count": 196,
   "id": "bdb9de21",
   "metadata": {
    "vscode": {
     "languageId": "r"
    }
   },
   "outputs": [
    {
     "data": {
      "text/plain": [
       "          Truth\n",
       "Prediction red white\n",
       "     red   474     7\n",
       "     white   6   473"
      ]
     },
     "metadata": {},
     "output_type": "display_data"
    }
   ],
   "source": [
    "DataTestWithPredBestModel=augment(WFModelBest, DataTest)\n",
    "conf_mat(DataTestWithPredBestModel, truth=WineColor,\n",
    "estimate=.pred_class)"
   ]
  },
  {
   "cell_type": "code",
   "execution_count": 197,
   "id": "655bb266",
   "metadata": {
    "vscode": {
     "languageId": "r"
    }
   },
   "outputs": [],
   "source": [
    "DataHousing= import(\"https://ai.lange-analytics.com/data/HousingData.csv\") |>\n",
    "clean_names(\"upper_camel\") |>\n",
    "select(Price, Sqft=SqftLiving)\n",
    "set.seed(777)\n",
    "Split001=initial_split(DataHousing, prop=0.001, strata=Price, breaks=5)\n",
    "DataTrain=training(Split001)\n",
    "DataTest=testing(Split001)"
   ]
  },
  {
   "cell_type": "code",
   "execution_count": 199,
   "id": "fad3d0be",
   "metadata": {
    "vscode": {
     "languageId": "r"
    }
   },
   "outputs": [],
   "source": [
    "ModelDesignBenchmark=linear_reg() |>\n",
    "  set_engine(\"lm\") |>\n",
    "  set_mode(\"regression\")\n",
    "\n",
    "RecipeHouses=recipe(Price~., data=DataTrain) |>\n",
    "    step_mutate(Sqft2=Sqft^2,Sqft3=Sqft^3, Sqft4=Sqft^4,Sqft5=Sqft^5) |>\n",
    "    step_normalize(all_predictors()) \n",
    "\n",
    "WFModelBenchmark=workflow() |>\n",
    "    add_model(ModelDesignBenchmark) |>\n",
    "    add_recipe(RecipeHouses) |>\n",
    "    fit(DataTrain) "
   ]
  },
  {
   "cell_type": "code",
   "execution_count": 200,
   "id": "39588b81",
   "metadata": {
    "vscode": {
     "languageId": "r"
    }
   },
   "outputs": [
    {
     "data": {
      "text/html": [
       "<table class=\"dataframe\">\n",
       "<caption>A tibble: 6 × 5</caption>\n",
       "<thead>\n",
       "\t<tr><th scope=col>term</th><th scope=col>estimate</th><th scope=col>std.error</th><th scope=col>statistic</th><th scope=col>p.value</th></tr>\n",
       "\t<tr><th scope=col>&lt;chr&gt;</th><th scope=col>&lt;dbl&gt;</th><th scope=col>&lt;dbl&gt;</th><th scope=col>&lt;dbl&gt;</th><th scope=col>&lt;dbl&gt;</th></tr>\n",
       "</thead>\n",
       "<tbody>\n",
       "\t<tr><td>(Intercept)</td><td>    509945.1</td><td>    36462.91</td><td>13.9853114</td><td>1.280952e-09</td></tr>\n",
       "\t<tr><td>Sqft       </td><td>   8853783.4</td><td> 10515448.44</td><td> 0.8419787</td><td>4.139521e-01</td></tr>\n",
       "\t<tr><td>Sqft2      </td><td> -50947114.0</td><td> 54352074.80</td><td>-0.9373536</td><td>3.644666e-01</td></tr>\n",
       "\t<tr><td>Sqft3      </td><td> 112589221.8</td><td>111217647.05</td><td> 1.0123323</td><td>3.285562e-01</td></tr>\n",
       "\t<tr><td>Sqft4      </td><td>-106894259.5</td><td>101985737.56</td><td>-1.0481295</td><td>3.123374e-01</td></tr>\n",
       "\t<tr><td>Sqft5      </td><td>  36592434.9</td><td> 34688740.91</td><td> 1.0548793</td><td>3.093459e-01</td></tr>\n",
       "</tbody>\n",
       "</table>\n"
      ],
      "text/latex": [
       "A tibble: 6 × 5\n",
       "\\begin{tabular}{lllll}\n",
       " term & estimate & std.error & statistic & p.value\\\\\n",
       " <chr> & <dbl> & <dbl> & <dbl> & <dbl>\\\\\n",
       "\\hline\n",
       "\t (Intercept) &     509945.1 &     36462.91 & 13.9853114 & 1.280952e-09\\\\\n",
       "\t Sqft        &    8853783.4 &  10515448.44 &  0.8419787 & 4.139521e-01\\\\\n",
       "\t Sqft2       &  -50947114.0 &  54352074.80 & -0.9373536 & 3.644666e-01\\\\\n",
       "\t Sqft3       &  112589221.8 & 111217647.05 &  1.0123323 & 3.285562e-01\\\\\n",
       "\t Sqft4       & -106894259.5 & 101985737.56 & -1.0481295 & 3.123374e-01\\\\\n",
       "\t Sqft5       &   36592434.9 &  34688740.91 &  1.0548793 & 3.093459e-01\\\\\n",
       "\\end{tabular}\n"
      ],
      "text/markdown": [
       "\n",
       "A tibble: 6 × 5\n",
       "\n",
       "| term &lt;chr&gt; | estimate &lt;dbl&gt; | std.error &lt;dbl&gt; | statistic &lt;dbl&gt; | p.value &lt;dbl&gt; |\n",
       "|---|---|---|---|---|\n",
       "| (Intercept) |     509945.1 |     36462.91 | 13.9853114 | 1.280952e-09 |\n",
       "| Sqft        |    8853783.4 |  10515448.44 |  0.8419787 | 4.139521e-01 |\n",
       "| Sqft2       |  -50947114.0 |  54352074.80 | -0.9373536 | 3.644666e-01 |\n",
       "| Sqft3       |  112589221.8 | 111217647.05 |  1.0123323 | 3.285562e-01 |\n",
       "| Sqft4       | -106894259.5 | 101985737.56 | -1.0481295 | 3.123374e-01 |\n",
       "| Sqft5       |   36592434.9 |  34688740.91 |  1.0548793 | 3.093459e-01 |\n",
       "\n"
      ],
      "text/plain": [
       "  term        estimate     std.error    statistic  p.value     \n",
       "1 (Intercept)     509945.1     36462.91 13.9853114 1.280952e-09\n",
       "2 Sqft           8853783.4  10515448.44  0.8419787 4.139521e-01\n",
       "3 Sqft2        -50947114.0  54352074.80 -0.9373536 3.644666e-01\n",
       "4 Sqft3        112589221.8 111217647.05  1.0123323 3.285562e-01\n",
       "5 Sqft4       -106894259.5 101985737.56 -1.0481295 3.123374e-01\n",
       "6 Sqft5         36592434.9  34688740.91  1.0548793 3.093459e-01"
      ]
     },
     "metadata": {},
     "output_type": "display_data"
    }
   ],
   "source": [
    "tidy(WFModelBenchmark)"
   ]
  },
  {
   "cell_type": "code",
   "execution_count": 201,
   "id": "9eb146e8",
   "metadata": {
    "vscode": {
     "languageId": "r"
    }
   },
   "outputs": [
    {
     "data": {
      "text/html": [
       "<table class=\"dataframe\">\n",
       "<caption>A tibble: 3 × 3</caption>\n",
       "<thead>\n",
       "\t<tr><th scope=col>.metric</th><th scope=col>.estimator</th><th scope=col>.estimate</th></tr>\n",
       "\t<tr><th scope=col>&lt;chr&gt;</th><th scope=col>&lt;chr&gt;</th><th scope=col>&lt;dbl&gt;</th></tr>\n",
       "</thead>\n",
       "<tbody>\n",
       "\t<tr><td>rmse</td><td>standard</td><td>1.364317e+05</td></tr>\n",
       "\t<tr><td>rsq </td><td>standard</td><td>7.154233e-01</td></tr>\n",
       "\t<tr><td>mae </td><td>standard</td><td>1.040470e+05</td></tr>\n",
       "</tbody>\n",
       "</table>\n"
      ],
      "text/latex": [
       "A tibble: 3 × 3\n",
       "\\begin{tabular}{lll}\n",
       " .metric & .estimator & .estimate\\\\\n",
       " <chr> & <chr> & <dbl>\\\\\n",
       "\\hline\n",
       "\t rmse & standard & 1.364317e+05\\\\\n",
       "\t rsq  & standard & 7.154233e-01\\\\\n",
       "\t mae  & standard & 1.040470e+05\\\\\n",
       "\\end{tabular}\n"
      ],
      "text/markdown": [
       "\n",
       "A tibble: 3 × 3\n",
       "\n",
       "| .metric &lt;chr&gt; | .estimator &lt;chr&gt; | .estimate &lt;dbl&gt; |\n",
       "|---|---|---|\n",
       "| rmse | standard | 1.364317e+05 |\n",
       "| rsq  | standard | 7.154233e-01 |\n",
       "| mae  | standard | 1.040470e+05 |\n",
       "\n"
      ],
      "text/plain": [
       "  .metric .estimator .estimate   \n",
       "1 rmse    standard   1.364317e+05\n",
       "2 rsq     standard   7.154233e-01\n",
       "3 mae     standard   1.040470e+05"
      ]
     },
     "metadata": {},
     "output_type": "display_data"
    }
   ],
   "source": [
    "DataTrainWithPredBenchmark=augment(WFModelBenchmark, DataTrain)\n",
    "metrics(DataTrainWithPredBenchmark, truth=Price, estimate=.pred)\n"
   ]
  },
  {
   "cell_type": "code",
   "execution_count": 203,
   "id": "cb6c2bf8",
   "metadata": {
    "vscode": {
     "languageId": "r"
    }
   },
   "outputs": [
    {
     "data": {
      "text/html": [
       "<table class=\"dataframe\">\n",
       "<caption>A tibble: 3 × 3</caption>\n",
       "<thead>\n",
       "\t<tr><th scope=col>.metric</th><th scope=col>.estimator</th><th scope=col>.estimate</th></tr>\n",
       "\t<tr><th scope=col>&lt;chr&gt;</th><th scope=col>&lt;chr&gt;</th><th scope=col>&lt;dbl&gt;</th></tr>\n",
       "</thead>\n",
       "<tbody>\n",
       "\t<tr><td>rmse</td><td>standard</td><td>9.994024e+07</td></tr>\n",
       "\t<tr><td>rsq </td><td>standard</td><td>2.148349e-02</td></tr>\n",
       "\t<tr><td>mae </td><td>standard</td><td>1.719470e+06</td></tr>\n",
       "</tbody>\n",
       "</table>\n"
      ],
      "text/latex": [
       "A tibble: 3 × 3\n",
       "\\begin{tabular}{lll}\n",
       " .metric & .estimator & .estimate\\\\\n",
       " <chr> & <chr> & <dbl>\\\\\n",
       "\\hline\n",
       "\t rmse & standard & 9.994024e+07\\\\\n",
       "\t rsq  & standard & 2.148349e-02\\\\\n",
       "\t mae  & standard & 1.719470e+06\\\\\n",
       "\\end{tabular}\n"
      ],
      "text/markdown": [
       "\n",
       "A tibble: 3 × 3\n",
       "\n",
       "| .metric &lt;chr&gt; | .estimator &lt;chr&gt; | .estimate &lt;dbl&gt; |\n",
       "|---|---|---|\n",
       "| rmse | standard | 9.994024e+07 |\n",
       "| rsq  | standard | 2.148349e-02 |\n",
       "| mae  | standard | 1.719470e+06 |\n",
       "\n"
      ],
      "text/plain": [
       "  .metric .estimator .estimate   \n",
       "1 rmse    standard   9.994024e+07\n",
       "2 rsq     standard   2.148349e-02\n",
       "3 mae     standard   1.719470e+06"
      ]
     },
     "metadata": {},
     "output_type": "display_data"
    }
   ],
   "source": [
    "DataTestWithPredBenchmark=augment(WFModelBenchmark, DataTest)\n",
    "metrics(DataTestWithPredBenchmark, truth=Price, estimate=.pred)"
   ]
  },
  {
   "cell_type": "code",
   "execution_count": 204,
   "id": "96b1c7b1",
   "metadata": {
    "vscode": {
     "languageId": "r"
    }
   },
   "outputs": [],
   "source": [
    "ModelDesignLasso=linear_reg(penalty=500, mixture=1) |>\n",
    "    set_engine(\"glmnet\") |>\n",
    "    set_mode(\"regression\")\n",
    "\n",
    "WFModelLasso=workflow() |>\n",
    "    add_model(ModelDesignLasso) |>\n",
    "    add_recipe(RecipeHouses) |>\n",
    "    fit(DataTrain)"
   ]
  },
  {
   "cell_type": "code",
   "execution_count": 205,
   "id": "77b8d1af",
   "metadata": {
    "vscode": {
     "languageId": "r"
    }
   },
   "outputs": [
    {
     "name": "stderr",
     "output_type": "stream",
     "text": [
      "Warning message:\n",
      "\"package 'glmnet' was built under R version 4.4.3\"\n",
      "\n",
      "Attaching package: 'Matrix'\n",
      "\n",
      "\n",
      "The following objects are masked from 'package:tidyr':\n",
      "\n",
      "    expand, pack, unpack\n",
      "\n",
      "\n",
      "Loaded glmnet 4.1-9\n",
      "\n"
     ]
    },
    {
     "data": {
      "text/html": [
       "<table class=\"dataframe\">\n",
       "<caption>A tibble: 6 × 3</caption>\n",
       "<thead>\n",
       "\t<tr><th scope=col>term</th><th scope=col>estimate</th><th scope=col>penalty</th></tr>\n",
       "\t<tr><th scope=col>&lt;chr&gt;</th><th scope=col>&lt;dbl&gt;</th><th scope=col>&lt;dbl&gt;</th></tr>\n",
       "</thead>\n",
       "<tbody>\n",
       "\t<tr><td>(Intercept)</td><td> 509945.2</td><td>500</td></tr>\n",
       "\t<tr><td>Sqft       </td><td>-460507.8</td><td>500</td></tr>\n",
       "\t<tr><td>Sqft2      </td><td>1171966.8</td><td>500</td></tr>\n",
       "\t<tr><td>Sqft3      </td><td>      0.0</td><td>500</td></tr>\n",
       "\t<tr><td>Sqft4      </td><td>      0.0</td><td>500</td></tr>\n",
       "\t<tr><td>Sqft5      </td><td>-560317.9</td><td>500</td></tr>\n",
       "</tbody>\n",
       "</table>\n"
      ],
      "text/latex": [
       "A tibble: 6 × 3\n",
       "\\begin{tabular}{lll}\n",
       " term & estimate & penalty\\\\\n",
       " <chr> & <dbl> & <dbl>\\\\\n",
       "\\hline\n",
       "\t (Intercept) &  509945.2 & 500\\\\\n",
       "\t Sqft        & -460507.8 & 500\\\\\n",
       "\t Sqft2       & 1171966.8 & 500\\\\\n",
       "\t Sqft3       &       0.0 & 500\\\\\n",
       "\t Sqft4       &       0.0 & 500\\\\\n",
       "\t Sqft5       & -560317.9 & 500\\\\\n",
       "\\end{tabular}\n"
      ],
      "text/markdown": [
       "\n",
       "A tibble: 6 × 3\n",
       "\n",
       "| term &lt;chr&gt; | estimate &lt;dbl&gt; | penalty &lt;dbl&gt; |\n",
       "|---|---|---|\n",
       "| (Intercept) |  509945.2 | 500 |\n",
       "| Sqft        | -460507.8 | 500 |\n",
       "| Sqft2       | 1171966.8 | 500 |\n",
       "| Sqft3       |       0.0 | 500 |\n",
       "| Sqft4       |       0.0 | 500 |\n",
       "| Sqft5       | -560317.9 | 500 |\n",
       "\n"
      ],
      "text/plain": [
       "  term        estimate  penalty\n",
       "1 (Intercept)  509945.2 500    \n",
       "2 Sqft        -460507.8 500    \n",
       "3 Sqft2       1171966.8 500    \n",
       "4 Sqft3             0.0 500    \n",
       "5 Sqft4             0.0 500    \n",
       "6 Sqft5       -560317.9 500    "
      ]
     },
     "metadata": {},
     "output_type": "display_data"
    }
   ],
   "source": [
    "tidy(WFModelLasso)"
   ]
  },
  {
   "cell_type": "code",
   "execution_count": 207,
   "id": "6b2c41bd",
   "metadata": {
    "vscode": {
     "languageId": "r"
    }
   },
   "outputs": [
    {
     "data": {
      "text/html": [
       "<table class=\"dataframe\">\n",
       "<caption>A tibble: 3 × 3</caption>\n",
       "<thead>\n",
       "\t<tr><th scope=col>.metric</th><th scope=col>.estimator</th><th scope=col>.estimate</th></tr>\n",
       "\t<tr><th scope=col>&lt;chr&gt;</th><th scope=col>&lt;chr&gt;</th><th scope=col>&lt;dbl&gt;</th></tr>\n",
       "</thead>\n",
       "<tbody>\n",
       "\t<tr><td>rmse</td><td>standard</td><td>1.449761e+05</td></tr>\n",
       "\t<tr><td>rsq </td><td>standard</td><td>6.791390e-01</td></tr>\n",
       "\t<tr><td>mae </td><td>standard</td><td>1.100075e+05</td></tr>\n",
       "</tbody>\n",
       "</table>\n"
      ],
      "text/latex": [
       "A tibble: 3 × 3\n",
       "\\begin{tabular}{lll}\n",
       " .metric & .estimator & .estimate\\\\\n",
       " <chr> & <chr> & <dbl>\\\\\n",
       "\\hline\n",
       "\t rmse & standard & 1.449761e+05\\\\\n",
       "\t rsq  & standard & 6.791390e-01\\\\\n",
       "\t mae  & standard & 1.100075e+05\\\\\n",
       "\\end{tabular}\n"
      ],
      "text/markdown": [
       "\n",
       "A tibble: 3 × 3\n",
       "\n",
       "| .metric &lt;chr&gt; | .estimator &lt;chr&gt; | .estimate &lt;dbl&gt; |\n",
       "|---|---|---|\n",
       "| rmse | standard | 1.449761e+05 |\n",
       "| rsq  | standard | 6.791390e-01 |\n",
       "| mae  | standard | 1.100075e+05 |\n",
       "\n"
      ],
      "text/plain": [
       "  .metric .estimator .estimate   \n",
       "1 rmse    standard   1.449761e+05\n",
       "2 rsq     standard   6.791390e-01\n",
       "3 mae     standard   1.100075e+05"
      ]
     },
     "metadata": {},
     "output_type": "display_data"
    }
   ],
   "source": [
    "DataTrainWithPredLasso=augment(WFModelLasso,DataTrain)\n",
    "metrics(DataTrainWithPredLasso, truth=Price, estimate=.pred)"
   ]
  },
  {
   "cell_type": "code",
   "execution_count": 208,
   "id": "a168b1ef",
   "metadata": {
    "vscode": {
     "languageId": "r"
    }
   },
   "outputs": [
    {
     "data": {
      "text/html": [
       "<table class=\"dataframe\">\n",
       "<caption>A tibble: 3 × 3</caption>\n",
       "<thead>\n",
       "\t<tr><th scope=col>.metric</th><th scope=col>.estimator</th><th scope=col>.estimate</th></tr>\n",
       "\t<tr><th scope=col>&lt;chr&gt;</th><th scope=col>&lt;chr&gt;</th><th scope=col>&lt;dbl&gt;</th></tr>\n",
       "</thead>\n",
       "<tbody>\n",
       "\t<tr><td>rmse</td><td>standard</td><td>4.723086e+06</td></tr>\n",
       "\t<tr><td>rsq </td><td>standard</td><td>2.961055e-02</td></tr>\n",
       "\t<tr><td>mae </td><td>standard</td><td>3.031176e+05</td></tr>\n",
       "</tbody>\n",
       "</table>\n"
      ],
      "text/latex": [
       "A tibble: 3 × 3\n",
       "\\begin{tabular}{lll}\n",
       " .metric & .estimator & .estimate\\\\\n",
       " <chr> & <chr> & <dbl>\\\\\n",
       "\\hline\n",
       "\t rmse & standard & 4.723086e+06\\\\\n",
       "\t rsq  & standard & 2.961055e-02\\\\\n",
       "\t mae  & standard & 3.031176e+05\\\\\n",
       "\\end{tabular}\n"
      ],
      "text/markdown": [
       "\n",
       "A tibble: 3 × 3\n",
       "\n",
       "| .metric &lt;chr&gt; | .estimator &lt;chr&gt; | .estimate &lt;dbl&gt; |\n",
       "|---|---|---|\n",
       "| rmse | standard | 4.723086e+06 |\n",
       "| rsq  | standard | 2.961055e-02 |\n",
       "| mae  | standard | 3.031176e+05 |\n",
       "\n"
      ],
      "text/plain": [
       "  .metric .estimator .estimate   \n",
       "1 rmse    standard   4.723086e+06\n",
       "2 rsq     standard   2.961055e-02\n",
       "3 mae     standard   3.031176e+05"
      ]
     },
     "metadata": {},
     "output_type": "display_data"
    }
   ],
   "source": [
    "DataTestWithPredLasso=augment(WFModelLasso, DataTest)\n",
    "metrics(DataTestWithPredLasso, truth=Price, estimate=.pred)"
   ]
  },
  {
   "cell_type": "code",
   "execution_count": 209,
   "id": "ad9694b7",
   "metadata": {
    "vscode": {
     "languageId": "r"
    }
   },
   "outputs": [],
   "source": [
    "set.seed(777)\n",
    "ModelDesignRidge=linear_reg(penalty=1000000, mixture=0) |>\n",
    "    set_engine(\"glmnet\") |>\n",
    "    set_mode(\"regression\")\n",
    "\n",
    "WFModelRidge=workflow() |>\n",
    "    add_model(ModelDesignRidge) |>\n",
    "    add_recipe(RecipeHouses) |>\n",
    "fit(DataTrain)"
   ]
  },
  {
   "cell_type": "code",
   "execution_count": 210,
   "id": "a3466c7e",
   "metadata": {
    "vscode": {
     "languageId": "r"
    }
   },
   "outputs": [
    {
     "data": {
      "text/html": [
       "<table class=\"dataframe\">\n",
       "<caption>A tibble: 6 × 3</caption>\n",
       "<thead>\n",
       "\t<tr><th scope=col>term</th><th scope=col>estimate</th><th scope=col>penalty</th></tr>\n",
       "\t<tr><th scope=col>&lt;chr&gt;</th><th scope=col>&lt;dbl&gt;</th><th scope=col>&lt;dbl&gt;</th></tr>\n",
       "</thead>\n",
       "<tbody>\n",
       "\t<tr><td>(Intercept)</td><td>509945.15</td><td>1e+06</td></tr>\n",
       "\t<tr><td>Sqft       </td><td> 25790.24</td><td>1e+06</td></tr>\n",
       "\t<tr><td>Sqft2      </td><td> 23133.42</td><td>1e+06</td></tr>\n",
       "\t<tr><td>Sqft3      </td><td> 19885.44</td><td>1e+06</td></tr>\n",
       "\t<tr><td>Sqft4      </td><td> 16968.36</td><td>1e+06</td></tr>\n",
       "\t<tr><td>Sqft5      </td><td> 14570.48</td><td>1e+06</td></tr>\n",
       "</tbody>\n",
       "</table>\n"
      ],
      "text/latex": [
       "A tibble: 6 × 3\n",
       "\\begin{tabular}{lll}\n",
       " term & estimate & penalty\\\\\n",
       " <chr> & <dbl> & <dbl>\\\\\n",
       "\\hline\n",
       "\t (Intercept) & 509945.15 & 1e+06\\\\\n",
       "\t Sqft        &  25790.24 & 1e+06\\\\\n",
       "\t Sqft2       &  23133.42 & 1e+06\\\\\n",
       "\t Sqft3       &  19885.44 & 1e+06\\\\\n",
       "\t Sqft4       &  16968.36 & 1e+06\\\\\n",
       "\t Sqft5       &  14570.48 & 1e+06\\\\\n",
       "\\end{tabular}\n"
      ],
      "text/markdown": [
       "\n",
       "A tibble: 6 × 3\n",
       "\n",
       "| term &lt;chr&gt; | estimate &lt;dbl&gt; | penalty &lt;dbl&gt; |\n",
       "|---|---|---|\n",
       "| (Intercept) | 509945.15 | 1e+06 |\n",
       "| Sqft        |  25790.24 | 1e+06 |\n",
       "| Sqft2       |  23133.42 | 1e+06 |\n",
       "| Sqft3       |  19885.44 | 1e+06 |\n",
       "| Sqft4       |  16968.36 | 1e+06 |\n",
       "| Sqft5       |  14570.48 | 1e+06 |\n",
       "\n"
      ],
      "text/plain": [
       "  term        estimate  penalty\n",
       "1 (Intercept) 509945.15 1e+06  \n",
       "2 Sqft         25790.24 1e+06  \n",
       "3 Sqft2        23133.42 1e+06  \n",
       "4 Sqft3        19885.44 1e+06  \n",
       "5 Sqft4        16968.36 1e+06  \n",
       "6 Sqft5        14570.48 1e+06  "
      ]
     },
     "metadata": {},
     "output_type": "display_data"
    }
   ],
   "source": [
    "tidy(WFModelRidge)"
   ]
  },
  {
   "cell_type": "code",
   "execution_count": 211,
   "id": "a14b5ab2",
   "metadata": {
    "vscode": {
     "languageId": "r"
    }
   },
   "outputs": [
    {
     "data": {
      "text/html": [
       "<table class=\"dataframe\">\n",
       "<caption>A tibble: 3 × 3</caption>\n",
       "<thead>\n",
       "\t<tr><th scope=col>.metric</th><th scope=col>.estimator</th><th scope=col>.estimate</th></tr>\n",
       "\t<tr><th scope=col>&lt;chr&gt;</th><th scope=col>&lt;chr&gt;</th><th scope=col>&lt;dbl&gt;</th></tr>\n",
       "</thead>\n",
       "<tbody>\n",
       "\t<tr><td>rmse</td><td>standard</td><td>3.304854e+05</td></tr>\n",
       "\t<tr><td>rsq </td><td>standard</td><td>2.365959e-01</td></tr>\n",
       "\t<tr><td>mae </td><td>standard</td><td>1.864315e+05</td></tr>\n",
       "</tbody>\n",
       "</table>\n"
      ],
      "text/latex": [
       "A tibble: 3 × 3\n",
       "\\begin{tabular}{lll}\n",
       " .metric & .estimator & .estimate\\\\\n",
       " <chr> & <chr> & <dbl>\\\\\n",
       "\\hline\n",
       "\t rmse & standard & 3.304854e+05\\\\\n",
       "\t rsq  & standard & 2.365959e-01\\\\\n",
       "\t mae  & standard & 1.864315e+05\\\\\n",
       "\\end{tabular}\n"
      ],
      "text/markdown": [
       "\n",
       "A tibble: 3 × 3\n",
       "\n",
       "| .metric &lt;chr&gt; | .estimator &lt;chr&gt; | .estimate &lt;dbl&gt; |\n",
       "|---|---|---|\n",
       "| rmse | standard | 3.304854e+05 |\n",
       "| rsq  | standard | 2.365959e-01 |\n",
       "| mae  | standard | 1.864315e+05 |\n",
       "\n"
      ],
      "text/plain": [
       "  .metric .estimator .estimate   \n",
       "1 rmse    standard   3.304854e+05\n",
       "2 rsq     standard   2.365959e-01\n",
       "3 mae     standard   1.864315e+05"
      ]
     },
     "metadata": {},
     "output_type": "display_data"
    }
   ],
   "source": [
    "DataTestWithPredRidge=augment(WFModelRidge, DataTest)\n",
    "metrics(DataTestWithPredRidge, truth=Price, estimate=.pred)"
   ]
  },
  {
   "cell_type": "code",
   "execution_count": 212,
   "id": "f17e84ba",
   "metadata": {
    "vscode": {
     "languageId": "r"
    }
   },
   "outputs": [],
   "source": [
    "set.seed(777)\n",
    "ModelDesignElastNet=linear_reg(penalty=10000, mixture=0.5) |>\n",
    "    set_engine(\"glmnet\") |>\n",
    "    set_mode(\"regression\")\n",
    "\n",
    "WFModelElastNet=workflow() |>\n",
    "    add_model(ModelDesignElastNet) |>\n",
    "    add_recipe(RecipeHouses) |>\n",
    "fit(DataTrain)"
   ]
  },
  {
   "cell_type": "code",
   "execution_count": 213,
   "id": "c8474178",
   "metadata": {
    "vscode": {
     "languageId": "r"
    }
   },
   "outputs": [
    {
     "data": {
      "text/html": [
       "<table class=\"dataframe\">\n",
       "<caption>A tibble: 6 × 3</caption>\n",
       "<thead>\n",
       "\t<tr><th scope=col>term</th><th scope=col>estimate</th><th scope=col>penalty</th></tr>\n",
       "\t<tr><th scope=col>&lt;chr&gt;</th><th scope=col>&lt;dbl&gt;</th><th scope=col>&lt;dbl&gt;</th></tr>\n",
       "</thead>\n",
       "<tbody>\n",
       "\t<tr><td>(Intercept)</td><td>509945.15</td><td>10000</td></tr>\n",
       "\t<tr><td>Sqft       </td><td>151416.88</td><td>10000</td></tr>\n",
       "\t<tr><td>Sqft2      </td><td> 89828.43</td><td>10000</td></tr>\n",
       "\t<tr><td>Sqft3      </td><td>     0.00</td><td>10000</td></tr>\n",
       "\t<tr><td>Sqft4      </td><td>     0.00</td><td>10000</td></tr>\n",
       "\t<tr><td>Sqft5      </td><td>-58922.79</td><td>10000</td></tr>\n",
       "</tbody>\n",
       "</table>\n"
      ],
      "text/latex": [
       "A tibble: 6 × 3\n",
       "\\begin{tabular}{lll}\n",
       " term & estimate & penalty\\\\\n",
       " <chr> & <dbl> & <dbl>\\\\\n",
       "\\hline\n",
       "\t (Intercept) & 509945.15 & 10000\\\\\n",
       "\t Sqft        & 151416.88 & 10000\\\\\n",
       "\t Sqft2       &  89828.43 & 10000\\\\\n",
       "\t Sqft3       &      0.00 & 10000\\\\\n",
       "\t Sqft4       &      0.00 & 10000\\\\\n",
       "\t Sqft5       & -58922.79 & 10000\\\\\n",
       "\\end{tabular}\n"
      ],
      "text/markdown": [
       "\n",
       "A tibble: 6 × 3\n",
       "\n",
       "| term &lt;chr&gt; | estimate &lt;dbl&gt; | penalty &lt;dbl&gt; |\n",
       "|---|---|---|\n",
       "| (Intercept) | 509945.15 | 10000 |\n",
       "| Sqft        | 151416.88 | 10000 |\n",
       "| Sqft2       |  89828.43 | 10000 |\n",
       "| Sqft3       |      0.00 | 10000 |\n",
       "| Sqft4       |      0.00 | 10000 |\n",
       "| Sqft5       | -58922.79 | 10000 |\n",
       "\n"
      ],
      "text/plain": [
       "  term        estimate  penalty\n",
       "1 (Intercept) 509945.15 10000  \n",
       "2 Sqft        151416.88 10000  \n",
       "3 Sqft2        89828.43 10000  \n",
       "4 Sqft3            0.00 10000  \n",
       "5 Sqft4            0.00 10000  \n",
       "6 Sqft5       -58922.79 10000  "
      ]
     },
     "metadata": {},
     "output_type": "display_data"
    }
   ],
   "source": [
    "tidy(WFModelElastNet)"
   ]
  },
  {
   "cell_type": "code",
   "execution_count": 214,
   "id": "eab7c57d",
   "metadata": {
    "vscode": {
     "languageId": "r"
    }
   },
   "outputs": [
    {
     "data": {
      "text/html": [
       "<table class=\"dataframe\">\n",
       "<caption>A tibble: 3 × 3</caption>\n",
       "<thead>\n",
       "\t<tr><th scope=col>.metric</th><th scope=col>.estimator</th><th scope=col>.estimate</th></tr>\n",
       "\t<tr><th scope=col>&lt;chr&gt;</th><th scope=col>&lt;chr&gt;</th><th scope=col>&lt;dbl&gt;</th></tr>\n",
       "</thead>\n",
       "<tbody>\n",
       "\t<tr><td>rmse</td><td>standard</td><td>6.007675e+05</td></tr>\n",
       "\t<tr><td>rsq </td><td>standard</td><td>6.644793e-03</td></tr>\n",
       "\t<tr><td>mae </td><td>standard</td><td>1.807164e+05</td></tr>\n",
       "</tbody>\n",
       "</table>\n"
      ],
      "text/latex": [
       "A tibble: 3 × 3\n",
       "\\begin{tabular}{lll}\n",
       " .metric & .estimator & .estimate\\\\\n",
       " <chr> & <chr> & <dbl>\\\\\n",
       "\\hline\n",
       "\t rmse & standard & 6.007675e+05\\\\\n",
       "\t rsq  & standard & 6.644793e-03\\\\\n",
       "\t mae  & standard & 1.807164e+05\\\\\n",
       "\\end{tabular}\n"
      ],
      "text/markdown": [
       "\n",
       "A tibble: 3 × 3\n",
       "\n",
       "| .metric &lt;chr&gt; | .estimator &lt;chr&gt; | .estimate &lt;dbl&gt; |\n",
       "|---|---|---|\n",
       "| rmse | standard | 6.007675e+05 |\n",
       "| rsq  | standard | 6.644793e-03 |\n",
       "| mae  | standard | 1.807164e+05 |\n",
       "\n"
      ],
      "text/plain": [
       "  .metric .estimator .estimate   \n",
       "1 rmse    standard   6.007675e+05\n",
       "2 rsq     standard   6.644793e-03\n",
       "3 mae     standard   1.807164e+05"
      ]
     },
     "metadata": {},
     "output_type": "display_data"
    }
   ],
   "source": [
    "DataTestWithPredElastNet=augment(WFModelElastNet, DataTest)\n",
    "metrics(DataTestWithPredElastNet, truth = Price, estimate = .pred)"
   ]
  },
  {
   "cell_type": "code",
   "execution_count": 225,
   "id": "864193c8",
   "metadata": {
    "vscode": {
     "languageId": "r"
    }
   },
   "outputs": [],
   "source": [
    "DataHousing= import(\"https://ai.lange-analytics.com/data/HousingData.csv\")|>\n",
    "    clean_names(\"upper_camel\") |>\n",
    "    select(Price, Sqft=SqftLiving, Bedr=Bedrooms, Year=YrBuilt) |>\n",
    "  filter(Price<=1300000, Sqft<4500)\n",
    "  set.seed(777)\n",
    "  Split005=initial_split(DataHousing, prop=0.005, strata=Price, breaks=5)\n",
    "  DataTrain=training(Split005)\n",
    "  DataTest=testing(Split005)"
   ]
  },
  {
   "cell_type": "code",
   "execution_count": 226,
   "id": "969bce03",
   "metadata": {
    "vscode": {
     "languageId": "r"
    }
   },
   "outputs": [],
   "source": [
    "RecipeHousesMultivar=recipe(Price~., data=DataTrain) |>\n",
    "    step_mutate(Sqft2=Sqft^2,Bedr2=Bedr^2,Year2=Year^2,\n",
    "    SqftxBedr=Sqft*Bedr,SqftxYear=Sqft*Year,\n",
    "    BedrxYear=Bedr*Year,Sqft2xBedr=Sqft2*Bedr,\n",
    "    SqftxBedr2=Sqft*Bedr2,Sqft2xBedr2=Sqft2*Bedr2,\n",
    "    Sqft2xYear=Sqft2*Year,SqftxYear2=Sqft*Year2,\n",
    "    Sqft2xYear2=Sqft2*Year2,Bedr2xYear=Bedr2*Year,\n",
    "    BedrxYear2=Bedr*Year2,Bedr2xYear2=Bedr2*Year2) |>\n",
    "    step_normalize(all_predictors())"
   ]
  },
  {
   "cell_type": "code",
   "execution_count": 228,
   "id": "f610d3f2",
   "metadata": {
    "vscode": {
     "languageId": "r"
    }
   },
   "outputs": [],
   "source": [
    "ModelDesignElastNetTune =linear_reg(penalty=tune(), mixture=tune()) |>\n",
    "set_engine(\"glmnet\") |>\n",
    "set_mode(\"regression\")"
   ]
  },
  {
   "cell_type": "code",
   "execution_count": 229,
   "id": "17d662a4",
   "metadata": {
    "vscode": {
     "languageId": "r"
    }
   },
   "outputs": [],
   "source": [
    "TuneWFModel=workflow() |>\n",
    "    add_recipe(RecipeHousesMultivar) |>\n",
    "    add_model(ModelDesignElastNetTune)"
   ]
  },
  {
   "cell_type": "code",
   "execution_count": 230,
   "id": "b9c2a66e",
   "metadata": {
    "vscode": {
     "languageId": "r"
    }
   },
   "outputs": [
    {
     "name": "stdout",
     "output_type": "stream",
     "text": [
      "\u001b[90m# A tibble: 198 × 2\u001b[39m\n",
      "   mixture penalty\n",
      "     \u001b[3m\u001b[90m<dbl>\u001b[39m\u001b[23m   \u001b[3m\u001b[90m<dbl>\u001b[39m\u001b[23m\n",
      "\u001b[90m 1\u001b[39m       0   \u001b[4m1\u001b[24m\u001b[4m5\u001b[24m000\n",
      "\u001b[90m 2\u001b[39m       0   \u001b[4m1\u001b[24m\u001b[4m6\u001b[24m000\n",
      "\u001b[90m 3\u001b[39m       0   \u001b[4m1\u001b[24m\u001b[4m7\u001b[24m000\n",
      "\u001b[90m 4\u001b[39m       0   \u001b[4m1\u001b[24m\u001b[4m8\u001b[24m000\n",
      "\u001b[90m 5\u001b[39m       0   \u001b[4m1\u001b[24m\u001b[4m9\u001b[24m000\n",
      "\u001b[90m 6\u001b[39m       0   \u001b[4m2\u001b[24m\u001b[4m0\u001b[24m000\n",
      "\u001b[90m 7\u001b[39m       0   \u001b[4m2\u001b[24m\u001b[4m1\u001b[24m000\n",
      "\u001b[90m 8\u001b[39m       0   \u001b[4m2\u001b[24m\u001b[4m2\u001b[24m000\n",
      "\u001b[90m 9\u001b[39m       0   \u001b[4m2\u001b[24m\u001b[4m3\u001b[24m000\n",
      "\u001b[90m10\u001b[39m       0   \u001b[4m2\u001b[24m\u001b[4m4\u001b[24m000\n",
      "\u001b[90m# ℹ 188 more rows\u001b[39m\n"
     ]
    }
   ],
   "source": [
    "ParGridHouses=crossing(mixture=c(0, 0.5, 1),\n",
    "    penalty=seq(15000, 80000, 1000))\n",
    "    print(ParGridHouses)"
   ]
  },
  {
   "cell_type": "code",
   "execution_count": 232,
   "id": "caada9b4",
   "metadata": {
    "vscode": {
     "languageId": "r"
    }
   },
   "outputs": [],
   "source": [
    "FoldsForTuning=vfold_cv(DataTrain, v=3, strata=Price, repeats=10)"
   ]
  },
  {
   "cell_type": "code",
   "execution_count": 235,
   "id": "6f97646d",
   "metadata": {
    "vscode": {
     "languageId": "r"
    }
   },
   "outputs": [],
   "source": [
    "TuneResults=tune_grid(TuneWFModel, resamples=FoldsForTuning,\n",
    "    grid=crossing(ParGridHouses), \n",
    "    metrics=metric_set(rmse))#, #Ex: <LIST OF METRICS>= rmse, rsq, mae\n",
    "   # control_grid(verbose=TRUE))"
   ]
  },
  {
   "cell_type": "code",
   "execution_count": 237,
   "id": "39382984",
   "metadata": {
    "vscode": {
     "languageId": "r"
    }
   },
   "outputs": [
    {
     "data": {
      "image/png": "[encoded data removed]",
      "text/plain": [
       "plot without title"
      ]
     },
     "metadata": {
      "image/png": {
       "height": 420,
       "width": 420
      }
     },
     "output_type": "display_data"
    }
   ],
   "source": [
    "autoplot(TuneResults)"
   ]
  },
  {
   "cell_type": "code",
   "execution_count": 241,
   "id": "76432812",
   "metadata": {
    "vscode": {
     "languageId": "r"
    }
   },
   "outputs": [
    {
     "name": "stdout",
     "output_type": "stream",
     "text": [
      "[1] \"Best values for the Hyper-Parameters\"\n"
     ]
    },
    {
     "data": {
      "text/html": [
       "<table class=\"dataframe\">\n",
       "<caption>A tibble: 1 × 3</caption>\n",
       "<thead>\n",
       "\t<tr><th scope=col>penalty</th><th scope=col>mixture</th><th scope=col>.config</th></tr>\n",
       "\t<tr><th scope=col>&lt;dbl&gt;</th><th scope=col>&lt;dbl&gt;</th><th scope=col>&lt;chr&gt;</th></tr>\n",
       "</thead>\n",
       "<tbody>\n",
       "\t<tr><td>30000</td><td>0</td><td>Preprocessor1_Model016</td></tr>\n",
       "</tbody>\n",
       "</table>\n"
      ],
      "text/latex": [
       "A tibble: 1 × 3\n",
       "\\begin{tabular}{lll}\n",
       " penalty & mixture & .config\\\\\n",
       " <dbl> & <dbl> & <chr>\\\\\n",
       "\\hline\n",
       "\t 30000 & 0 & Preprocessor1\\_Model016\\\\\n",
       "\\end{tabular}\n"
      ],
      "text/markdown": [
       "\n",
       "A tibble: 1 × 3\n",
       "\n",
       "| penalty &lt;dbl&gt; | mixture &lt;dbl&gt; | .config &lt;chr&gt; |\n",
       "|---|---|---|\n",
       "| 30000 | 0 | Preprocessor1_Model016 |\n",
       "\n"
      ],
      "text/plain": [
       "  penalty mixture .config               \n",
       "1 30000   0       Preprocessor1_Model016"
      ]
     },
     "metadata": {},
     "output_type": "display_data"
    }
   ],
   "source": [
    "BestHyperPara=select_best(TuneResults, metric=\"rmse\")\n",
    "print(\"Best values for the Hyper-Parameters\")\n",
    "BestHyperPara"
   ]
  },
  {
   "cell_type": "code",
   "execution_count": 245,
   "id": "f22ada3f",
   "metadata": {
    "vscode": {
     "languageId": "r"
    }
   },
   "outputs": [],
   "source": [
    "# Step 9: Finalize and Train the Best Workflow\n",
    "BestWFModel=finalize_workflow(TuneWFModel, BestHyperPara) |>\n",
    "fit(DataTrain)"
   ]
  },
  {
   "cell_type": "code",
   "execution_count": 246,
   "id": "d8c411ab",
   "metadata": {
    "vscode": {
     "languageId": "r"
    }
   },
   "outputs": [
    {
     "name": "stdout",
     "output_type": "stream",
     "text": [
      "[1] \"Optimal Beta Parameters (see estimate column)\"\n"
     ]
    },
    {
     "data": {
      "text/html": [
       "<table class=\"dataframe\">\n",
       "<caption>A tibble: 19 × 3</caption>\n",
       "<thead>\n",
       "\t<tr><th scope=col>term</th><th scope=col>estimate</th><th scope=col>penalty</th></tr>\n",
       "\t<tr><th scope=col>&lt;chr&gt;</th><th scope=col>&lt;dbl&gt;</th><th scope=col>&lt;dbl&gt;</th></tr>\n",
       "</thead>\n",
       "<tbody>\n",
       "\t<tr><td>(Intercept)</td><td>498797.921</td><td>30000</td></tr>\n",
       "\t<tr><td>Sqft       </td><td> 38397.813</td><td>30000</td></tr>\n",
       "\t<tr><td>Bedr       </td><td>  1104.529</td><td>30000</td></tr>\n",
       "\t<tr><td>Year       </td><td>-24220.583</td><td>30000</td></tr>\n",
       "\t<tr><td>Sqft2      </td><td> 23903.056</td><td>30000</td></tr>\n",
       "\t<tr><td>Bedr2      </td><td>-15660.435</td><td>30000</td></tr>\n",
       "\t<tr><td>Year2      </td><td>-22384.671</td><td>30000</td></tr>\n",
       "\t<tr><td>SqftxBedr  </td><td> 21772.705</td><td>30000</td></tr>\n",
       "\t<tr><td>SqftxYear  </td><td> 35678.017</td><td>30000</td></tr>\n",
       "\t<tr><td>BedrxYear  </td><td> -2300.088</td><td>30000</td></tr>\n",
       "\t<tr><td>Sqft2xBedr </td><td> 14320.087</td><td>30000</td></tr>\n",
       "\t<tr><td>SqftxBedr2 </td><td> -6109.815</td><td>30000</td></tr>\n",
       "\t<tr><td>Sqft2xBedr2</td><td> -6854.564</td><td>30000</td></tr>\n",
       "\t<tr><td>Sqft2xYear </td><td> 22579.748</td><td>30000</td></tr>\n",
       "\t<tr><td>SqftxYear2 </td><td> 34157.804</td><td>30000</td></tr>\n",
       "\t<tr><td>Sqft2xYear2</td><td> 21794.932</td><td>30000</td></tr>\n",
       "\t<tr><td>Bedr2xYear </td><td>-17691.670</td><td>30000</td></tr>\n",
       "\t<tr><td>BedrxYear2 </td><td> -3935.818</td><td>30000</td></tr>\n",
       "\t<tr><td>Bedr2xYear2</td><td>-19169.670</td><td>30000</td></tr>\n",
       "</tbody>\n",
       "</table>\n"
      ],
      "text/latex": [
       "A tibble: 19 × 3\n",
       "\\begin{tabular}{lll}\n",
       " term & estimate & penalty\\\\\n",
       " <chr> & <dbl> & <dbl>\\\\\n",
       "\\hline\n",
       "\t (Intercept) & 498797.921 & 30000\\\\\n",
       "\t Sqft        &  38397.813 & 30000\\\\\n",
       "\t Bedr        &   1104.529 & 30000\\\\\n",
       "\t Year        & -24220.583 & 30000\\\\\n",
       "\t Sqft2       &  23903.056 & 30000\\\\\n",
       "\t Bedr2       & -15660.435 & 30000\\\\\n",
       "\t Year2       & -22384.671 & 30000\\\\\n",
       "\t SqftxBedr   &  21772.705 & 30000\\\\\n",
       "\t SqftxYear   &  35678.017 & 30000\\\\\n",
       "\t BedrxYear   &  -2300.088 & 30000\\\\\n",
       "\t Sqft2xBedr  &  14320.087 & 30000\\\\\n",
       "\t SqftxBedr2  &  -6109.815 & 30000\\\\\n",
       "\t Sqft2xBedr2 &  -6854.564 & 30000\\\\\n",
       "\t Sqft2xYear  &  22579.748 & 30000\\\\\n",
       "\t SqftxYear2  &  34157.804 & 30000\\\\\n",
       "\t Sqft2xYear2 &  21794.932 & 30000\\\\\n",
       "\t Bedr2xYear  & -17691.670 & 30000\\\\\n",
       "\t BedrxYear2  &  -3935.818 & 30000\\\\\n",
       "\t Bedr2xYear2 & -19169.670 & 30000\\\\\n",
       "\\end{tabular}\n"
      ],
      "text/markdown": [
       "\n",
       "A tibble: 19 × 3\n",
       "\n",
       "| term &lt;chr&gt; | estimate &lt;dbl&gt; | penalty &lt;dbl&gt; |\n",
       "|---|---|---|\n",
       "| (Intercept) | 498797.921 | 30000 |\n",
       "| Sqft        |  38397.813 | 30000 |\n",
       "| Bedr        |   1104.529 | 30000 |\n",
       "| Year        | -24220.583 | 30000 |\n",
       "| Sqft2       |  23903.056 | 30000 |\n",
       "| Bedr2       | -15660.435 | 30000 |\n",
       "| Year2       | -22384.671 | 30000 |\n",
       "| SqftxBedr   |  21772.705 | 30000 |\n",
       "| SqftxYear   |  35678.017 | 30000 |\n",
       "| BedrxYear   |  -2300.088 | 30000 |\n",
       "| Sqft2xBedr  |  14320.087 | 30000 |\n",
       "| SqftxBedr2  |  -6109.815 | 30000 |\n",
       "| Sqft2xBedr2 |  -6854.564 | 30000 |\n",
       "| Sqft2xYear  |  22579.748 | 30000 |\n",
       "| SqftxYear2  |  34157.804 | 30000 |\n",
       "| Sqft2xYear2 |  21794.932 | 30000 |\n",
       "| Bedr2xYear  | -17691.670 | 30000 |\n",
       "| BedrxYear2  |  -3935.818 | 30000 |\n",
       "| Bedr2xYear2 | -19169.670 | 30000 |\n",
       "\n"
      ],
      "text/plain": [
       "   term        estimate   penalty\n",
       "1  (Intercept) 498797.921 30000  \n",
       "2  Sqft         38397.813 30000  \n",
       "3  Bedr          1104.529 30000  \n",
       "4  Year        -24220.583 30000  \n",
       "5  Sqft2        23903.056 30000  \n",
       "6  Bedr2       -15660.435 30000  \n",
       "7  Year2       -22384.671 30000  \n",
       "8  SqftxBedr    21772.705 30000  \n",
       "9  SqftxYear    35678.017 30000  \n",
       "10 BedrxYear    -2300.088 30000  \n",
       "11 Sqft2xBedr   14320.087 30000  \n",
       "12 SqftxBedr2   -6109.815 30000  \n",
       "13 Sqft2xBedr2  -6854.564 30000  \n",
       "14 Sqft2xYear   22579.748 30000  \n",
       "15 SqftxYear2   34157.804 30000  \n",
       "16 Sqft2xYear2  21794.932 30000  \n",
       "17 Bedr2xYear  -17691.670 30000  \n",
       "18 BedrxYear2   -3935.818 30000  \n",
       "19 Bedr2xYear2 -19169.670 30000  "
      ]
     },
     "metadata": {},
     "output_type": "display_data"
    }
   ],
   "source": [
    "print(\"Optimal Beta Parameters (see estimate column)\")\n",
    "tidy(BestWFModel)"
   ]
  },
  {
   "cell_type": "code",
   "execution_count": 247,
   "id": "a9814885",
   "metadata": {
    "vscode": {
     "languageId": "r"
    }
   },
   "outputs": [
    {
     "name": "stdout",
     "output_type": "stream",
     "text": [
      "[1] \"Metrics for the Testing Data\"\n"
     ]
    },
    {
     "data": {
      "text/html": [
       "<table class=\"dataframe\">\n",
       "<caption>A tibble: 3 × 3</caption>\n",
       "<thead>\n",
       "\t<tr><th scope=col>.metric</th><th scope=col>.estimator</th><th scope=col>.estimate</th></tr>\n",
       "\t<tr><th scope=col>&lt;chr&gt;</th><th scope=col>&lt;chr&gt;</th><th scope=col>&lt;dbl&gt;</th></tr>\n",
       "</thead>\n",
       "<tbody>\n",
       "\t<tr><td>rmse</td><td>standard</td><td>1.827754e+05</td></tr>\n",
       "\t<tr><td>rsq </td><td>standard</td><td>3.642435e-01</td></tr>\n",
       "\t<tr><td>mae </td><td>standard</td><td>1.332500e+05</td></tr>\n",
       "</tbody>\n",
       "</table>\n"
      ],
      "text/latex": [
       "A tibble: 3 × 3\n",
       "\\begin{tabular}{lll}\n",
       " .metric & .estimator & .estimate\\\\\n",
       " <chr> & <chr> & <dbl>\\\\\n",
       "\\hline\n",
       "\t rmse & standard & 1.827754e+05\\\\\n",
       "\t rsq  & standard & 3.642435e-01\\\\\n",
       "\t mae  & standard & 1.332500e+05\\\\\n",
       "\\end{tabular}\n"
      ],
      "text/markdown": [
       "\n",
       "A tibble: 3 × 3\n",
       "\n",
       "| .metric &lt;chr&gt; | .estimator &lt;chr&gt; | .estimate &lt;dbl&gt; |\n",
       "|---|---|---|\n",
       "| rmse | standard | 1.827754e+05 |\n",
       "| rsq  | standard | 3.642435e-01 |\n",
       "| mae  | standard | 1.332500e+05 |\n",
       "\n"
      ],
      "text/plain": [
       "  .metric .estimator .estimate   \n",
       "1 rmse    standard   1.827754e+05\n",
       "2 rsq     standard   3.642435e-01\n",
       "3 mae     standard   1.332500e+05"
      ]
     },
     "metadata": {},
     "output_type": "display_data"
    }
   ],
   "source": [
    "DataTestBestWFModelWithPred=augment(BestWFModel, DataTest)\n",
    "print(\"Metrics for the Testing Data\")\n",
    "metrics(DataTestBestWFModelWithPred, truth = Price, estimate = .pred)"
   ]
  },
  {
   "cell_type": "code",
   "execution_count": 251,
   "id": "3a2919ad",
   "metadata": {
    "vscode": {
     "languageId": "r"
    }
   },
   "outputs": [
    {
     "name": "stderr",
     "output_type": "stream",
     "text": [
      "Warning message:\n",
      "\"package 'glm2' is in use and will not be installed\"\n",
      "Installing package into 'C:/Users/Nasim/AppData/Local/R/win-library/4.4'\n",
      "(as 'lib' is unspecified)\n",
      "\n"
     ]
    },
    {
     "name": "stderr",
     "output_type": "stream",
     "text": [
      "also installing the dependencies 'RANN', 'ROSE'\n",
      "\n",
      "\n"
     ]
    },
    {
     "name": "stdout",
     "output_type": "stream",
     "text": [
      "package 'RANN' successfully unpacked and MD5 sums checked\n",
      "package 'ROSE' successfully unpacked and MD5 sums checked\n",
      "package 'themis' successfully unpacked and MD5 sums checked\n",
      "\n",
      "The downloaded binary packages are in\n",
      "\tC:\\Users\\Nasim\\AppData\\Local\\Temp\\RtmpEbR4Wj\\downloaded_packages\n"
     ]
    },
    {
     "name": "stderr",
     "output_type": "stream",
     "text": [
      "Warning message:\n",
      "\"package 'themis' was built under R version 4.4.3\"\n"
     ]
    }
   ],
   "source": [
    "install.packages(\"glm2\")\n",
    "install.packages(\"themis\")\n",
    "library(glm2)\n",
    "library(themis)"
   ]
  },
  {
   "cell_type": "code",
   "execution_count": 252,
   "id": "b0387580",
   "metadata": {
    "vscode": {
     "languageId": "r"
    }
   },
   "outputs": [
    {
     "data": {
      "text/html": [
       "<table class=\"dataframe\">\n",
       "<caption>A data.frame: 6 × 5</caption>\n",
       "<thead>\n",
       "\t<tr><th></th><th scope=col>Churn</th><th scope=col>Gender</th><th scope=col>SeniorCitizen</th><th scope=col>Tenure</th><th scope=col>MonthlyCharges</th></tr>\n",
       "\t<tr><th></th><th scope=col>&lt;fct&gt;</th><th scope=col>&lt;chr&gt;</th><th scope=col>&lt;int&gt;</th><th scope=col>&lt;int&gt;</th><th scope=col>&lt;dbl&gt;</th></tr>\n",
       "</thead>\n",
       "<tbody>\n",
       "\t<tr><th scope=row>1</th><td>No </td><td>Female</td><td>0</td><td> 1</td><td>29.85</td></tr>\n",
       "\t<tr><th scope=row>2</th><td>No </td><td>Male  </td><td>0</td><td>34</td><td>56.95</td></tr>\n",
       "\t<tr><th scope=row>3</th><td>Yes</td><td>Male  </td><td>0</td><td> 2</td><td>53.85</td></tr>\n",
       "\t<tr><th scope=row>4</th><td>No </td><td>Male  </td><td>0</td><td>45</td><td>42.30</td></tr>\n",
       "\t<tr><th scope=row>5</th><td>Yes</td><td>Female</td><td>0</td><td> 2</td><td>70.70</td></tr>\n",
       "\t<tr><th scope=row>6</th><td>Yes</td><td>Female</td><td>0</td><td> 8</td><td>99.65</td></tr>\n",
       "</tbody>\n",
       "</table>\n"
      ],
      "text/latex": [
       "A data.frame: 6 × 5\n",
       "\\begin{tabular}{r|lllll}\n",
       "  & Churn & Gender & SeniorCitizen & Tenure & MonthlyCharges\\\\\n",
       "  & <fct> & <chr> & <int> & <int> & <dbl>\\\\\n",
       "\\hline\n",
       "\t1 & No  & Female & 0 &  1 & 29.85\\\\\n",
       "\t2 & No  & Male   & 0 & 34 & 56.95\\\\\n",
       "\t3 & Yes & Male   & 0 &  2 & 53.85\\\\\n",
       "\t4 & No  & Male   & 0 & 45 & 42.30\\\\\n",
       "\t5 & Yes & Female & 0 &  2 & 70.70\\\\\n",
       "\t6 & Yes & Female & 0 &  8 & 99.65\\\\\n",
       "\\end{tabular}\n"
      ],
      "text/markdown": [
       "\n",
       "A data.frame: 6 × 5\n",
       "\n",
       "| <!--/--> | Churn &lt;fct&gt; | Gender &lt;chr&gt; | SeniorCitizen &lt;int&gt; | Tenure &lt;int&gt; | MonthlyCharges &lt;dbl&gt; |\n",
       "|---|---|---|---|---|---|\n",
       "| 1 | No  | Female | 0 |  1 | 29.85 |\n",
       "| 2 | No  | Male   | 0 | 34 | 56.95 |\n",
       "| 3 | Yes | Male   | 0 |  2 | 53.85 |\n",
       "| 4 | No  | Male   | 0 | 45 | 42.30 |\n",
       "| 5 | Yes | Female | 0 |  2 | 70.70 |\n",
       "| 6 | Yes | Female | 0 |  8 | 99.65 |\n",
       "\n"
      ],
      "text/plain": [
       "  Churn Gender SeniorCitizen Tenure MonthlyCharges\n",
       "1 No    Female 0              1     29.85         \n",
       "2 No    Male   0             34     56.95         \n",
       "3 Yes   Male   0              2     53.85         \n",
       "4 No    Male   0             45     42.30         \n",
       "5 Yes   Female 0              2     70.70         \n",
       "6 Yes   Female 0              8     99.65         "
      ]
     },
     "metadata": {},
     "output_type": "display_data"
    }
   ],
   "source": [
    "DataChurn=import(\"https://ai.lange-analytics.com/data/TelcoData.csv\") |>\n",
    "clean_names(\"upper_camel\") |>\n",
    "select(Churn,Gender, SeniorCitizen, Tenure, MonthlyCharges) |>\n",
    "mutate(Churn=factor(Churn, levels=c(\"Yes\", \"No\")))\n",
    "head(DataChurn)"
   ]
  },
  {
   "cell_type": "code",
   "execution_count": 253,
   "id": "896155bd",
   "metadata": {
    "vscode": {
     "languageId": "r"
    }
   },
   "outputs": [
    {
     "data": {
      "text/html": [
       "<table class=\"dataframe\">\n",
       "<caption>A data.frame: 6 × 5</caption>\n",
       "<thead>\n",
       "\t<tr><th></th><th scope=col>Churn</th><th scope=col>Gender</th><th scope=col>SeniorCitizen</th><th scope=col>Tenure</th><th scope=col>MonthlyCharges</th></tr>\n",
       "\t<tr><th></th><th scope=col>&lt;fct&gt;</th><th scope=col>&lt;chr&gt;</th><th scope=col>&lt;int&gt;</th><th scope=col>&lt;int&gt;</th><th scope=col>&lt;dbl&gt;</th></tr>\n",
       "</thead>\n",
       "<tbody>\n",
       "\t<tr><th scope=row>1</th><td>No</td><td>Female</td><td>0</td><td> 1</td><td>29.85</td></tr>\n",
       "\t<tr><th scope=row>2</th><td>No</td><td>Male  </td><td>0</td><td>45</td><td>42.30</td></tr>\n",
       "\t<tr><th scope=row>3</th><td>No</td><td>Male  </td><td>0</td><td>22</td><td>89.10</td></tr>\n",
       "\t<tr><th scope=row>4</th><td>No</td><td>Female</td><td>0</td><td>10</td><td>29.75</td></tr>\n",
       "\t<tr><th scope=row>5</th><td>No</td><td>Male  </td><td>0</td><td>62</td><td>56.15</td></tr>\n",
       "\t<tr><th scope=row>6</th><td>No</td><td>Male  </td><td>0</td><td>13</td><td>49.95</td></tr>\n",
       "</tbody>\n",
       "</table>\n"
      ],
      "text/latex": [
       "A data.frame: 6 × 5\n",
       "\\begin{tabular}{r|lllll}\n",
       "  & Churn & Gender & SeniorCitizen & Tenure & MonthlyCharges\\\\\n",
       "  & <fct> & <chr> & <int> & <int> & <dbl>\\\\\n",
       "\\hline\n",
       "\t1 & No & Female & 0 &  1 & 29.85\\\\\n",
       "\t2 & No & Male   & 0 & 45 & 42.30\\\\\n",
       "\t3 & No & Male   & 0 & 22 & 89.10\\\\\n",
       "\t4 & No & Female & 0 & 10 & 29.75\\\\\n",
       "\t5 & No & Male   & 0 & 62 & 56.15\\\\\n",
       "\t6 & No & Male   & 0 & 13 & 49.95\\\\\n",
       "\\end{tabular}\n"
      ],
      "text/markdown": [
       "\n",
       "A data.frame: 6 × 5\n",
       "\n",
       "| <!--/--> | Churn &lt;fct&gt; | Gender &lt;chr&gt; | SeniorCitizen &lt;int&gt; | Tenure &lt;int&gt; | MonthlyCharges &lt;dbl&gt; |\n",
       "|---|---|---|---|---|---|\n",
       "| 1 | No | Female | 0 |  1 | 29.85 |\n",
       "| 2 | No | Male   | 0 | 45 | 42.30 |\n",
       "| 3 | No | Male   | 0 | 22 | 89.10 |\n",
       "| 4 | No | Female | 0 | 10 | 29.75 |\n",
       "| 5 | No | Male   | 0 | 62 | 56.15 |\n",
       "| 6 | No | Male   | 0 | 13 | 49.95 |\n",
       "\n"
      ],
      "text/plain": [
       "  Churn Gender SeniorCitizen Tenure MonthlyCharges\n",
       "1 No    Female 0              1     29.85         \n",
       "2 No    Male   0             45     42.30         \n",
       "3 No    Male   0             22     89.10         \n",
       "4 No    Female 0             10     29.75         \n",
       "5 No    Male   0             62     56.15         \n",
       "6 No    Male   0             13     49.95         "
      ]
     },
     "metadata": {},
     "output_type": "display_data"
    }
   ],
   "source": [
    "set.seed(789)\n",
    "Split3070=initial_split(DataChurn, prop=0.7, strata=Churn)\n",
    "DataTrain=training(Split3070)\n",
    "DataTest=testing(Split3070)\n",
    "head(DataTrain)"
   ]
  },
  {
   "cell_type": "code",
   "execution_count": 254,
   "id": "f5bbe3b9",
   "metadata": {
    "vscode": {
     "languageId": "r"
    }
   },
   "outputs": [
    {
     "name": "stdout",
     "output_type": "stream",
     "text": [
      "'data.frame':\t4929 obs. of  5 variables:\n",
      " $ Churn         : Factor w/ 2 levels \"Yes\",\"No\": 2 2 2 2 2 2 2 2 2 2 ...\n",
      " $ Gender        : chr  \"Female\" \"Male\" \"Male\" \"Female\" ...\n",
      " $ SeniorCitizen : int  0 0 0 0 0 0 0 0 0 0 ...\n",
      " $ Tenure        : int  1 45 22 10 62 13 58 25 21 12 ...\n",
      " $ MonthlyCharges: num  29.9 42.3 89.1 29.8 56.1 ...\n"
     ]
    }
   ],
   "source": [
    "str(DataTrain)"
   ]
  },
  {
   "cell_type": "code",
   "execution_count": 255,
   "id": "0c5a6222",
   "metadata": {
    "vscode": {
     "languageId": "r"
    }
   },
   "outputs": [
    {
     "name": "stderr",
     "output_type": "stream",
     "text": [
      "\n",
      "\n",
      "\u001b[36m──\u001b[39m \u001b[1mRecipe\u001b[22m \u001b[36m──────────────────────────────────────────────────────────────────────\u001b[39m\n",
      "\n",
      "\n",
      "\n",
      "── Inputs \n",
      "\n",
      "Number of variables by role\n",
      "\n",
      "outcome:   1\n",
      "predictor: 4\n",
      "\n",
      "\n",
      "\n",
      "── Operations \n",
      "\n",
      "\u001b[36m•\u001b[39m Dummy variables from: \u001b[34mGender\u001b[39m\n",
      "\n"
     ]
    }
   ],
   "source": [
    "RecipeChurn=recipe(Churn~., data=DataTrain) |>\n",
    "step_dummy(Gender)\n",
    "print(RecipeChurn)\n"
   ]
  },
  {
   "cell_type": "code",
   "execution_count": 256,
   "id": "a10b2116",
   "metadata": {
    "vscode": {
     "languageId": "r"
    }
   },
   "outputs": [
    {
     "name": "stdout",
     "output_type": "stream",
     "text": [
      "Logistic Regression Model Specification (classification)\n",
      "\n",
      "Computational engine: glm \n",
      "\n"
     ]
    }
   ],
   "source": [
    "ModelDesignLogisticRegr=logistic_reg() |>\n",
    "set_engine(\"glm\") |>\n",
    "set_mode(\"classification\")\n",
    "print(ModelDesignLogisticRegr)"
   ]
  },
  {
   "cell_type": "code",
   "execution_count": 257,
   "id": "e9c0fdfa",
   "metadata": {
    "vscode": {
     "languageId": "r"
    }
   },
   "outputs": [
    {
     "name": "stdout",
     "output_type": "stream",
     "text": [
      "══ Workflow [trained] ══════════════════════════════════════════════════════════\n",
      "\u001b[3mPreprocessor:\u001b[23m Recipe\n",
      "\u001b[3mModel:\u001b[23m logistic_reg()\n",
      "\n",
      "── Preprocessor ────────────────────────────────────────────────────────────────\n",
      "1 Recipe Step\n",
      "\n",
      "• step_dummy()\n",
      "\n",
      "── Model ───────────────────────────────────────────────────────────────────────\n",
      "\n",
      "Call:  stats::glm(formula = ..y ~ ., family = stats::binomial, data = data)\n",
      "\n",
      "Coefficients:\n",
      "   (Intercept)   SeniorCitizen          Tenure  MonthlyCharges     Gender_Male  \n",
      "       1.88649        -0.67032         0.05724        -0.03276        -0.01341  \n",
      "\n",
      "Degrees of Freedom: 4928 Total (i.e. Null);  4924 Residual\n",
      "Null Deviance:\t    5704 \n",
      "Residual Deviance: 4346 \tAIC: 4356\n"
     ]
    }
   ],
   "source": [
    "WFModelChurn=workflow() |>\n",
    "add_recipe(RecipeChurn) |>\n",
    "add_model(ModelDesignLogisticRegr) |>\n",
    "fit(DataTrain)\n",
    "print(WFModelChurn)"
   ]
  },
  {
   "cell_type": "code",
   "execution_count": 258,
   "id": "747cefde",
   "metadata": {
    "vscode": {
     "languageId": "r"
    }
   },
   "outputs": [
    {
     "name": "stdout",
     "output_type": "stream",
     "text": [
      "tibble [2,114 × 8] (S3: tbl_df/tbl/data.frame)\n",
      " $ .pred_class   : Factor w/ 2 levels \"Yes\",\"No\": 2 2 2 2 2 1 2 2 2 1 ...\n",
      " $ .pred_Yes     : num [1:2114] 0.1242 0.1027 0.1066 0.015 0.0801 ...\n",
      " $ .pred_No      : num [1:2114] 0.876 0.897 0.893 0.985 0.92 ...\n",
      " $ Churn         : Factor w/ 2 levels \"Yes\",\"No\": 2 2 2 2 2 1 1 2 2 1 ...\n",
      " $ Gender        : chr [1:2114] \"Male\" \"Male\" \"Female\" \"Female\" ...\n",
      " $ SeniorCitizen : int [1:2114] 0 0 0 0 0 1 0 1 0 0 ...\n",
      " $ Tenure        : int [1:2114] 34 16 69 52 71 1 1 71 27 5 ...\n",
      " $ MonthlyCharges: num [1:2114] 57 18.9 113.2 20.6 106.7 ...\n"
     ]
    }
   ],
   "source": [
    "DataTestWithPred=augment(WFModelChurn, new_data=DataTest)\n",
    "str(DataTestWithPred)"
   ]
  },
  {
   "cell_type": "code",
   "execution_count": 259,
   "id": "244c3875",
   "metadata": {
    "vscode": {
     "languageId": "r"
    }
   },
   "outputs": [
    {
     "data": {
      "text/plain": [
       "          Truth\n",
       "Prediction  Yes   No\n",
       "       Yes  239  150\n",
       "       No   322 1403"
      ]
     },
     "metadata": {},
     "output_type": "display_data"
    }
   ],
   "source": [
    "conf_mat(DataTestWithPred, truth=Churn, estimate=.pred_class)"
   ]
  },
  {
   "cell_type": "code",
   "execution_count": 260,
   "id": "67e09fd9",
   "metadata": {
    "vscode": {
     "languageId": "r"
    }
   },
   "outputs": [
    {
     "data": {
      "text/html": [
       "<table class=\"dataframe\">\n",
       "<caption>A tibble: 3 × 3</caption>\n",
       "<thead>\n",
       "\t<tr><th scope=col>.metric</th><th scope=col>.estimator</th><th scope=col>.estimate</th></tr>\n",
       "\t<tr><th scope=col>&lt;chr&gt;</th><th scope=col>&lt;chr&gt;</th><th scope=col>&lt;dbl&gt;</th></tr>\n",
       "</thead>\n",
       "<tbody>\n",
       "\t<tr><td>accuracy   </td><td>binary</td><td>0.7767266</td></tr>\n",
       "\t<tr><td>sensitivity</td><td>binary</td><td>0.4260250</td></tr>\n",
       "\t<tr><td>specificity</td><td>binary</td><td>0.9034127</td></tr>\n",
       "</tbody>\n",
       "</table>\n"
      ],
      "text/latex": [
       "A tibble: 3 × 3\n",
       "\\begin{tabular}{lll}\n",
       " .metric & .estimator & .estimate\\\\\n",
       " <chr> & <chr> & <dbl>\\\\\n",
       "\\hline\n",
       "\t accuracy    & binary & 0.7767266\\\\\n",
       "\t sensitivity & binary & 0.4260250\\\\\n",
       "\t specificity & binary & 0.9034127\\\\\n",
       "\\end{tabular}\n"
      ],
      "text/markdown": [
       "\n",
       "A tibble: 3 × 3\n",
       "\n",
       "| .metric &lt;chr&gt; | .estimator &lt;chr&gt; | .estimate &lt;dbl&gt; |\n",
       "|---|---|---|\n",
       "| accuracy    | binary | 0.7767266 |\n",
       "| sensitivity | binary | 0.4260250 |\n",
       "| specificity | binary | 0.9034127 |\n",
       "\n"
      ],
      "text/plain": [
       "  .metric     .estimator .estimate\n",
       "1 accuracy    binary     0.7767266\n",
       "2 sensitivity binary     0.4260250\n",
       "3 specificity binary     0.9034127"
      ]
     },
     "metadata": {},
     "output_type": "display_data"
    }
   ],
   "source": [
    "FctMetricsSet=metric_set(accuracy, sensitivity, specificity)\n",
    "FctMetricsSet(DataTestWithPred, truth=Churn, estimate=.pred_class)"
   ]
  },
  {
   "cell_type": "code",
   "execution_count": 261,
   "id": "9d2f2abe",
   "metadata": {
    "vscode": {
     "languageId": "r"
    }
   },
   "outputs": [
    {
     "data": {
      "text/html": [
       "<table class=\"dataframe\">\n",
       "<caption>A data.frame: 2 × 2</caption>\n",
       "<thead>\n",
       "\t<tr><th scope=col>Churn</th><th scope=col>n</th></tr>\n",
       "\t<tr><th scope=col>&lt;fct&gt;</th><th scope=col>&lt;int&gt;</th></tr>\n",
       "</thead>\n",
       "<tbody>\n",
       "\t<tr><td>Yes</td><td>1308</td></tr>\n",
       "\t<tr><td>No </td><td>3621</td></tr>\n",
       "</tbody>\n",
       "</table>\n"
      ],
      "text/latex": [
       "A data.frame: 2 × 2\n",
       "\\begin{tabular}{ll}\n",
       " Churn & n\\\\\n",
       " <fct> & <int>\\\\\n",
       "\\hline\n",
       "\t Yes & 1308\\\\\n",
       "\t No  & 3621\\\\\n",
       "\\end{tabular}\n"
      ],
      "text/markdown": [
       "\n",
       "A data.frame: 2 × 2\n",
       "\n",
       "| Churn &lt;fct&gt; | n &lt;int&gt; |\n",
       "|---|---|\n",
       "| Yes | 1308 |\n",
       "| No  | 3621 |\n",
       "\n"
      ],
      "text/plain": [
       "  Churn n   \n",
       "1 Yes   1308\n",
       "2 No    3621"
      ]
     },
     "metadata": {},
     "output_type": "display_data"
    }
   ],
   "source": [
    "count(DataTrain, Churn)"
   ]
  },
  {
   "cell_type": "code",
   "execution_count": 272,
   "id": "b25c56a0",
   "metadata": {
    "vscode": {
     "languageId": "r"
    }
   },
   "outputs": [
    {
     "data": {
      "text/html": [
       "<table class=\"dataframe\">\n",
       "<caption>A tibble: 2 × 2</caption>\n",
       "<thead>\n",
       "\t<tr><th scope=col>Churn</th><th scope=col>n</th></tr>\n",
       "\t<tr><th scope=col>&lt;fct&gt;</th><th scope=col>&lt;int&gt;</th></tr>\n",
       "</thead>\n",
       "<tbody>\n",
       "\t<tr><td>Yes</td><td>1308</td></tr>\n",
       "\t<tr><td>No </td><td>1308</td></tr>\n",
       "</tbody>\n",
       "</table>\n"
      ],
      "text/latex": [
       "A tibble: 2 × 2\n",
       "\\begin{tabular}{ll}\n",
       " Churn & n\\\\\n",
       " <fct> & <int>\\\\\n",
       "\\hline\n",
       "\t Yes & 1308\\\\\n",
       "\t No  & 1308\\\\\n",
       "\\end{tabular}\n"
      ],
      "text/markdown": [
       "\n",
       "A tibble: 2 × 2\n",
       "\n",
       "| Churn &lt;fct&gt; | n &lt;int&gt; |\n",
       "|---|---|\n",
       "| Yes | 1308 |\n",
       "| No  | 1308 |\n",
       "\n"
      ],
      "text/plain": [
       "  Churn n   \n",
       "1 Yes   1308\n",
       "2 No    1308"
      ]
     },
     "metadata": {},
     "output_type": "display_data"
    }
   ],
   "source": [
    "library(themis)\n",
    "set.seed(678)\n",
    "RecipeChurn=recipe(Churn~., data=DataTrain) |>\n",
    "    step_dummy(Gender)|>\n",
    "    step_downsample(Churn,under_ratio = 1)\n",
    "\n",
    "DataTrainBal=RecipeChurn |>\n",
    "    prep() |>\n",
    "    juice()\n",
    "count(DataTrainBal, Churn)"
   ]
  },
  {
   "cell_type": "code",
   "execution_count": 269,
   "id": "ac6bc454",
   "metadata": {
    "vscode": {
     "languageId": "r"
    }
   },
   "outputs": [
    {
     "data": {
      "text/html": [
       "<table class=\"dataframe\">\n",
       "<caption>A tibble: 2 × 2</caption>\n",
       "<thead>\n",
       "\t<tr><th scope=col>Churn</th><th scope=col>n</th></tr>\n",
       "\t<tr><th scope=col>&lt;fct&gt;</th><th scope=col>&lt;int&gt;</th></tr>\n",
       "</thead>\n",
       "<tbody>\n",
       "\t<tr><td>Yes</td><td>3621</td></tr>\n",
       "\t<tr><td>No </td><td>3621</td></tr>\n",
       "</tbody>\n",
       "</table>\n"
      ],
      "text/latex": [
       "A tibble: 2 × 2\n",
       "\\begin{tabular}{ll}\n",
       " Churn & n\\\\\n",
       " <fct> & <int>\\\\\n",
       "\\hline\n",
       "\t Yes & 3621\\\\\n",
       "\t No  & 3621\\\\\n",
       "\\end{tabular}\n"
      ],
      "text/markdown": [
       "\n",
       "A tibble: 2 × 2\n",
       "\n",
       "| Churn &lt;fct&gt; | n &lt;int&gt; |\n",
       "|---|---|\n",
       "| Yes | 3621 |\n",
       "| No  | 3621 |\n",
       "\n"
      ],
      "text/plain": [
       "  Churn n   \n",
       "1 Yes   3621\n",
       "2 No    3621"
      ]
     },
     "metadata": {},
     "output_type": "display_data"
    }
   ],
   "source": [
    "set.seed(678)\n",
    "RecipeChurn=recipe(Churn~., data=DataTrain) |>\n",
    "    step_dummy(Gender)|>\n",
    "    step_upsample(Churn, over_ratio = 1)\n",
    "\n",
    "DataTrainBal=RecipeChurn |>\n",
    "    prep() |>\n",
    "    juice()\n",
    "count(DataTrainBal, Churn)\n"
   ]
  },
  {
   "cell_type": "code",
   "execution_count": 276,
   "id": "079e65e4",
   "metadata": {
    "vscode": {
     "languageId": "r"
    }
   },
   "outputs": [
    {
     "data": {
      "text/html": [
       "<table class=\"dataframe\">\n",
       "<caption>A tibble: 2 × 2</caption>\n",
       "<thead>\n",
       "\t<tr><th scope=col>Churn</th><th scope=col>n</th></tr>\n",
       "\t<tr><th scope=col>&lt;fct&gt;</th><th scope=col>&lt;int&gt;</th></tr>\n",
       "</thead>\n",
       "<tbody>\n",
       "\t<tr><td>Yes</td><td>3621</td></tr>\n",
       "\t<tr><td>No </td><td>3621</td></tr>\n",
       "</tbody>\n",
       "</table>\n"
      ],
      "text/latex": [
       "A tibble: 2 × 2\n",
       "\\begin{tabular}{ll}\n",
       " Churn & n\\\\\n",
       " <fct> & <int>\\\\\n",
       "\\hline\n",
       "\t Yes & 3621\\\\\n",
       "\t No  & 3621\\\\\n",
       "\\end{tabular}\n"
      ],
      "text/markdown": [
       "\n",
       "A tibble: 2 × 2\n",
       "\n",
       "| Churn &lt;fct&gt; | n &lt;int&gt; |\n",
       "|---|---|\n",
       "| Yes | 3621 |\n",
       "| No  | 3621 |\n",
       "\n"
      ],
      "text/plain": [
       "  Churn n   \n",
       "1 Yes   3621\n",
       "2 No    3621"
      ]
     },
     "metadata": {},
     "output_type": "display_data"
    }
   ],
   "source": [
    "RecipeChurn=recipe(Churn~., data=DataTrain) |>\n",
    "    step_dummy(Gender)|>\n",
    "    step_smote(Churn,over_ratio = 1)\n",
    "\n",
    "DataTrainBal=RecipeChurn |>\n",
    "    prep() |>\n",
    "    juice()\n",
    "count(DataTrainBal, Churn)"
   ]
  },
  {
   "cell_type": "code",
   "execution_count": 278,
   "id": "4e0225c3",
   "metadata": {
    "vscode": {
     "languageId": "r"
    }
   },
   "outputs": [
    {
     "data": {
      "text/html": [
       "<table class=\"dataframe\">\n",
       "<caption>A tibble: 2 × 2</caption>\n",
       "<thead>\n",
       "\t<tr><th scope=col>Churn</th><th scope=col>n</th></tr>\n",
       "\t<tr><th scope=col>&lt;fct&gt;</th><th scope=col>&lt;int&gt;</th></tr>\n",
       "</thead>\n",
       "<tbody>\n",
       "\t<tr><td>Yes</td><td>1962</td></tr>\n",
       "\t<tr><td>No </td><td>2616</td></tr>\n",
       "</tbody>\n",
       "</table>\n"
      ],
      "text/latex": [
       "A tibble: 2 × 2\n",
       "\\begin{tabular}{ll}\n",
       " Churn & n\\\\\n",
       " <fct> & <int>\\\\\n",
       "\\hline\n",
       "\t Yes & 1962\\\\\n",
       "\t No  & 2616\\\\\n",
       "\\end{tabular}\n"
      ],
      "text/markdown": [
       "\n",
       "A tibble: 2 × 2\n",
       "\n",
       "| Churn &lt;fct&gt; | n &lt;int&gt; |\n",
       "|---|---|\n",
       "| Yes | 1962 |\n",
       "| No  | 2616 |\n",
       "\n"
      ],
      "text/plain": [
       "  Churn n   \n",
       "1 Yes   1962\n",
       "2 No    2616"
      ]
     },
     "metadata": {},
     "output_type": "display_data"
    }
   ],
   "source": [
    "RecipeChurn=recipe(Churn~., data=DataTrain) |>\n",
    "  step_dummy(Gender)|>\n",
    "  step_downsample(Churn, under_ratio=2) |>\n",
    "  step_smote(Churn, over_ratio=0.75)\n",
    "\n",
    "DataTrainBal=RecipeChurn |>\n",
    "prep() |>\n",
    "juice()\n",
    "count(DataTrainBal, Churn)"
   ]
  },
  {
   "cell_type": "code",
   "execution_count": 283,
   "id": "be8a6ec3",
   "metadata": {
    "vscode": {
     "languageId": "r"
    }
   },
   "outputs": [
    {
     "name": "stdout",
     "output_type": "stream",
     "text": [
      "[1] \"Count for balanced training data:\"\n",
      "\u001b[90m# A tibble: 2 × 2\u001b[39m\n",
      "  Churn     n\n",
      "  \u001b[3m\u001b[90m<fct>\u001b[39m\u001b[23m \u001b[3m\u001b[90m<int>\u001b[39m\u001b[23m\n",
      "\u001b[90m1\u001b[39m Yes    \u001b[4m1\u001b[24m765\n",
      "\u001b[90m2\u001b[39m No     \u001b[4m1\u001b[24m962\n",
      "[1] \"*confusion matrix*\"\n",
      "          Truth\n",
      "Prediction  Yes   No\n",
      "       Yes  381  388\n",
      "       No   180 1165\n"
     ]
    },
    {
     "data": {
      "text/html": [
       "<table class=\"dataframe\">\n",
       "<caption>A tibble: 3 × 3</caption>\n",
       "<thead>\n",
       "\t<tr><th scope=col>.metric</th><th scope=col>.estimator</th><th scope=col>.estimate</th></tr>\n",
       "\t<tr><th scope=col>&lt;chr&gt;</th><th scope=col>&lt;chr&gt;</th><th scope=col>&lt;dbl&gt;</th></tr>\n",
       "</thead>\n",
       "<tbody>\n",
       "\t<tr><td>accuracy   </td><td>binary</td><td>0.7313150</td></tr>\n",
       "\t<tr><td>sensitivity</td><td>binary</td><td>0.6791444</td></tr>\n",
       "\t<tr><td>specificity</td><td>binary</td><td>0.7501610</td></tr>\n",
       "</tbody>\n",
       "</table>\n"
      ],
      "text/latex": [
       "A tibble: 3 × 3\n",
       "\\begin{tabular}{lll}\n",
       " .metric & .estimator & .estimate\\\\\n",
       " <chr> & <chr> & <dbl>\\\\\n",
       "\\hline\n",
       "\t accuracy    & binary & 0.7313150\\\\\n",
       "\t sensitivity & binary & 0.6791444\\\\\n",
       "\t specificity & binary & 0.7501610\\\\\n",
       "\\end{tabular}\n"
      ],
      "text/markdown": [
       "\n",
       "A tibble: 3 × 3\n",
       "\n",
       "| .metric &lt;chr&gt; | .estimator &lt;chr&gt; | .estimate &lt;dbl&gt; |\n",
       "|---|---|---|\n",
       "| accuracy    | binary | 0.7313150 |\n",
       "| sensitivity | binary | 0.6791444 |\n",
       "| specificity | binary | 0.7501610 |\n",
       "\n"
      ],
      "text/plain": [
       "  .metric     .estimator .estimate\n",
       "1 accuracy    binary     0.7313150\n",
       "2 sensitivity binary     0.6791444\n",
       "3 specificity binary     0.7501610"
      ]
     },
     "metadata": {},
     "output_type": "display_data"
    }
   ],
   "source": [
    "set.seed(789)\n",
    "RecipeChurn=recipe(Churn~., data=DataTrain) |>\n",
    "step_dummy(Gender)|>\n",
    "step_downsample(Churn, under_ratio=1.5) |>\n",
    "step_smote(Churn, over_ratio=.9)\n",
    "# Model Design\n",
    "ModelDesignLogisticRegr=logistic_reg() |>\n",
    "set_engine(\"glm\")|>\n",
    "set_mode(\"classification\")\n",
    "# Building Fitting Workflow\n",
    "WFModelChurn=workflow() |>\n",
    "add_recipe(RecipeChurn) |>\n",
    "add_model(ModelDesignLogisticRegr) |>\n",
    "fit(DataTrain)\n",
    "# Prediction with augment()\n",
    "DataTestWithPred=augment(WFModelChurn, new_data=DataTest)\n",
    "# Printing counts for traingdata after down- and upsampling\n",
    "DataTrainBal=RecipeChurn |>\n",
    "prep() |>\n",
    "juice( )\n",
    "print(\"Count for balanced training data:\")\n",
    "print(count(DataTrainBal,Churn))\n",
    "# Creating Metrics Based on DataTest\n",
    "ConfMatrix=conf_mat(DataTestWithPred,truth=Churn, estimate=.pred_class)\n",
    "print(\"*confusion matrix*\")\n",
    "print(ConfMatrix)\n",
    "FctMetricsSet=metric_set(accuracy, sensitivity, specificity)\n",
    "FctMetricsSet(DataTestWithPred, truth=Churn, estimate=.pred_class)\n"
   ]
  },
  {
   "cell_type": "code",
   "execution_count": 287,
   "id": "8d54464b",
   "metadata": {
    "vscode": {
     "languageId": "r"
    }
   },
   "outputs": [
    {
     "name": "stderr",
     "output_type": "stream",
     "text": [
      "Installing package into 'C:/Users/Nasim/AppData/Local/R/win-library/4.4'\n",
      "(as 'lib' is unspecified)\n",
      "\n"
     ]
    },
    {
     "name": "stdout",
     "output_type": "stream",
     "text": [
      "package 'torch' successfully unpacked and MD5 sums checked\n",
      "\n",
      "The downloaded binary packages are in\n",
      "\tC:\\Users\\Nasim\\AppData\\Local\\Temp\\RtmpEbR4Wj\\downloaded_packages\n"
     ]
    },
    {
     "name": "stderr",
     "output_type": "stream",
     "text": [
      "Warning message:\n",
      "\"package 'torch' was built under R version 4.4.3\"\n",
      "\u001b[36mℹ\u001b[39m Additional software needs to be \u001b[1m\u001b[1mdownloaded\u001b[1m\u001b[22m and \u001b[1m\u001b[1minstalled\u001b[1m\u001b[22m for torch to work correctly.\n",
      "\n",
      "Warning message in file.copy(from = dir(url, full.names = TRUE), to = file.path(inst_path, :\n",
      "\"problem copying C:\\Users\\Nasim\\AppData\\Local\\Temp\\RtmpEbR4Wj\\file20686e6a30bf\\libtorch\\lib\\fbgemm.dll to C:\\Users\\Nasim\\AppData\\Local\\R\\win-library\\4.4\\torch\\lib\\fbgemm.dll: No space left on device\"\n",
      "Warning message in file.copy(from = dir(url, full.names = TRUE), to = file.path(inst_path, :\n",
      "\"problem copying C:\\Users\\Nasim\\AppData\\Local\\Temp\\RtmpEbR4Wj\\file20686e6a30bf\\libtorch\\lib\\fbgemm.lib to C:\\Users\\Nasim\\AppData\\Local\\R\\win-library\\4.4\\torch\\lib\\fbgemm.lib: No space left on device\"\n",
      "Warning message in file.copy(from = dir(url, full.names = TRUE), to = file.path(inst_path, :\n",
      "\"problem copying C:\\Users\\Nasim\\AppData\\Local\\Temp\\RtmpEbR4Wj\\file20686e6a30bf\\libtorch\\lib\\fmt.lib to C:\\Users\\Nasim\\AppData\\Local\\R\\win-library\\4.4\\torch\\lib\\fmt.lib: No space left on device\"\n",
      "Warning message in file.copy(from = dir(url, full.names = TRUE), to = file.path(inst_path, :\n",
      "\"problem copying C:\\Users\\Nasim\\AppData\\Local\\Temp\\RtmpEbR4Wj\\file20686e6a30bf\\libtorch\\lib\\kineto.lib to C:\\Users\\Nasim\\AppData\\Local\\R\\win-library\\4.4\\torch\\lib\\kineto.lib: No space left on device\"\n",
      "Warning message in file.copy(from = dir(url, full.names = TRUE), to = file.path(inst_path, :\n",
      "\"problem copying C:\\Users\\Nasim\\AppData\\Local\\Temp\\RtmpEbR4Wj\\file20686e6a30bf\\libtorch\\lib\\libiomp5md.dll to C:\\Users\\Nasim\\AppData\\Local\\R\\win-library\\4.4\\torch\\lib\\libiomp5md.dll: No space left on device\"\n",
      "Warning message in file.copy(from = dir(url, full.names = TRUE), to = file.path(inst_path, :\n",
      "\"problem copying C:\\Users\\Nasim\\AppData\\Local\\Temp\\RtmpEbR4Wj\\file20686e6a30bf\\libtorch\\lib\\libiompstubs5md.dll to C:\\Users\\Nasim\\AppData\\Local\\R\\win-library\\4.4\\torch\\lib\\libiompstubs5md.dll: No space left on device\"\n",
      "Warning message in file.copy(from = dir(url, full.names = TRUE), to = file.path(inst_path, :\n",
      "\"problem copying C:\\Users\\Nasim\\AppData\\Local\\Temp\\RtmpEbR4Wj\\file20686e6a30bf\\libtorch\\lib\\libprotobuf-lite.lib to C:\\Users\\Nasim\\AppData\\Local\\R\\win-library\\4.4\\torch\\lib\\libprotobuf-lite.lib: No space left on device\"\n",
      "Warning message in file.copy(from = dir(url, full.names = TRUE), to = file.path(inst_path, :\n",
      "\"problem copying C:\\Users\\Nasim\\AppData\\Local\\Temp\\RtmpEbR4Wj\\file20686e6a30bf\\libtorch\\lib\\libprotobuf.lib to C:\\Users\\Nasim\\AppData\\Local\\R\\win-library\\4.4\\torch\\lib\\libprotobuf.lib: No space left on device\"\n",
      "Warning message in file.copy(from = dir(url, full.names = TRUE), to = file.path(inst_path, :\n",
      "\"problem copying C:\\Users\\Nasim\\AppData\\Local\\Temp\\RtmpEbR4Wj\\file20686e6a30bf\\libtorch\\lib\\libprotoc.lib to C:\\Users\\Nasim\\AppData\\Local\\R\\win-library\\4.4\\torch\\lib\\libprotoc.lib: No space left on device\"\n",
      "Warning message in file.copy(from = dir(url, full.names = TRUE), to = file.path(inst_path, :\n",
      "\"problem copying C:\\Users\\Nasim\\AppData\\Local\\Temp\\RtmpEbR4Wj\\file20686e6a30bf\\libtorch\\lib\\microkernels-prod.lib to C:\\Users\\Nasim\\AppData\\Local\\R\\win-library\\4.4\\torch\\lib\\microkernels-prod.lib: No space left on device\"\n",
      "Warning message in file.copy(from = dir(url, full.names = TRUE), to = file.path(inst_path, :\n",
      "\"problem copying C:\\Users\\Nasim\\AppData\\Local\\Temp\\RtmpEbR4Wj\\file20686e6a30bf\\libtorch\\lib\\pthreadpool.lib to C:\\Users\\Nasim\\AppData\\Local\\R\\win-library\\4.4\\torch\\lib\\pthreadpool.lib: No space left on device\"\n",
      "Warning message in file.copy(from = dir(url, full.names = TRUE), to = file.path(inst_path, :\n",
      "\"problem copying C:\\Users\\Nasim\\AppData\\Local\\Temp\\RtmpEbR4Wj\\file20686e6a30bf\\libtorch\\lib\\sleef.lib to C:\\Users\\Nasim\\AppData\\Local\\R\\win-library\\4.4\\torch\\lib\\sleef.lib: No space left on device\"\n",
      "Warning message in file.copy(from = dir(url, full.names = TRUE), to = file.path(inst_path, :\n",
      "\"problem copying C:\\Users\\Nasim\\AppData\\Local\\Temp\\RtmpEbR4Wj\\file20686e6a30bf\\libtorch\\lib\\torch.dll to C:\\Users\\Nasim\\AppData\\Local\\R\\win-library\\4.4\\torch\\lib\\torch.dll: No space left on device\"\n",
      "Warning message in file.copy(from = dir(url, full.names = TRUE), to = file.path(inst_path, :\n",
      "\"problem copying C:\\Users\\Nasim\\AppData\\Local\\Temp\\RtmpEbR4Wj\\file20686e6a30bf\\libtorch\\lib\\torch.lib to C:\\Users\\Nasim\\AppData\\Local\\R\\win-library\\4.4\\torch\\lib\\torch.lib: No space left on device\"\n",
      "Warning message in file.copy(from = dir(url, full.names = TRUE), to = file.path(inst_path, :\n",
      "\"problem copying C:\\Users\\Nasim\\AppData\\Local\\Temp\\RtmpEbR4Wj\\file20686e6a30bf\\libtorch\\lib\\torch_cpu.dll to C:\\Users\\Nasim\\AppData\\Local\\R\\win-library\\4.4\\torch\\lib\\torch_cpu.dll: No space left on device\"\n",
      "Warning message in file.copy(from = dir(url, full.names = TRUE), to = file.path(inst_path, :\n",
      "\"problem copying C:\\Users\\Nasim\\AppData\\Local\\Temp\\RtmpEbR4Wj\\file20686e6a30bf\\libtorch\\lib\\torch_cpu.lib to C:\\Users\\Nasim\\AppData\\Local\\R\\win-library\\4.4\\torch\\lib\\torch_cpu.lib: No space left on device\"\n",
      "Warning message in file.copy(from = dir(url, full.names = TRUE), to = file.path(inst_path, :\n",
      "\"problem copying C:\\Users\\Nasim\\AppData\\Local\\Temp\\RtmpEbR4Wj\\file20686e6a30bf\\libtorch\\lib\\torch_global_deps.dll to C:\\Users\\Nasim\\AppData\\Local\\R\\win-library\\4.4\\torch\\lib\\torch_global_deps.dll: No space left on device\"\n",
      "Warning message in file.copy(from = dir(url, full.names = TRUE), to = file.path(inst_path, :\n",
      "\"problem copying C:\\Users\\Nasim\\AppData\\Local\\Temp\\RtmpEbR4Wj\\file20686e6a30bf\\libtorch\\lib\\uv.dll to C:\\Users\\Nasim\\AppData\\Local\\R\\win-library\\4.4\\torch\\lib\\uv.dll: No space left on device\"\n",
      "Warning message in file.copy(from = dir(url, full.names = TRUE), to = file.path(inst_path, :\n",
      "\"problem copying C:\\Users\\Nasim\\AppData\\Local\\Temp\\RtmpEbR4Wj\\file20686e6a30bf\\libtorch\\lib\\XNNPACK.lib to C:\\Users\\Nasim\\AppData\\Local\\R\\win-library\\4.4\\torch\\lib\\XNNPACK.lib: No space left on device\"\n",
      "Warning message in file.copy(from = dir(url, full.names = TRUE), to = file.path(inst_path, :\n",
      "\"problem copying C:\\Users\\Nasim\\AppData\\Local\\Temp\\RtmpEbR4Wj\\file20686e6a30bf\\libtorch\\share\\cmake\\Caffe2\\Caffe2Targets.cmake to C:\\Users\\Nasim\\AppData\\Local\\R\\win-library\\4.4\\torch\\share\\cmake\\Caffe2\\Caffe2Targets.cmake: No space left on device\"\n",
      "Warning message in file.copy(from = dir(url, full.names = TRUE), to = file.path(inst_path, :\n",
      "\"problem copying C:\\Users\\Nasim\\AppData\\Local\\Temp\\RtmpEbR4Wj\\file20686e6a30bf\\libtorch\\share\\cmake\\Caffe2\\FindCUDAToolkit.cmake to C:\\Users\\Nasim\\AppData\\Local\\R\\win-library\\4.4\\torch\\share\\cmake\\Caffe2\\FindCUDAToolkit.cmake: No space left on device\"\n",
      "Warning message in file.copy(from = dir(url, full.names = TRUE), to = file.path(inst_path, :\n",
      "\"problem copying C:\\Users\\Nasim\\AppData\\Local\\Temp\\RtmpEbR4Wj\\file20686e6a30bf\\libtorch\\share\\cmake\\Caffe2\\FindCUDSS.cmake to C:\\Users\\Nasim\\AppData\\Local\\R\\win-library\\4.4\\torch\\share\\cmake\\Caffe2\\FindCUDSS.cmake: No space left on device\"\n",
      "Warning message in file.copy(from = dir(url, full.names = TRUE), to = file.path(inst_path, :\n",
      "\"problem copying C:\\Users\\Nasim\\AppData\\Local\\Temp\\RtmpEbR4Wj\\file20686e6a30bf\\libtorch\\share\\cmake\\Caffe2\\FindCUSPARSELT.cmake to C:\\Users\\Nasim\\AppData\\Local\\R\\win-library\\4.4\\torch\\share\\cmake\\Caffe2\\FindCUSPARSELT.cmake: No space left on device\"\n",
      "Warning message in file.copy(from = dir(url, full.names = TRUE), to = file.path(inst_path, :\n",
      "\"problem copying C:\\Users\\Nasim\\AppData\\Local\\Temp\\RtmpEbR4Wj\\file20686e6a30bf\\libtorch\\share\\cmake\\Caffe2\\FindSYCLToolkit.cmake to C:\\Users\\Nasim\\AppData\\Local\\R\\win-library\\4.4\\torch\\share\\cmake\\Caffe2\\FindSYCLToolkit.cmake: No space left on device\"\n",
      "Warning message in file.copy(from = dir(url, full.names = TRUE), to = file.path(inst_path, :\n",
      "\"problem creating directory C:\\Users\\Nasim\\AppData\\Local\\R\\win-library\\4.4\\torch\\share\\cmake\\Caffe2\\Modules_CUDA_fix: No space left on device\"\n",
      "Warning message in file.copy(from = dir(url, full.names = TRUE), to = file.path(inst_path, :\n",
      "\"problem copying C:\\Users\\Nasim\\AppData\\Local\\Temp\\RtmpEbR4Wj\\file20686e6a30bf\\libtorch\\share\\cmake\\Caffe2\\public\\LoadHIP.cmake to C:\\Users\\Nasim\\AppData\\Local\\R\\win-library\\4.4\\torch\\share\\cmake\\Caffe2\\public\\LoadHIP.cmake: No space left on device\"\n",
      "Warning message in file.copy(from = dir(url, full.names = TRUE), to = file.path(inst_path, :\n",
      "\"problem copying C:\\Users\\Nasim\\AppData\\Local\\Temp\\RtmpEbR4Wj\\file20686e6a30bf\\libtorch\\share\\cmake\\Caffe2\\public\\mkl.cmake to C:\\Users\\Nasim\\AppData\\Local\\R\\win-library\\4.4\\torch\\share\\cmake\\Caffe2\\public\\mkl.cmake: No space left on device\"\n",
      "Warning message in file.copy(from = dir(url, full.names = TRUE), to = file.path(inst_path, :\n",
      "\"problem copying C:\\Users\\Nasim\\AppData\\Local\\Temp\\RtmpEbR4Wj\\file20686e6a30bf\\libtorch\\share\\cmake\\Caffe2\\public\\mkldnn.cmake to C:\\Users\\Nasim\\AppData\\Local\\R\\win-library\\4.4\\torch\\share\\cmake\\Caffe2\\public\\mkldnn.cmake: No space left on device\"\n",
      "Warning message in file.copy(from = dir(url, full.names = TRUE), to = file.path(inst_path, :\n",
      "\"problem copying C:\\Users\\Nasim\\AppData\\Local\\Temp\\RtmpEbR4Wj\\file20686e6a30bf\\libtorch\\share\\cmake\\Caffe2\\public\\protobuf.cmake to C:\\Users\\Nasim\\AppData\\Local\\R\\win-library\\4.4\\torch\\share\\cmake\\Caffe2\\public\\protobuf.cmake: No space left on device\"\n",
      "Warning message in file.copy(from = dir(url, full.names = TRUE), to = file.path(inst_path, :\n",
      "\"problem copying C:\\Users\\Nasim\\AppData\\Local\\Temp\\RtmpEbR4Wj\\file20686e6a30bf\\libtorch\\share\\cmake\\Caffe2\\public\\utils.cmake to C:\\Users\\Nasim\\AppData\\Local\\R\\win-library\\4.4\\torch\\share\\cmake\\Caffe2\\public\\utils.cmake: No space left on device\"\n",
      "Warning message in file.copy(from = dir(url, full.names = TRUE), to = file.path(inst_path, :\n",
      "\"problem copying C:\\Users\\Nasim\\AppData\\Local\\Temp\\RtmpEbR4Wj\\file20686e6a30bf\\libtorch\\share\\cmake\\Caffe2\\public\\xpu.cmake to C:\\Users\\Nasim\\AppData\\Local\\R\\win-library\\4.4\\torch\\share\\cmake\\Caffe2\\public\\xpu.cmake: No space left on device\"\n",
      "Warning message in file.copy(from = dir(url, full.names = TRUE), to = file.path(inst_path, :\n",
      "\"problem copying C:\\Users\\Nasim\\AppData\\Local\\Temp\\RtmpEbR4Wj\\file20686e6a30bf\\libtorch\\share\\cpuinfo\\cpuinfo-targets.cmake to C:\\Users\\Nasim\\AppData\\Local\\R\\win-library\\4.4\\torch\\share\\cpuinfo\\cpuinfo-targets.cmake: No space left on device\"\n",
      "Warning message:\n",
      "\"\u001b[1m\u001b[22m\u001b[36mℹ\u001b[39m Failed to install torch, manually run `install_torch()`\n",
      "\u001b[31m✖\u001b[39m Installation failed.\n",
      "Caused by error in `install_lib()`:\n",
      "\u001b[1m\u001b[22m\u001b[33m!\u001b[39m Installation failed.\"\n",
      "Installing package into 'C:/Users/Nasim/AppData/Local/R/win-library/4.4'\n",
      "(as 'lib' is unspecified)\n",
      "\n"
     ]
    },
    {
     "name": "stdout",
     "output_type": "stream",
     "text": [
      "package 'brulee' successfully unpacked and MD5 sums checked\n",
      "\n",
      "The downloaded binary packages are in\n",
      "\tC:\\Users\\Nasim\\AppData\\Local\\Temp\\RtmpEbR4Wj\\downloaded_packages\n"
     ]
    },
    {
     "name": "stderr",
     "output_type": "stream",
     "text": [
      "Warning message:\n",
      "\"package 'brulee' was built under R version 4.4.3\"\n"
     ]
    }
   ],
   "source": [
    "library(nnet)\n",
    "install.packages(\"torch\")\n",
    "library(torch)\n",
    "install.packages(\"brulee\")\n",
    "library(brulee)"
   ]
  },
  {
   "cell_type": "code",
   "execution_count": 288,
   "id": "ff122a15",
   "metadata": {
    "vscode": {
     "languageId": "r"
    }
   },
   "outputs": [
    {
     "name": "stdout",
     "output_type": "stream",
     "text": [
      "tibble [53,940 × 5] (S3: tbl_df/tbl/data.frame)\n",
      " $ Price  : int [1:53940] 326 326 327 334 335 336 336 337 337 338 ...\n",
      " $ Carat  : num [1:53940] 0.23 0.21 0.23 0.29 0.31 0.24 0.24 0.26 0.22 0.23 ...\n",
      " $ Clarity: Ord.factor w/ 8 levels \"I1\"<\"SI2\"<\"SI1\"<..: 2 3 5 4 2 6 7 3 4 5 ...\n",
      " $ Cut    : Ord.factor w/ 5 levels \"Fair\"<\"Good\"<..: 5 4 2 4 2 3 3 3 1 3 ...\n",
      " $ Color  : Ord.factor w/ 7 levels \"D\"<\"E\"<\"F\"<\"G\"<..: 2 2 2 6 7 7 6 5 2 5 ...\n"
     ]
    }
   ],
   "source": [
    "DataDiamonds= diamonds |>\n",
    "clean_names(\"upper_camel\") |>\n",
    "select(Price, Carat, Clarity, Cut, Color)\n",
    "str(DataDiamonds)"
   ]
  },
  {
   "cell_type": "code",
   "execution_count": 290,
   "id": "1fbdc8b0",
   "metadata": {
    "vscode": {
     "languageId": "r"
    }
   },
   "outputs": [
    {
     "data": {
      "text/html": [
       "<table class=\"dataframe\">\n",
       "<caption>A tibble: 6 × 5</caption>\n",
       "<thead>\n",
       "\t<tr><th scope=col>Price</th><th scope=col>Carat</th><th scope=col>Clarity</th><th scope=col>Cut</th><th scope=col>Color</th></tr>\n",
       "\t<tr><th scope=col>&lt;int&gt;</th><th scope=col>&lt;dbl&gt;</th><th scope=col>&lt;int&gt;</th><th scope=col>&lt;int&gt;</th><th scope=col>&lt;int&gt;</th></tr>\n",
       "</thead>\n",
       "<tbody>\n",
       "\t<tr><td>326</td><td>0.23</td><td>2</td><td>5</td><td>2</td></tr>\n",
       "\t<tr><td>326</td><td>0.21</td><td>3</td><td>4</td><td>2</td></tr>\n",
       "\t<tr><td>327</td><td>0.23</td><td>5</td><td>2</td><td>2</td></tr>\n",
       "\t<tr><td>334</td><td>0.29</td><td>4</td><td>4</td><td>6</td></tr>\n",
       "\t<tr><td>335</td><td>0.31</td><td>2</td><td>2</td><td>7</td></tr>\n",
       "\t<tr><td>336</td><td>0.24</td><td>6</td><td>3</td><td>7</td></tr>\n",
       "</tbody>\n",
       "</table>\n"
      ],
      "text/latex": [
       "A tibble: 6 × 5\n",
       "\\begin{tabular}{lllll}\n",
       " Price & Carat & Clarity & Cut & Color\\\\\n",
       " <int> & <dbl> & <int> & <int> & <int>\\\\\n",
       "\\hline\n",
       "\t 326 & 0.23 & 2 & 5 & 2\\\\\n",
       "\t 326 & 0.21 & 3 & 4 & 2\\\\\n",
       "\t 327 & 0.23 & 5 & 2 & 2\\\\\n",
       "\t 334 & 0.29 & 4 & 4 & 6\\\\\n",
       "\t 335 & 0.31 & 2 & 2 & 7\\\\\n",
       "\t 336 & 0.24 & 6 & 3 & 7\\\\\n",
       "\\end{tabular}\n"
      ],
      "text/markdown": [
       "\n",
       "A tibble: 6 × 5\n",
       "\n",
       "| Price &lt;int&gt; | Carat &lt;dbl&gt; | Clarity &lt;int&gt; | Cut &lt;int&gt; | Color &lt;int&gt; |\n",
       "|---|---|---|---|---|\n",
       "| 326 | 0.23 | 2 | 5 | 2 |\n",
       "| 326 | 0.21 | 3 | 4 | 2 |\n",
       "| 327 | 0.23 | 5 | 2 | 2 |\n",
       "| 334 | 0.29 | 4 | 4 | 6 |\n",
       "| 335 | 0.31 | 2 | 2 | 7 |\n",
       "| 336 | 0.24 | 6 | 3 | 7 |\n",
       "\n"
      ],
      "text/plain": [
       "  Price Carat Clarity Cut Color\n",
       "1 326   0.23  2       5   2    \n",
       "2 326   0.21  3       4   2    \n",
       "3 327   0.23  5       2   2    \n",
       "4 334   0.29  4       4   6    \n",
       "5 335   0.31  2       2   7    \n",
       "6 336   0.24  6       3   7    "
      ]
     },
     "metadata": {},
     "output_type": "display_data"
    },
    {
     "name": "stdout",
     "output_type": "stream",
     "text": [
      "tibble [53,940 × 5] (S3: tbl_df/tbl/data.frame)\n",
      " $ Price  : int [1:53940] 326 326 327 334 335 336 336 337 337 338 ...\n",
      " $ Carat  : num [1:53940] 0.23 0.21 0.23 0.29 0.31 0.24 0.24 0.26 0.22 0.23 ...\n",
      " $ Clarity: int [1:53940] 2 3 5 4 2 6 7 3 4 5 ...\n",
      " $ Cut    : int [1:53940] 5 4 2 4 2 3 3 3 1 3 ...\n",
      " $ Color  : int [1:53940] 2 2 2 6 7 7 6 5 2 5 ...\n"
     ]
    }
   ],
   "source": [
    "DataDiamonds=DataDiamonds |>\n",
    "mutate(Clarity=as.integer(Clarity)) |>\n",
    "mutate(Cut=as.integer(Cut)) |>\n",
    "mutate(Color=as.integer(Color))\n",
    "head(DataDiamonds)\n",
    "\n",
    "str(DataDiamonds)"
   ]
  },
  {
   "attachments": {
    "image.png": {
     "image/png": "[encoded data removed]"
    }
   },
   "cell_type": "markdown",
   "id": "89fc1c1f",
   "metadata": {},
   "source": [
    "![image.png](attachment:image.png)"
   ]
  },
  {
   "cell_type": "code",
   "execution_count": 291,
   "id": "dc908090",
   "metadata": {
    "vscode": {
     "languageId": "r"
    }
   },
   "outputs": [],
   "source": [
    "set.seed(777)\n",
    "DataDiamonds=diamonds |>\n",
    "clean_names(\"upper_camel\") |>\n",
    "select(Price, Carat, Clarity) |>\n",
    "mutate(Clarity=as.numeric(Clarity)) |>\n",
    "sample_n(500)\n",
    "Split005= initial_split(DataDiamonds, prop=0.05)\n",
    "DataTrain=training(Split005)\n",
    "DataTest=testing(Split005)"
   ]
  },
  {
   "cell_type": "code",
   "execution_count": 292,
   "id": "26b3fad0",
   "metadata": {
    "vscode": {
     "languageId": "r"
    }
   },
   "outputs": [],
   "source": [
    "RecipeDiamonds=recipe(Price~., data=DataTrain) |>\n",
    "step_normalize(all_predictors())"
   ]
  },
  {
   "cell_type": "code",
   "execution_count": 299,
   "id": "e636a0bc",
   "metadata": {
    "vscode": {
     "languageId": "r"
    }
   },
   "outputs": [],
   "source": [
    "ModelDesignNN= mlp(hidden_units=50, epochs=10000, penalty=0) |>\n",
    "set_engine(\"nnet\") |>\n",
    "set_mode(\"regression\")"
   ]
  },
  {
   "cell_type": "code",
   "execution_count": 300,
   "id": "0db5a78e",
   "metadata": {
    "vscode": {
     "languageId": "r"
    }
   },
   "outputs": [],
   "source": [
    "WFModelNN=workflow() |>\n",
    "add_model(ModelDesignNN) |>\n",
    "add_recipe(RecipeDiamonds) |>\n",
    "fit(DataTrain)"
   ]
  },
  {
   "cell_type": "code",
   "execution_count": 301,
   "id": "0bdbb9eb",
   "metadata": {
    "vscode": {
     "languageId": "r"
    }
   },
   "outputs": [
    {
     "data": {
      "text/html": [
       "<table class=\"dataframe\">\n",
       "<caption>A tibble: 3 × 3</caption>\n",
       "<thead>\n",
       "\t<tr><th scope=col>.metric</th><th scope=col>.estimator</th><th scope=col>.estimate</th></tr>\n",
       "\t<tr><th scope=col>&lt;chr&gt;</th><th scope=col>&lt;chr&gt;</th><th scope=col>&lt;dbl&gt;</th></tr>\n",
       "</thead>\n",
       "<tbody>\n",
       "\t<tr><td>rmse</td><td>standard</td><td>52.9668451</td></tr>\n",
       "\t<tr><td>rsq </td><td>standard</td><td> 0.9997113</td></tr>\n",
       "\t<tr><td>mae </td><td>standard</td><td>18.8673970</td></tr>\n",
       "</tbody>\n",
       "</table>\n"
      ],
      "text/latex": [
       "A tibble: 3 × 3\n",
       "\\begin{tabular}{lll}\n",
       " .metric & .estimator & .estimate\\\\\n",
       " <chr> & <chr> & <dbl>\\\\\n",
       "\\hline\n",
       "\t rmse & standard & 52.9668451\\\\\n",
       "\t rsq  & standard &  0.9997113\\\\\n",
       "\t mae  & standard & 18.8673970\\\\\n",
       "\\end{tabular}\n"
      ],
      "text/markdown": [
       "\n",
       "A tibble: 3 × 3\n",
       "\n",
       "| .metric &lt;chr&gt; | .estimator &lt;chr&gt; | .estimate &lt;dbl&gt; |\n",
       "|---|---|---|\n",
       "| rmse | standard | 52.9668451 |\n",
       "| rsq  | standard |  0.9997113 |\n",
       "| mae  | standard | 18.8673970 |\n",
       "\n"
      ],
      "text/plain": [
       "  .metric .estimator .estimate \n",
       "1 rmse    standard   52.9668451\n",
       "2 rsq     standard    0.9997113\n",
       "3 mae     standard   18.8673970"
      ]
     },
     "metadata": {},
     "output_type": "display_data"
    }
   ],
   "source": [
    "DataTrainWithPredNN=augment(WFModelNN, new_data=DataTrain)\n",
    "metrics(DataTrainWithPredNN, truth=Price, estimate=.pred)"
   ]
  },
  {
   "cell_type": "code",
   "execution_count": 302,
   "id": "746c83ef",
   "metadata": {
    "vscode": {
     "languageId": "r"
    }
   },
   "outputs": [
    {
     "data": {
      "text/html": [
       "<table class=\"dataframe\">\n",
       "<caption>A tibble: 3 × 3</caption>\n",
       "<thead>\n",
       "\t<tr><th scope=col>.metric</th><th scope=col>.estimator</th><th scope=col>.estimate</th></tr>\n",
       "\t<tr><th scope=col>&lt;chr&gt;</th><th scope=col>&lt;chr&gt;</th><th scope=col>&lt;dbl&gt;</th></tr>\n",
       "</thead>\n",
       "<tbody>\n",
       "\t<tr><td>rmse</td><td>standard</td><td>1395.7589915</td></tr>\n",
       "\t<tr><td>rsq </td><td>standard</td><td>   0.8951433</td></tr>\n",
       "\t<tr><td>mae </td><td>standard</td><td> 883.8321666</td></tr>\n",
       "</tbody>\n",
       "</table>\n"
      ],
      "text/latex": [
       "A tibble: 3 × 3\n",
       "\\begin{tabular}{lll}\n",
       " .metric & .estimator & .estimate\\\\\n",
       " <chr> & <chr> & <dbl>\\\\\n",
       "\\hline\n",
       "\t rmse & standard & 1395.7589915\\\\\n",
       "\t rsq  & standard &    0.8951433\\\\\n",
       "\t mae  & standard &  883.8321666\\\\\n",
       "\\end{tabular}\n"
      ],
      "text/markdown": [
       "\n",
       "A tibble: 3 × 3\n",
       "\n",
       "| .metric &lt;chr&gt; | .estimator &lt;chr&gt; | .estimate &lt;dbl&gt; |\n",
       "|---|---|---|\n",
       "| rmse | standard | 1395.7589915 |\n",
       "| rsq  | standard |    0.8951433 |\n",
       "| mae  | standard |  883.8321666 |\n",
       "\n"
      ],
      "text/plain": [
       "  .metric .estimator .estimate   \n",
       "1 rmse    standard   1395.7589915\n",
       "2 rsq     standard      0.8951433\n",
       "3 mae     standard    883.8321666"
      ]
     },
     "metadata": {},
     "output_type": "display_data"
    }
   ],
   "source": [
    "DataTestWithPredNN=augment(WFModelNN, new_data=DataTest)\n",
    "metrics(DataTestWithPredNN, truth=Price, estimate=.pred)"
   ]
  },
  {
   "cell_type": "code",
   "execution_count": 304,
   "id": "526b1454",
   "metadata": {
    "vscode": {
     "languageId": "r"
    }
   },
   "outputs": [],
   "source": [
    "library(tidymodels); library(janitor); library(brulee)\n",
    "set.seed(888)\n",
    "DataDiamonds=sample_n(diamonds, 500) |>\n",
    "clean_names(\"upper_camel\") |>\n",
    "select(Price, Carat, Cut, Color, Clarity) |>\n",
    "mutate(Cut=as.integer(Cut), Color=as.integer(Color),\n",
    "Clarity=as.integer(Clarity))\n",
    "set.seed(888)\n",
    "Split70=initial_split(DataDiamonds, prop=0.7, strata=Price, breaks=5)\n",
    "DataTrain=training(Split70)\n",
    "DataTest=testing(Split70)"
   ]
  },
  {
   "cell_type": "code",
   "execution_count": 305,
   "id": "6519e4fd",
   "metadata": {
    "vscode": {
     "languageId": "r"
    }
   },
   "outputs": [],
   "source": [
    "RecipeDiamonds=recipe(Price~., data=DataTrain) |>\n",
    "step_normalize(all_predictors())"
   ]
  },
  {
   "cell_type": "code",
   "execution_count": 306,
   "id": "3a8ab530",
   "metadata": {
    "vscode": {
     "languageId": "r"
    }
   },
   "outputs": [],
   "source": [
    "# Neural Network Model Design with fallback option\n",
    "\n",
    "# Try brulee first (requires torch)\n",
    "if (requireNamespace(\"brulee\", quietly = TRUE) && torch::torch_is_installed()) {\n",
    "  print(\"Using brulee engine (torch-based)\")\n",
    "  ModelDesignNN <- mlp(hidden_units = tune(), dropout = tune(),\n",
    "                       epochs = 100, penalty = 0) |>\n",
    "    set_engine(\"brulee\") |>\n",
    "    set_mode(\"regression\")\n",
    "} else {\n",
    "  print(\"Using nnet engine (fallback)\")\n",
    "  ModelDesignNN <- mlp(hidden_units = tune(), penalty = tune(), \n",
    "                       epochs = 100) |>\n",
    "    set_engine(\"nnet\") |>\n",
    "    set_mode(\"regression\")\n",
    "}\n",
    "\n",
    "print(ModelDesignNN)"
   ]
  },
  {
   "cell_type": "code",
   "execution_count": 307,
   "id": "61067f03",
   "metadata": {
    "vscode": {
     "languageId": "r"
    }
   },
   "outputs": [],
   "source": [
    "TuneWFModelNN=workflow() |>\n",
    "add_model(ModelDesignNN) |>\n",
    "add_recipe(RecipeDiamonds)"
   ]
  },
  {
   "cell_type": "code",
   "execution_count": null,
   "id": "857a2a10",
   "metadata": {
    "vscode": {
     "languageId": "r"
    }
   },
   "outputs": [
    {
     "name": "stderr",
     "output_type": "stream",
     "text": [
      "→ \u001b[31m\u001b[1mA\u001b[22m\u001b[39m | \u001b[31merror\u001b[39m:   Lantern is not loaded. Please use `install_torch()` to install additional dependencies.\n",
      "\n",
      "There were issues with some computations   \u001b[1m\u001b[31mA\u001b[39m\u001b[22m: x1\n",
      "\n",
      "There were issues with some computations   \u001b[1m\u001b[31mA\u001b[39m\u001b[22m: x42\n",
      "\n",
      "\n",
      "\n",
      "Warning message:\n",
      "\"All models failed. Run `show_notes(.Last.tune.result)` for more information.\"\n"
     ]
    },
    {
     "ename": "ERROR",
     "evalue": "\u001b[1m\u001b[33mError\u001b[39m in `select_best()`:\u001b[22m\n\u001b[1m\u001b[22m\u001b[33m!\u001b[39m `...` must be empty.\n\u001b[31m✖\u001b[39m Problematic argument:\n\u001b[36m•\u001b[39m ..1 = \"rmse\"\n\u001b[36mℹ\u001b[39m Did you forget to name an argument?\n",
     "output_type": "error",
     "traceback": [
      "\u001b[1m\u001b[33mError\u001b[39m in `select_best()`:\u001b[22m\n\u001b[1m\u001b[22m\u001b[33m!\u001b[39m `...` must be empty.\n\u001b[31m✖\u001b[39m Problematic argument:\n\u001b[36m•\u001b[39m ..1 = \"rmse\"\n\u001b[36mℹ\u001b[39m Did you forget to name an argument?\nTraceback:\n",
      "1. select_best.tune_results(TuneResultsNN, \"rmse\")",
      "2. rlang::check_dots_empty()",
      "3. action_dots(error = error, action = action, message = \"`...` must be empty.\", \n .     note = note, dots_i = TRUE, class = \"rlib_error_dots_nonempty\", \n .     call = call, env = env)",
      "4. try_dots(action(c(message, x = bullet_header, set_names(bullets, \n .     \"*\"), note), class = c(class, \"rlib_error_dots\"), ...))",
      "5. action(c(message, x = bullet_header, set_names(bullets, \"*\"), \n .     note), class = c(class, \"rlib_error_dots\"), ...)",
      "6. signal_abort(cnd, .file)",
      "7. signalCondition(cnd)"
     ]
    }
   ],
   "source": [
    "# Step 7 - Tune the Workflow and Train All Models:\n",
    "# (this step requires patience; run time 5-30 minutes)\n",
    "set.seed(888)\n",
    "TuneResultsNN = tune_grid(TuneWFModelNN, resamples = FoldsForTuningNN,\n",
    "  grid = ParGridNN, metrics = metric_set(rmse, rsq, mae))\n",
    "\n",
    "# Guard: if all models failed (e.g., torch not loaded for brulee), show notes and stop gracefully\n",
    "if (inherits(TuneResultsNN, \"try-error\") ||\n",
    "    (!is.null(attr(TuneResultsNN, \"notes\")) && length(attr(TuneResultsNN, \"notes\")) > 0)) {\n",
    "  try(show_notes(TuneResultsNN), silent = TRUE)\n",
    "}\n",
    "\n",
    "# Step 8 - Extract the Best Hyper-Parameter(s)\n",
    "BestHyperParNN = select_best(TuneResultsNN, metric = \"rmse\")\n",
    "print(\"Best Hyper-Parameters:\")\n",
    "print(BestHyperParNN)"
   ]
  },
  {
   "cell_type": "code",
   "execution_count": 323,
   "id": "9bf045e4",
   "metadata": {
    "vscode": {
     "languageId": "r"
    }
   },
   "outputs": [],
   "source": [
    "torch::install_torch()\n",
    "install_torch()"
   ]
  },
  {
   "cell_type": "code",
   "execution_count": 325,
   "id": "ed0afdb8",
   "metadata": {
    "vscode": {
     "languageId": "r"
    }
   },
   "outputs": [
    {
     "name": "stderr",
     "output_type": "stream",
     "text": [
      "[Attempt 1] Installing libtorch backend...\n",
      "\n",
      "Warning message in utils::download.file(url = url, destfile = destfile):\n",
      "\"the 'wininet' method is deprecated for http:// and https:// URLs\"\n",
      "Warning message in file.copy(from = dir(url, full.names = TRUE), to = file.path(inst_path, :\n",
      "\"problem copying C:\\Users\\Nasim\\AppData\\Local\\Temp\\RtmpEbR4Wj\\file20681506b5d\\libtorch\\share\\cmake\\Caffe2\\Modules_CUDA_fix\\README.md to C:\\Users\\Nasim\\R-torch-home\\share\\cmake\\Caffe2\\Modules_CUDA_fix\\README.md: No space left on device\"\n",
      "Warning message in file.copy(from = dir(url, full.names = TRUE), to = file.path(inst_path, :\n",
      "\"problem creating directory C:\\Users\\Nasim\\R-torch-home\\share\\cmake\\Caffe2\\Modules_CUDA_fix\\upstream: No space left on device\"\n",
      "Warning message in file.copy(from = dir(url, full.names = TRUE), to = file.path(inst_path, :\n",
      "\"problem copying C:\\Users\\Nasim\\AppData\\Local\\Temp\\RtmpEbR4Wj\\file20681506b5d\\libtorch\\share\\cmake\\Caffe2\\public\\LoadHIP.cmake to C:\\Users\\Nasim\\R-torch-home\\share\\cmake\\Caffe2\\public\\LoadHIP.cmake: No space left on device\"\n",
      "Warning message in file.copy(from = dir(url, full.names = TRUE), to = file.path(inst_path, :\n",
      "\"problem copying C:\\Users\\Nasim\\AppData\\Local\\Temp\\RtmpEbR4Wj\\file20681506b5d\\libtorch\\share\\cmake\\Caffe2\\public\\mkl.cmake to C:\\Users\\Nasim\\R-torch-home\\share\\cmake\\Caffe2\\public\\mkl.cmake: No space left on device\"\n",
      "Warning message in file.copy(from = dir(url, full.names = TRUE), to = file.path(inst_path, :\n",
      "\"problem copying C:\\Users\\Nasim\\AppData\\Local\\Temp\\RtmpEbR4Wj\\file20681506b5d\\libtorch\\share\\cmake\\Caffe2\\public\\mkldnn.cmake to C:\\Users\\Nasim\\R-torch-home\\share\\cmake\\Caffe2\\public\\mkldnn.cmake: No space left on device\"\n",
      "Warning message in file.copy(from = dir(url, full.names = TRUE), to = file.path(inst_path, :\n",
      "\"problem copying C:\\Users\\Nasim\\AppData\\Local\\Temp\\RtmpEbR4Wj\\file20681506b5d\\libtorch\\share\\cmake\\Caffe2\\public\\protobuf.cmake to C:\\Users\\Nasim\\R-torch-home\\share\\cmake\\Caffe2\\public\\protobuf.cmake: No space left on device\"\n",
      "Warning message in file.copy(from = dir(url, full.names = TRUE), to = file.path(inst_path, :\n",
      "\"problem copying C:\\Users\\Nasim\\AppData\\Local\\Temp\\RtmpEbR4Wj\\file20681506b5d\\libtorch\\share\\cmake\\Caffe2\\public\\utils.cmake to C:\\Users\\Nasim\\R-torch-home\\share\\cmake\\Caffe2\\public\\utils.cmake: No space left on device\"\n",
      "Warning message in file.copy(from = dir(url, full.names = TRUE), to = file.path(inst_path, :\n",
      "\"problem copying C:\\Users\\Nasim\\AppData\\Local\\Temp\\RtmpEbR4Wj\\file20681506b5d\\libtorch\\share\\cmake\\Caffe2\\public\\xpu.cmake to C:\\Users\\Nasim\\R-torch-home\\share\\cmake\\Caffe2\\public\\xpu.cmake: No space left on device\"\n",
      "Warning message in file.copy(from = dir(url, full.names = TRUE), to = file.path(inst_path, :\n",
      "\"problem copying C:\\Users\\Nasim\\AppData\\Local\\Temp\\RtmpEbR4Wj\\file20681506b5d\\libtorch\\share\\cpuinfo\\cpuinfo-targets.cmake to C:\\Users\\Nasim\\R-torch-home\\share\\cpuinfo\\cpuinfo-targets.cmake: No space left on device\"\n",
      "Warning message in utils::download.file(url = url, destfile = destfile):\n",
      "\"the 'wininet' method is deprecated for http:// and https:// URLs\"\n"
     ]
    },
    {
     "name": "stdout",
     "output_type": "stream",
     "text": [
      "\n",
      "✓ Torch backend installed successfully at:\n",
      "  C:\\Users\\Nasim/R-torch-home \n"
     ]
    }
   ],
   "source": [
    "# Robust Torch Installation (Windows/corporate friendly)\n",
    "# - Longer timeout + Windows download method\n",
    "# - User-writable TEMP/TORCH_HOME\n",
    "# - Retry install\n",
    "\n",
    "options(timeout = max(600, getOption(\"timeout\", 60)))\n",
    "if (.Platform$OS.type == \"windows\") {\n",
    "  options(download.file.method = \"wininet\")\n",
    "}\n",
    "\n",
    "user_home <- Sys.getenv(\"USERPROFILE\", unset = normalizePath(\"~\"))\n",
    "torch_tmp  <- file.path(user_home, \"R-torch-tmp\")\n",
    "torch_home <- file.path(user_home, \"R-torch-home\")\n",
    "\n",
    "invisible(dir.create(torch_tmp, recursive = TRUE, showWarnings = FALSE))\n",
    "invisible(dir.create(torch_home, recursive = TRUE, showWarnings = FALSE))\n",
    "\n",
    "Sys.setenv(TMP = torch_tmp, TEMP = torch_tmp, TMPDIR = torch_tmp)\n",
    "Sys.setenv(TORCH_HOME = torch_home)\n",
    "\n",
    "if (!requireNamespace(\"torch\", quietly = TRUE)) {\n",
    "  install.packages(\"torch\", repos = \"https://cran.r-project.org\", quiet = TRUE)\n",
    "}\n",
    "library(torch)\n",
    "\n",
    "ok <- FALSE\n",
    "for (i in 1:2) {\n",
    "  message(sprintf(\"[Attempt %d] Installing libtorch backend...\", i))\n",
    "  try(torch::install_torch(type = \"cpu\"), silent = TRUE)\n",
    "  if (torch::torch_is_installed()) { ok <- TRUE; break } else { Sys.sleep(3) }\n",
    "}\n",
    "\n",
    "if (ok) {\n",
    "  cat(\"\\n✓ Torch backend installed successfully at:\\n \", torch_home, \"\\n\")\n",
    "} else {\n",
    "  cat(\"\\n⚠️ Torch backend installation still failed.\\n\",\n",
    "      \"Check disk space, antivirus exclusions for \", torch_tmp,\n",
    "      \", and network access to https://download.pytorch.org/.\\n\",\n",
    "      \"Fallback to 'nnet' engine should be used for NN.\\n\", sep = \"\")\n",
    "}"
   ]
  },
  {
   "cell_type": "code",
   "execution_count": 326,
   "id": "dace3823",
   "metadata": {
    "vscode": {
     "languageId": "r"
    }
   },
   "outputs": [],
   "source": [
    "DataTitanic=import(\"https://ai.lange-analytics.com/data/Titanic.csv\") |>\n",
    "clean_names(\"upper_camel\") |>\n",
    "select(Survived, Sex, Class=Pclass, Age,\n",
    "Fare=FareInPounds) |>\n",
    "mutate(Survived=as.logical(Survived)) |>\n",
    "mutate(Survived=as.factor(Survived))"
   ]
  },
  {
   "cell_type": "code",
   "execution_count": 327,
   "id": "90f6e2d6",
   "metadata": {
    "vscode": {
     "languageId": "r"
    }
   },
   "outputs": [
    {
     "data": {
      "text/html": [
       "<table class=\"dataframe\">\n",
       "<caption>A data.frame: 6 × 5</caption>\n",
       "<thead>\n",
       "\t<tr><th></th><th scope=col>Survived</th><th scope=col>Sex</th><th scope=col>Class</th><th scope=col>Age</th><th scope=col>Fare</th></tr>\n",
       "\t<tr><th></th><th scope=col>&lt;fct&gt;</th><th scope=col>&lt;chr&gt;</th><th scope=col>&lt;int&gt;</th><th scope=col>&lt;dbl&gt;</th><th scope=col>&lt;dbl&gt;</th></tr>\n",
       "</thead>\n",
       "<tbody>\n",
       "\t<tr><th scope=row>1</th><td>FALSE</td><td>male  </td><td>3</td><td>35</td><td> 8.0500</td></tr>\n",
       "\t<tr><th scope=row>2</th><td>FALSE</td><td>male  </td><td>1</td><td>54</td><td>51.8625</td></tr>\n",
       "\t<tr><th scope=row>3</th><td>FALSE</td><td>male  </td><td>3</td><td> 2</td><td>21.0750</td></tr>\n",
       "\t<tr><th scope=row>4</th><td>FALSE</td><td>male  </td><td>3</td><td>20</td><td> 8.0500</td></tr>\n",
       "\t<tr><th scope=row>5</th><td>FALSE</td><td>male  </td><td>3</td><td>39</td><td>31.2750</td></tr>\n",
       "\t<tr><th scope=row>6</th><td>FALSE</td><td>female</td><td>3</td><td>14</td><td> 7.8542</td></tr>\n",
       "</tbody>\n",
       "</table>\n"
      ],
      "text/latex": [
       "A data.frame: 6 × 5\n",
       "\\begin{tabular}{r|lllll}\n",
       "  & Survived & Sex & Class & Age & Fare\\\\\n",
       "  & <fct> & <chr> & <int> & <dbl> & <dbl>\\\\\n",
       "\\hline\n",
       "\t1 & FALSE & male   & 3 & 35 &  8.0500\\\\\n",
       "\t2 & FALSE & male   & 1 & 54 & 51.8625\\\\\n",
       "\t3 & FALSE & male   & 3 &  2 & 21.0750\\\\\n",
       "\t4 & FALSE & male   & 3 & 20 &  8.0500\\\\\n",
       "\t5 & FALSE & male   & 3 & 39 & 31.2750\\\\\n",
       "\t6 & FALSE & female & 3 & 14 &  7.8542\\\\\n",
       "\\end{tabular}\n"
      ],
      "text/markdown": [
       "\n",
       "A data.frame: 6 × 5\n",
       "\n",
       "| <!--/--> | Survived &lt;fct&gt; | Sex &lt;chr&gt; | Class &lt;int&gt; | Age &lt;dbl&gt; | Fare &lt;dbl&gt; |\n",
       "|---|---|---|---|---|---|\n",
       "| 1 | FALSE | male   | 3 | 35 |  8.0500 |\n",
       "| 2 | FALSE | male   | 1 | 54 | 51.8625 |\n",
       "| 3 | FALSE | male   | 3 |  2 | 21.0750 |\n",
       "| 4 | FALSE | male   | 3 | 20 |  8.0500 |\n",
       "| 5 | FALSE | male   | 3 | 39 | 31.2750 |\n",
       "| 6 | FALSE | female | 3 | 14 |  7.8542 |\n",
       "\n"
      ],
      "text/plain": [
       "  Survived Sex    Class Age Fare   \n",
       "1 FALSE    male   3     35   8.0500\n",
       "2 FALSE    male   1     54  51.8625\n",
       "3 FALSE    male   3      2  21.0750\n",
       "4 FALSE    male   3     20   8.0500\n",
       "5 FALSE    male   3     39  31.2750\n",
       "6 FALSE    female 3     14   7.8542"
      ]
     },
     "metadata": {},
     "output_type": "display_data"
    }
   ],
   "source": [
    "set.seed(777)\n",
    "Split7525=initial_split(DataTitanic, strata=Survived)\n",
    "DataTrain=training(Split7525)\n",
    "DataTest=testing(Split7525)\n",
    "head(DataTrain)"
   ]
  },
  {
   "cell_type": "code",
   "execution_count": null,
   "id": "4f28c153",
   "metadata": {
    "vscode": {
     "languageId": "r"
    }
   },
   "outputs": [],
   "source": [
    "RecipeTitanic=recipe(Survived~., data=DataTrain)\n",
    "\n",
    "\n",
    "ModelDesignDecTree=decision_tree(tree_depth=3) |>\n",
    "set_engine(\"rpart\") |>\n",
    "set_mode(\"classification\")"
   ]
  },
  {
   "cell_type": "code",
   "execution_count": 329,
   "id": "e31f841e",
   "metadata": {
    "vscode": {
     "languageId": "r"
    }
   },
   "outputs": [],
   "source": [
    "WfModelTitanic=workflow() |>\n",
    "add_model(ModelDesignDecTree) |>\n",
    "add_recipe(RecipeTitanic) |>\n",
    "fit(DataTrain)"
   ]
  },
  {
   "cell_type": "code",
   "execution_count": 333,
   "id": "0151e57d",
   "metadata": {
    "vscode": {
     "languageId": "r"
    }
   },
   "outputs": [
    {
     "name": "stderr",
     "output_type": "stream",
     "text": [
      "Warning message:\n",
      "\"package 'rpart.plot' is in use and will not be installed\"\n"
     ]
    },
    {
     "data": {
      "image/png": "[encoded data removed]",
      "text/plain": [
       "plot without title"
      ]
     },
     "metadata": {
      "image/png": {
       "height": 420,
       "width": 420
      }
     },
     "output_type": "display_data"
    }
   ],
   "source": [
    "install.packages(\"rpart.plot\")\n",
    "library(rpart.plot)\n",
    "rpart.plot(extract_fit_engine(WfModelTitanic),\n",
    "yes.text=\"YES\", no.text=\"NO\",roundint=FALSE)"
   ]
  },
  {
   "cell_type": "code",
   "execution_count": 334,
   "id": "4f7f20ca",
   "metadata": {
    "vscode": {
     "languageId": "r"
    }
   },
   "outputs": [
    {
     "data": {
      "text/html": [
       "<table class=\"dataframe\">\n",
       "<caption>A tibble: 6 × 8</caption>\n",
       "<thead>\n",
       "\t<tr><th scope=col>.pred_class</th><th scope=col>.pred_FALSE</th><th scope=col>.pred_TRUE</th><th scope=col>Survived</th><th scope=col>Sex</th><th scope=col>Class</th><th scope=col>Age</th><th scope=col>Fare</th></tr>\n",
       "\t<tr><th scope=col>&lt;fct&gt;</th><th scope=col>&lt;dbl&gt;</th><th scope=col>&lt;dbl&gt;</th><th scope=col>&lt;fct&gt;</th><th scope=col>&lt;chr&gt;</th><th scope=col>&lt;int&gt;</th><th scope=col>&lt;dbl&gt;</th><th scope=col>&lt;dbl&gt;</th></tr>\n",
       "</thead>\n",
       "<tbody>\n",
       "\t<tr><td>FALSE</td><td>0.83000000</td><td>0.1700000</td><td>FALSE</td><td>male  </td><td>3</td><td>22</td><td> 7.2500</td></tr>\n",
       "\t<tr><td>TRUE </td><td>0.04918033</td><td>0.9508197</td><td>TRUE </td><td>female</td><td>1</td><td>35</td><td>53.1000</td></tr>\n",
       "\t<tr><td>FALSE</td><td>0.83000000</td><td>0.1700000</td><td>FALSE</td><td>male  </td><td>3</td><td>27</td><td> 8.4583</td></tr>\n",
       "\t<tr><td>TRUE </td><td>0.40217391</td><td>0.5978261</td><td>TRUE </td><td>female</td><td>3</td><td>27</td><td>11.1333</td></tr>\n",
       "\t<tr><td>TRUE </td><td>0.40217391</td><td>0.5978261</td><td>FALSE</td><td>female</td><td>3</td><td>31</td><td>18.0000</td></tr>\n",
       "\t<tr><td>FALSE</td><td>0.83000000</td><td>0.1700000</td><td>FALSE</td><td>male  </td><td>2</td><td>35</td><td>26.0000</td></tr>\n",
       "</tbody>\n",
       "</table>\n"
      ],
      "text/latex": [
       "A tibble: 6 × 8\n",
       "\\begin{tabular}{llllllll}\n",
       " .pred\\_class & .pred\\_FALSE & .pred\\_TRUE & Survived & Sex & Class & Age & Fare\\\\\n",
       " <fct> & <dbl> & <dbl> & <fct> & <chr> & <int> & <dbl> & <dbl>\\\\\n",
       "\\hline\n",
       "\t FALSE & 0.83000000 & 0.1700000 & FALSE & male   & 3 & 22 &  7.2500\\\\\n",
       "\t TRUE  & 0.04918033 & 0.9508197 & TRUE  & female & 1 & 35 & 53.1000\\\\\n",
       "\t FALSE & 0.83000000 & 0.1700000 & FALSE & male   & 3 & 27 &  8.4583\\\\\n",
       "\t TRUE  & 0.40217391 & 0.5978261 & TRUE  & female & 3 & 27 & 11.1333\\\\\n",
       "\t TRUE  & 0.40217391 & 0.5978261 & FALSE & female & 3 & 31 & 18.0000\\\\\n",
       "\t FALSE & 0.83000000 & 0.1700000 & FALSE & male   & 2 & 35 & 26.0000\\\\\n",
       "\\end{tabular}\n"
      ],
      "text/markdown": [
       "\n",
       "A tibble: 6 × 8\n",
       "\n",
       "| .pred_class &lt;fct&gt; | .pred_FALSE &lt;dbl&gt; | .pred_TRUE &lt;dbl&gt; | Survived &lt;fct&gt; | Sex &lt;chr&gt; | Class &lt;int&gt; | Age &lt;dbl&gt; | Fare &lt;dbl&gt; |\n",
       "|---|---|---|---|---|---|---|---|\n",
       "| FALSE | 0.83000000 | 0.1700000 | FALSE | male   | 3 | 22 |  7.2500 |\n",
       "| TRUE  | 0.04918033 | 0.9508197 | TRUE  | female | 1 | 35 | 53.1000 |\n",
       "| FALSE | 0.83000000 | 0.1700000 | FALSE | male   | 3 | 27 |  8.4583 |\n",
       "| TRUE  | 0.40217391 | 0.5978261 | TRUE  | female | 3 | 27 | 11.1333 |\n",
       "| TRUE  | 0.40217391 | 0.5978261 | FALSE | female | 3 | 31 | 18.0000 |\n",
       "| FALSE | 0.83000000 | 0.1700000 | FALSE | male   | 2 | 35 | 26.0000 |\n",
       "\n"
      ],
      "text/plain": [
       "  .pred_class .pred_FALSE .pred_TRUE Survived Sex    Class Age Fare   \n",
       "1 FALSE       0.83000000  0.1700000  FALSE    male   3     22   7.2500\n",
       "2 TRUE        0.04918033  0.9508197  TRUE     female 1     35  53.1000\n",
       "3 FALSE       0.83000000  0.1700000  FALSE    male   3     27   8.4583\n",
       "4 TRUE        0.40217391  0.5978261  TRUE     female 3     27  11.1333\n",
       "5 TRUE        0.40217391  0.5978261  FALSE    female 3     31  18.0000\n",
       "6 FALSE       0.83000000  0.1700000  FALSE    male   2     35  26.0000"
      ]
     },
     "metadata": {},
     "output_type": "display_data"
    }
   ],
   "source": [
    "DataTestWithPred=augment(WfModelTitanic, new_data=DataTest)\n",
    "head(DataTestWithPred)"
   ]
  },
  {
   "cell_type": "code",
   "execution_count": 335,
   "id": "a0d1cb5e",
   "metadata": {
    "vscode": {
     "languageId": "r"
    }
   },
   "outputs": [
    {
     "data": {
      "text/plain": [
       "          Truth\n",
       "Prediction FALSE TRUE\n",
       "     FALSE   123   23\n",
       "     TRUE     14   63"
      ]
     },
     "metadata": {},
     "output_type": "display_data"
    }
   ],
   "source": [
    "conf_mat(DataTestWithPred, truth=Survived, estimate=.pred_class)"
   ]
  },
  {
   "cell_type": "code",
   "execution_count": 336,
   "id": "61eb98ff",
   "metadata": {
    "vscode": {
     "languageId": "r"
    }
   },
   "outputs": [
    {
     "data": {
      "text/html": [
       "<table class=\"dataframe\">\n",
       "<caption>A tibble: 3 × 3</caption>\n",
       "<thead>\n",
       "\t<tr><th scope=col>.metric</th><th scope=col>.estimator</th><th scope=col>.estimate</th></tr>\n",
       "\t<tr><th scope=col>&lt;chr&gt;</th><th scope=col>&lt;chr&gt;</th><th scope=col>&lt;dbl&gt;</th></tr>\n",
       "</thead>\n",
       "<tbody>\n",
       "\t<tr><td>accuracy   </td><td>binary</td><td>0.8340807</td></tr>\n",
       "\t<tr><td>sensitivity</td><td>binary</td><td>0.8978102</td></tr>\n",
       "\t<tr><td>specificity</td><td>binary</td><td>0.7325581</td></tr>\n",
       "</tbody>\n",
       "</table>\n"
      ],
      "text/latex": [
       "A tibble: 3 × 3\n",
       "\\begin{tabular}{lll}\n",
       " .metric & .estimator & .estimate\\\\\n",
       " <chr> & <chr> & <dbl>\\\\\n",
       "\\hline\n",
       "\t accuracy    & binary & 0.8340807\\\\\n",
       "\t sensitivity & binary & 0.8978102\\\\\n",
       "\t specificity & binary & 0.7325581\\\\\n",
       "\\end{tabular}\n"
      ],
      "text/markdown": [
       "\n",
       "A tibble: 3 × 3\n",
       "\n",
       "| .metric &lt;chr&gt; | .estimator &lt;chr&gt; | .estimate &lt;dbl&gt; |\n",
       "|---|---|---|\n",
       "| accuracy    | binary | 0.8340807 |\n",
       "| sensitivity | binary | 0.8978102 |\n",
       "| specificity | binary | 0.7325581 |\n",
       "\n"
      ],
      "text/plain": [
       "  .metric     .estimator .estimate\n",
       "1 accuracy    binary     0.8340807\n",
       "2 sensitivity binary     0.8978102\n",
       "3 specificity binary     0.7325581"
      ]
     },
     "metadata": {},
     "output_type": "display_data"
    }
   ],
   "source": [
    "metricSetTitanic=metric_set(accuracy, sensitivity, specificity)\n",
    "metricSetTitanic(DataTestWithPred, truth=Survived, estimate=.pred_class)"
   ]
  }
 ],
 "metadata": {
  "kernelspec": {
   "display_name": "R",
   "language": "R",
   "name": "ir"
  },
  "language_info": {
   "codemirror_mode": "r",
   "file_extension": ".r",
   "mimetype": "text/x-r-source",
   "name": "R",
   "pygments_lexer": "r",
   "version": "4.4.2"
  }
 },
 "nbformat": 4,
 "nbformat_minor": 5
}
